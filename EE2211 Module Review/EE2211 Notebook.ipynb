{
 "cells": [
  {
   "cell_type": "code",
   "execution_count": 124,
   "metadata": {},
   "outputs": [],
   "source": [
    "import numpy as np\n",
    "import pandas as pd\n",
    "\n",
    "import matplotlib.pyplot as plt\n",
    "\n",
    "import operator\n",
    "\n",
    "from sklearn.metrics import mean_squared_error, mean_absolute_error, accuracy_score, roc_auc_score\n",
    "from sklearn.preprocessing import PolynomialFeatures\n",
    "from sklearn.linear_model import LinearRegression\n",
    "from sklearn.preprocessing import OneHotEncoder\n",
    "from sklearn.tree import DecisionTreeClassifier\n",
    "from sklearn.tree import DecisionTreeRegressor\n",
    "from sklearn import tree\n",
    "\n",
    "from scipy.integrate import quad\n",
    "from scipy import stats\n",
    "\n",
    "from itertools import permutations\n",
    "import math\n",
    "\n",
    "from sklearn.datasets import load_iris\n",
    "import numpy as np\n",
    "import random as rd\n",
    "import pandas as pd\n",
    "from matplotlib import pyplot as plt\n",
    "from sklearn.metrics import accuracy_score\n",
    "\n",
    "from sympy import Symbol,diff,exp"
   ]
  },
  {
   "cell_type": "markdown",
   "metadata": {},
   "source": [
    "# Probability and stats"
   ]
  },
  {
   "cell_type": "markdown",
   "metadata": {},
   "source": [
    "Permutations and combinations"
   ]
  },
  {
   "cell_type": "code",
   "execution_count": 2,
   "metadata": {},
   "outputs": [],
   "source": [
    "def permute(object):\n",
    "    string = str(object)\n",
    "    perm_set = []\n",
    "    perm_repeated = permutations(string)\n",
    "    perm_list = [''.join(p) for p in permutations(string)]\n",
    "    for item in perm_list:\n",
    "        if item not in perm_set:\n",
    "            perm_set.append(item)\n",
    "    return perm_set\n",
    "\n",
    "def subset(string): #returns all subsets of a string (eg. abc - a, b, c, ab ...)\n",
    "    if len(string) == 0:\n",
    "        return ['']\n",
    "    else:\n",
    "        return subset(string[1:]) + [string[0] + x for x in subset(string[1:])]\n",
    "\n",
    "def combinations(string,k): #subset combinations of length k (nCk)\n",
    "    if k == 0:\n",
    "        return ['']\n",
    "    elif len(string) < k:\n",
    "        return ''\n",
    "    elif k == len(string):\n",
    "        return [string]\n",
    "    else:\n",
    "        combos_wo_first = combinations(string[1:],k)\n",
    "        intermediate = combinations(string[1:], k-1)\n",
    "        combos_w_first = [string[0] + i for i in intermediate]\n",
    "        return combos_wo_first + combos_w_first"
   ]
  },
  {
   "cell_type": "code",
   "execution_count": 3,
   "metadata": {},
   "outputs": [],
   "source": [
    "#permute('221')\n",
    "#subset('string')\n",
    "#combinations('123',2)"
   ]
  },
  {
   "cell_type": "markdown",
   "metadata": {},
   "source": [
    "# Matrices"
   ]
  },
  {
   "cell_type": "markdown",
   "metadata": {},
   "source": [
    "Matrix information: shape, rank, determinant, transpose, inverse, linear dependence"
   ]
  },
  {
   "cell_type": "code",
   "execution_count": 167,
   "metadata": {},
   "outputs": [
    {
     "name": "stdout",
     "output_type": "stream",
     "text": [
      "Shape is (3, 3)\n",
      "Rank is 2\n",
      "Linear independence: False\n",
      "Transpose is\n",
      "[[ 3 -1  5]\n",
      " [ 2  4  6]\n",
      " [ 1  2  3]]\n",
      "Not invertible\n"
     ]
    }
   ],
   "source": [
    "matrix = np.matrix([[3,2,1],[-1,4,2],[5,6,3]])\n",
    "#matrix = matrix@matrix.T\n",
    "\n",
    "print(f'Shape is {matrix.shape}')\n",
    "print(f'Rank is {np.linalg.matrix_rank(matrix)}')\n",
    "print(f'Linear independence: {np.linalg.matrix_rank(matrix) == matrix.shape[0]}')\n",
    "print(f'Transpose is')\n",
    "print(f'{matrix.getT()}')\n",
    "\n",
    "if matrix.shape[0] ==matrix.shape[1] and round(np.linalg.det(matrix),6) != 0:\n",
    "    print(f'Determinant is {np.linalg.det(matrix)}')\n",
    "    print('Inverse is')\n",
    "    print(f'{matrix.getI()}')\n",
    "else:\n",
    "    print('Not invertible')\n"
   ]
  },
  {
   "cell_type": "markdown",
   "metadata": {},
   "source": [
    "Matrix addition/subtraction and multiplication"
   ]
  },
  {
   "cell_type": "code",
   "execution_count": 5,
   "metadata": {},
   "outputs": [
    {
     "name": "stdout",
     "output_type": "stream",
     "text": [
      "[[ 2  4  6]\n",
      " [ 8 10 12]\n",
      " [14 16 18]]\n"
     ]
    }
   ],
   "source": [
    "matrix1 = np.matrix([[1,2,3],[4,5,6],[7,8,9]])\n",
    "matrix2 = np.matrix([[1,2,3],[4,5,6],[7,8,9]])\n",
    "\n",
    "print(matrix1 + matrix2)\n",
    "\n"
   ]
  },
  {
   "cell_type": "code",
   "execution_count": 152,
   "metadata": {},
   "outputs": [
    {
     "name": "stdout",
     "output_type": "stream",
     "text": [
      "[[ 30  36  42]\n",
      " [ 66  81  96]\n",
      " [102 126 150]]\n"
     ]
    }
   ],
   "source": [
    "matrix1 = np.matrix([[1,2,3],[4,5,6],[7,8,9]])\n",
    "matrix2 = np.matrix([[1,2,3],[4,5,6],[7,8,9]])\n",
    "\n",
    "if matrix1.shape[1] == matrix2.shape[0]:\n",
    "    print(matrix1 * matrix2)\n",
    "else:\n",
    "    print('Dimensions not aligned')"
   ]
  },
  {
   "cell_type": "code",
   "execution_count": 159,
   "metadata": {},
   "outputs": [
    {
     "ename": "LinAlgError",
     "evalue": "Singular matrix",
     "output_type": "error",
     "traceback": [
      "\u001b[1;31m---------------------------------------------------------------------------\u001b[0m",
      "\u001b[1;31mLinAlgError\u001b[0m                               Traceback (most recent call last)",
      "\u001b[1;32m<ipython-input-159-d4af0aca3808>\u001b[0m in \u001b[0;36m<module>\u001b[1;34m\u001b[0m\n\u001b[0;32m      6\u001b[0m \u001b[1;33m\u001b[0m\u001b[0m\n\u001b[0;32m      7\u001b[0m \u001b[0mATA\u001b[0m \u001b[1;33m=\u001b[0m \u001b[0mA\u001b[0m\u001b[1;33m.\u001b[0m\u001b[0mT\u001b[0m\u001b[1;33m@\u001b[0m\u001b[0mA\u001b[0m\u001b[1;33m\u001b[0m\u001b[1;33m\u001b[0m\u001b[0m\n\u001b[1;32m----> 8\u001b[1;33m \u001b[0minvATA\u001b[0m \u001b[1;33m=\u001b[0m \u001b[0mnp\u001b[0m\u001b[1;33m.\u001b[0m\u001b[0mlinalg\u001b[0m\u001b[1;33m.\u001b[0m\u001b[0minv\u001b[0m\u001b[1;33m(\u001b[0m\u001b[0mATA\u001b[0m\u001b[1;33m)\u001b[0m\u001b[1;33m\u001b[0m\u001b[1;33m\u001b[0m\u001b[0m\n\u001b[0m",
      "\u001b[1;32m<__array_function__ internals>\u001b[0m in \u001b[0;36minv\u001b[1;34m(*args, **kwargs)\u001b[0m\n",
      "\u001b[1;32m~\\anaconda3\\lib\\site-packages\\numpy\\linalg\\linalg.py\u001b[0m in \u001b[0;36minv\u001b[1;34m(a)\u001b[0m\n\u001b[0;32m    545\u001b[0m     \u001b[0msignature\u001b[0m \u001b[1;33m=\u001b[0m \u001b[1;34m'D->D'\u001b[0m \u001b[1;32mif\u001b[0m \u001b[0misComplexType\u001b[0m\u001b[1;33m(\u001b[0m\u001b[0mt\u001b[0m\u001b[1;33m)\u001b[0m \u001b[1;32melse\u001b[0m \u001b[1;34m'd->d'\u001b[0m\u001b[1;33m\u001b[0m\u001b[1;33m\u001b[0m\u001b[0m\n\u001b[0;32m    546\u001b[0m     \u001b[0mextobj\u001b[0m \u001b[1;33m=\u001b[0m \u001b[0mget_linalg_error_extobj\u001b[0m\u001b[1;33m(\u001b[0m\u001b[0m_raise_linalgerror_singular\u001b[0m\u001b[1;33m)\u001b[0m\u001b[1;33m\u001b[0m\u001b[1;33m\u001b[0m\u001b[0m\n\u001b[1;32m--> 547\u001b[1;33m     \u001b[0mainv\u001b[0m \u001b[1;33m=\u001b[0m \u001b[0m_umath_linalg\u001b[0m\u001b[1;33m.\u001b[0m\u001b[0minv\u001b[0m\u001b[1;33m(\u001b[0m\u001b[0ma\u001b[0m\u001b[1;33m,\u001b[0m \u001b[0msignature\u001b[0m\u001b[1;33m=\u001b[0m\u001b[0msignature\u001b[0m\u001b[1;33m,\u001b[0m \u001b[0mextobj\u001b[0m\u001b[1;33m=\u001b[0m\u001b[0mextobj\u001b[0m\u001b[1;33m)\u001b[0m\u001b[1;33m\u001b[0m\u001b[1;33m\u001b[0m\u001b[0m\n\u001b[0m\u001b[0;32m    548\u001b[0m     \u001b[1;32mreturn\u001b[0m \u001b[0mwrap\u001b[0m\u001b[1;33m(\u001b[0m\u001b[0mainv\u001b[0m\u001b[1;33m.\u001b[0m\u001b[0mastype\u001b[0m\u001b[1;33m(\u001b[0m\u001b[0mresult_t\u001b[0m\u001b[1;33m,\u001b[0m \u001b[0mcopy\u001b[0m\u001b[1;33m=\u001b[0m\u001b[1;32mFalse\u001b[0m\u001b[1;33m)\u001b[0m\u001b[1;33m)\u001b[0m\u001b[1;33m\u001b[0m\u001b[1;33m\u001b[0m\u001b[0m\n\u001b[0;32m    549\u001b[0m \u001b[1;33m\u001b[0m\u001b[0m\n",
      "\u001b[1;32m~\\anaconda3\\lib\\site-packages\\numpy\\linalg\\linalg.py\u001b[0m in \u001b[0;36m_raise_linalgerror_singular\u001b[1;34m(err, flag)\u001b[0m\n\u001b[0;32m     95\u001b[0m \u001b[1;33m\u001b[0m\u001b[0m\n\u001b[0;32m     96\u001b[0m \u001b[1;32mdef\u001b[0m \u001b[0m_raise_linalgerror_singular\u001b[0m\u001b[1;33m(\u001b[0m\u001b[0merr\u001b[0m\u001b[1;33m,\u001b[0m \u001b[0mflag\u001b[0m\u001b[1;33m)\u001b[0m\u001b[1;33m:\u001b[0m\u001b[1;33m\u001b[0m\u001b[1;33m\u001b[0m\u001b[0m\n\u001b[1;32m---> 97\u001b[1;33m     \u001b[1;32mraise\u001b[0m \u001b[0mLinAlgError\u001b[0m\u001b[1;33m(\u001b[0m\u001b[1;34m\"Singular matrix\"\u001b[0m\u001b[1;33m)\u001b[0m\u001b[1;33m\u001b[0m\u001b[1;33m\u001b[0m\u001b[0m\n\u001b[0m\u001b[0;32m     98\u001b[0m \u001b[1;33m\u001b[0m\u001b[0m\n\u001b[0;32m     99\u001b[0m \u001b[1;32mdef\u001b[0m \u001b[0m_raise_linalgerror_nonposdef\u001b[0m\u001b[1;33m(\u001b[0m\u001b[0merr\u001b[0m\u001b[1;33m,\u001b[0m \u001b[0mflag\u001b[0m\u001b[1;33m)\u001b[0m\u001b[1;33m:\u001b[0m\u001b[1;33m\u001b[0m\u001b[1;33m\u001b[0m\u001b[0m\n",
      "\u001b[1;31mLinAlgError\u001b[0m: Singular matrix"
     ]
    }
   ],
   "source": [
    "A = np.array([[1,2,3],[2,1,3]])\n",
    "\n",
    "AAT = A@A.T\n",
    "invAAT = np.linalg.inv(AAT)\n",
    "(A.T)@invAAT\n",
    "\n",
    "ATA = A.T@A\n",
    "invATA = np.linalg.inv(ATA)"
   ]
  },
  {
   "cell_type": "code",
   "execution_count": 189,
   "metadata": {},
   "outputs": [
    {
     "data": {
      "text/plain": [
       "False"
      ]
     },
     "execution_count": 189,
     "metadata": {},
     "output_type": "execute_result"
    }
   ],
   "source": [
    "a,b,c,d = 3,3,3,4\n",
    "\n",
    "int((7 + 4*a + 3*b + 2*c)%9) == int(d)"
   ]
  },
  {
   "cell_type": "markdown",
   "metadata": {},
   "source": [
    "# Solving matrices"
   ]
  },
  {
   "cell_type": "code",
   "execution_count": 7,
   "metadata": {},
   "outputs": [],
   "source": [
    "def under_det_system_dual(X,Y, norm_multiplier):\n",
    "    lambdaI = np.identity(len(X)) * norm_multiplier\n",
    "    print('XT is')\n",
    "    print(f'{X.T}')\n",
    "    print('XXT is')\n",
    "    print(f'{X@X.T}')\n",
    "    print('XXT + lambdaI is')\n",
    "    print(f'{X@X.T + lambdaI}')\n",
    "    print('inv(XXT + lambdaI) is')\n",
    "    print(f'{np.linalg.inv(X@X.T + lambdaI)}')\n",
    "    print('XT.inv(XXT + lambdaI) is')\n",
    "    print(f'{(X.T)@(np.linalg.inv(X@X.T + lambdaI))}')\n",
    "    return (X.T)@(np.linalg.inv(X@X.T + lambdaI))@Y\n",
    "\n",
    "def even_det_system(X,Y):\n",
    "    if (X.shape[0] == X.shape[1]) and (round(np.linalg.det(X),6) != 0):\n",
    "        print('invX is')\n",
    "        print(f'{np.linalg.inv(X)}')\n",
    "        return np.linalg.inv(X)@Y\n",
    "    else:\n",
    "        return 'No solution'\n",
    "    \n",
    "def over_det_system_primal(X,Y,norm_multiplier):\n",
    "    lambdaI = np.identity(X[0].size) * norm_multiplier\n",
    "    print('XT is')\n",
    "    print(f'{X.T}')\n",
    "    print('XTX is')\n",
    "    print(f'{X.T@X}')\n",
    "    print('XTX + lambdaI is')\n",
    "    print(f'{X.T@X + lambdaI}')\n",
    "    print('inv(XTX + lambdaI is')\n",
    "    print(f'{np.linalg.inv(X.T@X + lambdaI)}')\n",
    "    print('inv(XTX + lambdaI).XT is')\n",
    "    print(f'{np.linalg.inv(X.T@X + lambdaI)@X.T}')\n",
    "    return ((np.linalg.inv(X.T@X + lambdaI))@X.T)@Y\n",
    "\n",
    "def poly_reg_coeffmatrix_ridge(X,Y,degree,norm_multiplier,bias):\n",
    "    X = PolynomialFeatures(degree = degree).fit_transform(X) #creates matrix with bias and product terms\n",
    "    if not bias:\n",
    "        X = np.delete(X,[0],1)\n",
    "    if X[0].size == len(X):\n",
    "        print('System type: even determined system')\n",
    "        return even_det_system(X,Y)\n",
    "    elif X[0].size > len(X): #more unknowns than equations\n",
    "        print('System type: underdetermined system')\n",
    "        return under_det_system_dual(X,Y,norm_multiplier)\n",
    "    else: \n",
    "        print('System type: overdetermined system')\n",
    "        return over_det_system_primal(X,Y,norm_multiplier)"
   ]
  },
  {
   "cell_type": "code",
   "execution_count": 151,
   "metadata": {},
   "outputs": [
    {
     "name": "stdout",
     "output_type": "stream",
     "text": [
      "XT is\n",
      "[[1 2]\n",
      " [2 1]\n",
      " [3 3]]\n",
      "XTX is\n",
      "[[ 5  4  9]\n",
      " [ 4  5  9]\n",
      " [ 9  9 18]]\n",
      "XTX + lambdaI is\n",
      "[[ 5.  4.  9.]\n",
      " [ 4.  5.  9.]\n",
      " [ 9.  9. 18.]]\n",
      "inv(XTX + lambdaI is\n"
     ]
    },
    {
     "ename": "LinAlgError",
     "evalue": "Singular matrix",
     "output_type": "error",
     "traceback": [
      "\u001b[1;31m---------------------------------------------------------------------------\u001b[0m",
      "\u001b[1;31mLinAlgError\u001b[0m                               Traceback (most recent call last)",
      "\u001b[1;32m<ipython-input-151-ffb68afebe03>\u001b[0m in \u001b[0;36m<module>\u001b[1;34m\u001b[0m\n\u001b[0;32m      4\u001b[0m \u001b[1;31m#even_det_system(X,Y)\u001b[0m\u001b[1;33m\u001b[0m\u001b[1;33m\u001b[0m\u001b[1;33m\u001b[0m\u001b[0m\n\u001b[0;32m      5\u001b[0m \u001b[1;31m#under_det_system_dual(X_poly,Y, norm_multiplier)\u001b[0m\u001b[1;33m\u001b[0m\u001b[1;33m\u001b[0m\u001b[1;33m\u001b[0m\u001b[0m\n\u001b[1;32m----> 6\u001b[1;33m \u001b[0mover_det_system_primal\u001b[0m\u001b[1;33m(\u001b[0m\u001b[0mX\u001b[0m\u001b[1;33m,\u001b[0m\u001b[0mY\u001b[0m\u001b[1;33m,\u001b[0m\u001b[1;36m0\u001b[0m\u001b[1;33m)\u001b[0m\u001b[1;33m\u001b[0m\u001b[1;33m\u001b[0m\u001b[0m\n\u001b[0m\u001b[0;32m      7\u001b[0m \u001b[1;33m\u001b[0m\u001b[0m\n\u001b[0;32m      8\u001b[0m \u001b[1;31m#poly_reg_coeffmatrix_ridge(X,Y, degree = 1, norm_multiplier = 0, bias = False)\u001b[0m\u001b[1;33m\u001b[0m\u001b[1;33m\u001b[0m\u001b[1;33m\u001b[0m\u001b[0m\n",
      "\u001b[1;32m<ipython-input-7-d5a652b24508>\u001b[0m in \u001b[0;36mover_det_system_primal\u001b[1;34m(X, Y, norm_multiplier)\u001b[0m\n\u001b[0;32m     30\u001b[0m     \u001b[0mprint\u001b[0m\u001b[1;33m(\u001b[0m\u001b[1;34mf'{X.T@X + lambdaI}'\u001b[0m\u001b[1;33m)\u001b[0m\u001b[1;33m\u001b[0m\u001b[1;33m\u001b[0m\u001b[0m\n\u001b[0;32m     31\u001b[0m     \u001b[0mprint\u001b[0m\u001b[1;33m(\u001b[0m\u001b[1;34m'inv(XTX + lambdaI is'\u001b[0m\u001b[1;33m)\u001b[0m\u001b[1;33m\u001b[0m\u001b[1;33m\u001b[0m\u001b[0m\n\u001b[1;32m---> 32\u001b[1;33m     \u001b[0mprint\u001b[0m\u001b[1;33m(\u001b[0m\u001b[1;34mf'{np.linalg.inv(X.T@X + lambdaI)}'\u001b[0m\u001b[1;33m)\u001b[0m\u001b[1;33m\u001b[0m\u001b[1;33m\u001b[0m\u001b[0m\n\u001b[0m\u001b[0;32m     33\u001b[0m     \u001b[0mprint\u001b[0m\u001b[1;33m(\u001b[0m\u001b[1;34m'inv(XTX + lambdaI).XT is'\u001b[0m\u001b[1;33m)\u001b[0m\u001b[1;33m\u001b[0m\u001b[1;33m\u001b[0m\u001b[0m\n\u001b[0;32m     34\u001b[0m     \u001b[0mprint\u001b[0m\u001b[1;33m(\u001b[0m\u001b[1;34mf'{np.linalg.inv(X.T@X + lambdaI)@X.T}'\u001b[0m\u001b[1;33m)\u001b[0m\u001b[1;33m\u001b[0m\u001b[1;33m\u001b[0m\u001b[0m\n",
      "\u001b[1;32m<__array_function__ internals>\u001b[0m in \u001b[0;36minv\u001b[1;34m(*args, **kwargs)\u001b[0m\n",
      "\u001b[1;32m~\\anaconda3\\lib\\site-packages\\numpy\\linalg\\linalg.py\u001b[0m in \u001b[0;36minv\u001b[1;34m(a)\u001b[0m\n\u001b[0;32m    545\u001b[0m     \u001b[0msignature\u001b[0m \u001b[1;33m=\u001b[0m \u001b[1;34m'D->D'\u001b[0m \u001b[1;32mif\u001b[0m \u001b[0misComplexType\u001b[0m\u001b[1;33m(\u001b[0m\u001b[0mt\u001b[0m\u001b[1;33m)\u001b[0m \u001b[1;32melse\u001b[0m \u001b[1;34m'd->d'\u001b[0m\u001b[1;33m\u001b[0m\u001b[1;33m\u001b[0m\u001b[0m\n\u001b[0;32m    546\u001b[0m     \u001b[0mextobj\u001b[0m \u001b[1;33m=\u001b[0m \u001b[0mget_linalg_error_extobj\u001b[0m\u001b[1;33m(\u001b[0m\u001b[0m_raise_linalgerror_singular\u001b[0m\u001b[1;33m)\u001b[0m\u001b[1;33m\u001b[0m\u001b[1;33m\u001b[0m\u001b[0m\n\u001b[1;32m--> 547\u001b[1;33m     \u001b[0mainv\u001b[0m \u001b[1;33m=\u001b[0m \u001b[0m_umath_linalg\u001b[0m\u001b[1;33m.\u001b[0m\u001b[0minv\u001b[0m\u001b[1;33m(\u001b[0m\u001b[0ma\u001b[0m\u001b[1;33m,\u001b[0m \u001b[0msignature\u001b[0m\u001b[1;33m=\u001b[0m\u001b[0msignature\u001b[0m\u001b[1;33m,\u001b[0m \u001b[0mextobj\u001b[0m\u001b[1;33m=\u001b[0m\u001b[0mextobj\u001b[0m\u001b[1;33m)\u001b[0m\u001b[1;33m\u001b[0m\u001b[1;33m\u001b[0m\u001b[0m\n\u001b[0m\u001b[0;32m    548\u001b[0m     \u001b[1;32mreturn\u001b[0m \u001b[0mwrap\u001b[0m\u001b[1;33m(\u001b[0m\u001b[0mainv\u001b[0m\u001b[1;33m.\u001b[0m\u001b[0mastype\u001b[0m\u001b[1;33m(\u001b[0m\u001b[0mresult_t\u001b[0m\u001b[1;33m,\u001b[0m \u001b[0mcopy\u001b[0m\u001b[1;33m=\u001b[0m\u001b[1;32mFalse\u001b[0m\u001b[1;33m)\u001b[0m\u001b[1;33m)\u001b[0m\u001b[1;33m\u001b[0m\u001b[1;33m\u001b[0m\u001b[0m\n\u001b[0;32m    549\u001b[0m \u001b[1;33m\u001b[0m\u001b[0m\n",
      "\u001b[1;32m~\\anaconda3\\lib\\site-packages\\numpy\\linalg\\linalg.py\u001b[0m in \u001b[0;36m_raise_linalgerror_singular\u001b[1;34m(err, flag)\u001b[0m\n\u001b[0;32m     95\u001b[0m \u001b[1;33m\u001b[0m\u001b[0m\n\u001b[0;32m     96\u001b[0m \u001b[1;32mdef\u001b[0m \u001b[0m_raise_linalgerror_singular\u001b[0m\u001b[1;33m(\u001b[0m\u001b[0merr\u001b[0m\u001b[1;33m,\u001b[0m \u001b[0mflag\u001b[0m\u001b[1;33m)\u001b[0m\u001b[1;33m:\u001b[0m\u001b[1;33m\u001b[0m\u001b[1;33m\u001b[0m\u001b[0m\n\u001b[1;32m---> 97\u001b[1;33m     \u001b[1;32mraise\u001b[0m \u001b[0mLinAlgError\u001b[0m\u001b[1;33m(\u001b[0m\u001b[1;34m\"Singular matrix\"\u001b[0m\u001b[1;33m)\u001b[0m\u001b[1;33m\u001b[0m\u001b[1;33m\u001b[0m\u001b[0m\n\u001b[0m\u001b[0;32m     98\u001b[0m \u001b[1;33m\u001b[0m\u001b[0m\n\u001b[0;32m     99\u001b[0m \u001b[1;32mdef\u001b[0m \u001b[0m_raise_linalgerror_nonposdef\u001b[0m\u001b[1;33m(\u001b[0m\u001b[0merr\u001b[0m\u001b[1;33m,\u001b[0m \u001b[0mflag\u001b[0m\u001b[1;33m)\u001b[0m\u001b[1;33m:\u001b[0m\u001b[1;33m\u001b[0m\u001b[1;33m\u001b[0m\u001b[0m\n",
      "\u001b[1;31mLinAlgError\u001b[0m: Singular matrix"
     ]
    }
   ],
   "source": [
    "X = np.array([[1,2,3],[2,1,3]])\n",
    "Y = np.array([[1],[1]])\n",
    "\n",
    "#even_det_system(X,Y)\n",
    "#under_det_system_dual(X_poly,Y, norm_multiplier)\n",
    "#over_det_system_primal(X,Y,0)\n",
    "\n",
    "#poly_reg_coeffmatrix_ridge(X,Y, degree = 1, norm_multiplier = 0, bias = False)\n"
   ]
  },
  {
   "cell_type": "markdown",
   "metadata": {},
   "source": [
    "# Gradient descent"
   ]
  },
  {
   "cell_type": "markdown",
   "metadata": {},
   "source": [
    "Non-linear functions"
   ]
  },
  {
   "cell_type": "code",
   "execution_count": 9,
   "metadata": {},
   "outputs": [],
   "source": [
    "#exponential function\n",
    "def exp(x,y,w):\n",
    "    def f(x,w):\n",
    "        return np.exp(-x@w)\n",
    "    y_pred = f(x,w)\n",
    "    cost = np.sum((y_pred - y)*(y_pred - y))\n",
    "    grad = (-2 * ((y_pred - y) * y_pred).T @ x).T\n",
    "    return y_pred, cost, grad\n",
    "\n",
    "#sigmoid function\n",
    "def sigmoid(x,y,w):\n",
    "    def f(x,w):\n",
    "        return np.array(1/(1+np.exp(-x@w)))\n",
    "    y_pred = f(x,w)\n",
    "    cost = np.sum((y_pred - y)*(y_pred - y))\n",
    "    grad = (-2 * ((y_pred - y) * y_pred * (1-y_pred)).T @ x).T\n",
    "    return y_pred, cost, grad\n",
    "\n",
    "#ReLu function\n",
    "def relu(x,y,w):\n",
    "    def f(x,w):\n",
    "        return np.array(np.maximum(x@w, 0))\n",
    "    y_pred = f(x,w)\n",
    "    cost = np.sum((y_pred - y)*(y_pred - y).T)\n",
    "    grad = -2 * ((y_pred - y) * y_pred)\n",
    "    return y_pred, cost, grad\n",
    "\n",
    "#polynomial function\n",
    "def poly(x,y,w):\n",
    "    def f(x,w):\n",
    "        return np.array(x@w)\n",
    "    y_pred = f(x,w)\n",
    "    cost = np.sum((y_pred - y)*(y_pred - y))\n",
    "    grad = (-2 * ((y_pred - y)).T @ x).T\n",
    "    return y_pred, cost, grad\n"
   ]
  },
  {
   "cell_type": "code",
   "execution_count": 10,
   "metadata": {},
   "outputs": [
    {
     "name": "stdout",
     "output_type": "stream",
     "text": [
      "y_pred:\n"
     ]
    },
    {
     "ename": "NameError",
     "evalue": "name 'y_pred' is not defined",
     "output_type": "error",
     "traceback": [
      "\u001b[1;31m---------------------------------------------------------------------------\u001b[0m",
      "\u001b[1;31mNameError\u001b[0m                                 Traceback (most recent call last)",
      "\u001b[1;32m<ipython-input-10-ec803a35a5da>\u001b[0m in \u001b[0;36m<module>\u001b[1;34m\u001b[0m\n\u001b[0;32m     11\u001b[0m \u001b[1;33m\u001b[0m\u001b[0m\n\u001b[0;32m     12\u001b[0m \u001b[0mprint\u001b[0m\u001b[1;33m(\u001b[0m\u001b[1;34m'y_pred:'\u001b[0m\u001b[1;33m)\u001b[0m\u001b[1;33m\u001b[0m\u001b[1;33m\u001b[0m\u001b[0m\n\u001b[1;32m---> 13\u001b[1;33m \u001b[0mprint\u001b[0m\u001b[1;33m(\u001b[0m\u001b[0mnp\u001b[0m\u001b[1;33m.\u001b[0m\u001b[0marray\u001b[0m\u001b[1;33m(\u001b[0m\u001b[0my_pred\u001b[0m\u001b[1;33m)\u001b[0m\u001b[1;33m)\u001b[0m\u001b[1;33m\u001b[0m\u001b[1;33m\u001b[0m\u001b[0m\n\u001b[0m\u001b[0;32m     14\u001b[0m \u001b[1;33m\u001b[0m\u001b[0m\n\u001b[0;32m     15\u001b[0m \u001b[0mprint\u001b[0m\u001b[1;33m(\u001b[0m\u001b[1;34m'cost:'\u001b[0m\u001b[1;33m)\u001b[0m\u001b[1;33m\u001b[0m\u001b[1;33m\u001b[0m\u001b[0m\n",
      "\u001b[1;31mNameError\u001b[0m: name 'y_pred' is not defined"
     ]
    }
   ],
   "source": [
    "X = np.array([[1,1],[1,1]])\n",
    "Y = np.array([[1],[1]])\n",
    "w = np.array([[1],[1]])\n",
    "\n",
    "#X = PolynomialFeatures(degree = 3).fit_transform(X) #polynomial transform\n",
    "\n",
    "#y_pred, cost, grad = exp(X,Y,w)\n",
    "#y_pred, cost, grad = sigmoid(X,Y,w)\n",
    "#y_pred, cost, grad = relu(X,Y,w)\n",
    "#y_pred, cost, grad = poly(X,Y,w)\n",
    "\n",
    "print('y_pred:')\n",
    "print(np.array(y_pred))\n",
    "\n",
    "print('cost:')\n",
    "print(cost)\n",
    "\n",
    "print('grad:')\n",
    "print(grad)"
   ]
  },
  {
   "cell_type": "code",
   "execution_count": 166,
   "metadata": {},
   "outputs": [
    {
     "name": "stdout",
     "output_type": "stream",
     "text": [
      "[[ 1.  0.  2.  0.  0.  4.]\n",
      " [ 1.  0.  0.  0.  0.  0.]\n",
      " [ 1. -1.  1.  1. -1.  1.]\n",
      " [ 1.  1.  1.  1.  1.  1.]]\n",
      "[[1]\n",
      " [1]\n",
      " [2]\n",
      " [2]]\n"
     ]
    }
   ],
   "source": [
    "X = np.array([[0,2],[0,0],[-1,1],[1,1]])\n",
    "Y = np.array([[1],[1],[2],[2]])\n",
    "w = np.array([[1],[1]])\n",
    "\n",
    "X = PolynomialFeatures(degree = 2).fit_transform(X) #polynomial transform\n",
    "\n",
    "print(X)\n",
    "print(Y)"
   ]
  },
  {
   "cell_type": "markdown",
   "metadata": {},
   "source": [
    "Gradient descent"
   ]
  },
  {
   "cell_type": "code",
   "execution_count": 11,
   "metadata": {},
   "outputs": [],
   "source": [
    "def grad_desc(x_train,y_train,learning_rate,iterations, function):\n",
    "    #costs = []\n",
    "    w = np.array([[0], [0]]) #np.random.rand(x_train.shape[1],y_train.shape[1])\n",
    "    \n",
    "    #iterations\n",
    "    for i in range(iterations):\n",
    "        y_pred, cost, grad = function(x_train,y_train,w)\n",
    "        w = w - learning_rate*grad\n",
    "        #costs.append(cost)\n",
    "    return w#, costs"
   ]
  },
  {
   "cell_type": "code",
   "execution_count": 12,
   "metadata": {},
   "outputs": [
    {
     "name": "stdout",
     "output_type": "stream",
     "text": [
      "[[0.]\n",
      " [0.]]\n"
     ]
    }
   ],
   "source": [
    "X = np.array([[1,1],[1,1]])\n",
    "Y = np.array([[1],[1]])\n",
    "w = np.array([[1],[1]])\n",
    "\n",
    "learning_rate = 1e-2\n",
    "iterations = 100\n",
    "    \n",
    "w = grad_desc(X,Y,learning_rate,iterations, relu)\n",
    "print(w)"
   ]
  },
  {
   "cell_type": "markdown",
   "metadata": {},
   "source": [
    "Differentiation"
   ]
  },
  {
   "cell_type": "code",
   "execution_count": 2,
   "metadata": {},
   "outputs": [],
   "source": [
    "from sympy import Symbol,diff,exp, log, sin\n",
    "\n",
    "x = Symbol(\"x\")\n",
    "\n",
    "def poly(x):\n",
    "    return x**4\n",
    "\n",
    "def sigmoid(x):\n",
    "    return 1/(1+exp(-x))\n",
    "\n",
    "def exp_fn(x):\n",
    "    return exp(-x)\n",
    "\n",
    "def softmax(x):\n",
    "    return log(1+exp(x))\n",
    "\n",
    "def function(x):\n",
    "    return (sin(exp(x)))**2\n"
   ]
  },
  {
   "cell_type": "code",
   "execution_count": 215,
   "metadata": {},
   "outputs": [
    {
     "data": {
      "text/latex": [
       "$\\displaystyle \\frac{1}{e^{-10} + 1}$"
      ],
      "text/plain": [
       "1/(exp(-10) + 1)"
      ]
     },
     "execution_count": 215,
     "metadata": {},
     "output_type": "execute_result"
    }
   ],
   "source": [
    "sigmoid(10)"
   ]
  },
  {
   "cell_type": "code",
   "execution_count": 3,
   "metadata": {},
   "outputs": [
    {
     "data": {
      "text/latex": [
       "$\\displaystyle 2 e^{x} \\sin{\\left(e^{x} \\right)} \\cos{\\left(e^{x} \\right)}$"
      ],
      "text/plain": [
       "2*exp(x)*sin(exp(x))*cos(exp(x))"
      ]
     },
     "execution_count": 3,
     "metadata": {},
     "output_type": "execute_result"
    }
   ],
   "source": [
    "learning_rate = 0.2\n",
    "func = function(x)\n",
    "\n",
    "gradient = diff(func)\n",
    "updated_x = x - learning_rate*gradient\n",
    "\n",
    "#updated_x.subs(x,1)\n",
    "#gradient.subs(x,1)\n",
    "#updated_x\n",
    "gradient"
   ]
  },
  {
   "cell_type": "markdown",
   "metadata": {},
   "source": [
    "# Regression"
   ]
  },
  {
   "cell_type": "code",
   "execution_count": 175,
   "metadata": {},
   "outputs": [],
   "source": [
    "def regression(x_train,y_train,degree, norm_multiplier, bias, x_test, y_test, function, learning_rate, iterations):\n",
    "    \n",
    "    #training and predicting\n",
    "    if function == 'poly':\n",
    "        w = poly_reg_coeffmatrix_ridge(x_train,y_train, degree, norm_multiplier, bias)\n",
    "        x_train_poly, x_test_poly =  PolynomialFeatures(degree = degree).fit_transform(x_train), PolynomialFeatures(degree = degree).fit_transform(x_test)\n",
    "        if not bias:\n",
    "            x_test_poly = np.delete(x_test_poly,[0],1)\n",
    "            x_train_poly = np.delete(x_train_poly,[0],1)\n",
    "        y_pred, y_train_pred = x_test_poly@w, x_train_poly@w\n",
    "        \n",
    "    elif function == 'sigmoid': \n",
    "        w = grad_desc(x_train,y_train,learning_rate,iterations, sigmoid)\n",
    "        y_pred, y_train_pred = np.array(1/(1+np.exp(-x_test@w))), np.array(1/(1+np.exp(-x_train@w)))\n",
    "        \n",
    "    elif function == 'relu':\n",
    "        w = grad_desc(x_train,y_train,learning_rate,iterations, relu)\n",
    "        y_pred, y_train_pred = np.array(np.maximum(x_test@w, 0)), np.array(np.maximum(x_train@w, 0))\n",
    "        \n",
    "    elif function == 'exp':\n",
    "        w = grad_desc(x_train,y_train,learning_rate,iterations, exp)\n",
    "        y_pred, y_train_pred = np.array(np.exp(-x_test@w)), np.array(np.exp(-x_train@w))\n",
    "        \n",
    "    #evaluation\n",
    "    train_mse, test_mse = mean_squared_error(y_train,y_train_pred), mean_squared_error(y_test,y_pred)\n",
    "    train_mae, test_mae = mean_absolute_error(y_train,y_train_pred), mean_squared_error(y_test,y_pred)\n",
    "    \n",
    "    print(f'w is: {w}')\n",
    "    \n",
    "    print(f'Train prediction: {y_train_pred}')\n",
    "    print(f'Test prediction: {y_pred}')\n",
    "    \n",
    "    print('Model evaluation')\n",
    "    print(f'train mse: {train_mse}')\n",
    "    print(f'test mse: {test_mse}')\n",
    "    \n",
    "    return w, y_train_pred, y_pred, train_mse, test_mse"
   ]
  },
  {
   "cell_type": "code",
   "execution_count": 172,
   "metadata": {},
   "outputs": [
    {
     "name": "stdout",
     "output_type": "stream",
     "text": [
      "System type: overdetermined system\n",
      "XT is\n",
      "[[1. 1. 1. 1. 1.]\n",
      " [1. 0. 1. 0. 1.]\n",
      " [2. 6. 0. 5. 7.]]\n",
      "XTX is\n",
      "[[  5.   3.  20.]\n",
      " [  3.   3.   9.]\n",
      " [ 20.   9. 114.]]\n",
      "XTX + lambdaI is\n",
      "[[  5.5   3.   20. ]\n",
      " [  3.    3.5   9. ]\n",
      " [ 20.    9.  114.5]]\n",
      "inv(XTX + lambdaI is\n",
      "[[ 0.78346095 -0.40061256 -0.10535988]\n",
      " [-0.40061256  0.56294028  0.02572741]\n",
      " [-0.10535988  0.02572741  0.02511485]]\n",
      "inv(XTX + lambdaI).XT is\n",
      "[[ 0.17212864  0.15130168  0.38284839  0.25666156 -0.35467075]\n",
      " [ 0.21378254 -0.24624809  0.16232772 -0.2719755   0.3424196 ]\n",
      " [-0.02940276  0.04532925 -0.07963247  0.0202144   0.09617152]]\n",
      "w is: [[0.87656968]\n",
      " [0.83246554]\n",
      " [0.38407351]]\n",
      "Train prediction: [[2.47718224]\n",
      " [3.18101072]\n",
      " [1.70903522]\n",
      " [2.79693721]\n",
      " [4.39754977]]\n",
      "Test prediction: [[2.86125574]]\n",
      "Model evaluation\n",
      "train mse: 1.410750017002455\n",
      "test mse: 3.4642729398300762\n"
     ]
    }
   ],
   "source": [
    "x_train = np.array([[1,2],[0,6],[1,0],[0,5],[1,7]])\n",
    "y_train = np.array([[1],[2],[3],[4],[5]])\n",
    "\n",
    "x_test = np.array([[1,3]])\n",
    "y_test = np.array([[1]])\n",
    "\n",
    "regression(x_train = x_train,y_train = y_train,degree = 1, norm_multiplier = 0.5, bias = True, x_test = x_test, y_test = y_test, function = 'poly', learning_rate = 0.03, iterations = 1000)"
   ]
  },
  {
   "cell_type": "code",
   "execution_count": 193,
   "metadata": {},
   "outputs": [
    {
     "name": "stdout",
     "output_type": "stream",
     "text": [
      "System type: overdetermined system\n",
      "XT is\n",
      "[[  1.   1.   1.   1.   1.   1.]\n",
      " [-10.  -8.  -3.  -1.   2.   7.]\n",
      " [100.  64.   9.   1.   4.  49.]]\n",
      "XTX is\n",
      "[[ 6.0000e+00 -1.3000e+01  2.2700e+02]\n",
      " [-1.3000e+01  2.2700e+02 -1.1890e+03]\n",
      " [ 2.2700e+02 -1.1890e+03  1.6595e+04]]\n",
      "XTX + lambdaI is\n",
      "[[ 7.0000e+00 -1.3000e+01  2.2700e+02]\n",
      " [-1.3000e+01  2.2800e+02 -1.1890e+03]\n",
      " [ 2.2700e+02 -1.1890e+03  1.6596e+04]]\n",
      "inv(XTX + lambdaI is\n",
      "[[ 2.61743302e-01 -5.98046826e-03 -4.00858678e-03]\n",
      " [-5.98046826e-03  7.13868359e-03  5.93243015e-04]\n",
      " [-4.00858678e-03  5.93243015e-04  1.57587078e-04]]\n",
      "inv(XTX + lambdaI).XT is\n",
      "[[-0.07931069  0.05303749  0.24360743  0.26371518  0.23374802  0.02345927]\n",
      " [-0.018043   -0.02512238 -0.02205733 -0.01252591  0.01066987  0.07305922]\n",
      " [ 0.00581769  0.00133104 -0.00437003 -0.00444424 -0.00219175  0.00786588]]\n",
      "w is: [[0.01220454]\n",
      " [0.0856684 ]\n",
      " [0.04986016]]\n",
      "Train prediction: [[ 4.14153704]\n",
      " [ 2.5179079 ]\n",
      " [ 0.20394082]\n",
      " [-0.0236037 ]\n",
      " [ 0.38298199]\n",
      " [ 3.05503141]]\n",
      "Test prediction: [[3.2798623 ]\n",
      " [1.85567382]\n",
      " [0.83036666]\n",
      " [0.46729358]\n",
      " [0.0403084 ]\n",
      " [0.1477331 ]\n",
      " [1.15264077]\n",
      " [1.68705066]\n",
      " [2.32118087]\n",
      " [4.82189349]]\n",
      "Model evaluation\n",
      "train mse: 0.008620257908178173\n",
      "test mse: 0.03049435047027637\n",
      "System type: overdetermined system\n",
      "XT is\n",
      "[[  1.   1.   1.   1.   1.   1.]\n",
      " [-10.  -8.  -3.  -1.   2.   7.]\n",
      " [100.  64.   9.   1.   4.  49.]]\n",
      "XTX is\n",
      "[[ 6.0000e+00 -1.3000e+01  2.2700e+02]\n",
      " [-1.3000e+01  2.2700e+02 -1.1890e+03]\n",
      " [ 2.2700e+02 -1.1890e+03  1.6595e+04]]\n",
      "XTX + lambdaI is\n",
      "[[ 1.7000e+01 -1.3000e+01  2.2700e+02]\n",
      " [-1.3000e+01  2.3800e+02 -1.1890e+03]\n",
      " [ 2.2700e+02 -1.1890e+03  1.6606e+04]]\n",
      "inv(XTX + lambdaI is\n",
      "[[ 0.07231847 -0.0015391  -0.00109878]\n",
      " [-0.0015391   0.0065744   0.00049177]\n",
      " [-0.00109878  0.00049177  0.00011045]]\n",
      "inv(XTX + lambdaI).XT is\n",
      "[[-0.02216819  0.01430956  0.06704677  0.07275879  0.06484517  0.00770477]\n",
      " [-0.01810606 -0.02266099 -0.01683635 -0.00762172  0.01357678  0.0685784 ]\n",
      " [ 0.00502855  0.00203588 -0.00158003 -0.0014801   0.00032656  0.00775567]]\n",
      "w is: [[0.00524477]\n",
      " [0.07997886]\n",
      " [0.0495179 ]]\n",
      "Train prediction: [[ 4.15724649]\n",
      " [ 2.53455969]\n",
      " [ 0.21096932]\n",
      " [-0.02521619]\n",
      " [ 0.36327411]\n",
      " [ 2.99147407]]\n",
      "Test prediction: [[3.29638519]\n",
      " [1.87177   ]\n",
      " [0.84329805]\n",
      " [0.47761578]\n",
      " [0.04335866]\n",
      " [0.13474154]\n",
      " [1.11744668]\n",
      " [1.64308667]\n",
      " [2.26776247]\n",
      " [4.73600471]]\n",
      "Model evaluation\n",
      "train mse: 0.009650731983054618\n",
      "test mse: 0.03878654103699895\n",
      "System type: overdetermined system\n",
      "XT is\n",
      "[[  1.   1.   1.   1.   1.   1.]\n",
      " [-10.  -8.  -3.  -1.   2.   7.]\n",
      " [100.  64.   9.   1.   4.  49.]]\n",
      "XTX is\n",
      "[[ 6.0000e+00 -1.3000e+01  2.2700e+02]\n",
      " [-1.3000e+01  2.2700e+02 -1.1890e+03]\n",
      " [ 2.2700e+02 -1.1890e+03  1.6595e+04]]\n",
      "XTX + lambdaI is\n",
      "[[ 2.7000e+01 -1.3000e+01  2.2700e+02]\n",
      " [-1.3000e+01  2.4800e+02 -1.1890e+03]\n",
      " [ 2.2700e+02 -1.1890e+03  1.6616e+04]]\n",
      "inv(XTX + lambdaI is\n",
      "[[ 0.04195642 -0.00083532 -0.00063296]\n",
      " [-0.00083532  0.00615468  0.00045183]\n",
      " [-0.00063296  0.00045183  0.00010116]]\n",
      "inv(XTX + lambdaI).XT is\n",
      "[[-0.01298663  0.00812938  0.03876571  0.04215877  0.03775394  0.00509406]\n",
      " [-0.01719959 -0.02115594 -0.01523294 -0.00653818  0.01328135  0.06438693]\n",
      " [ 0.00496495  0.00222678 -0.00107798 -0.00098363  0.00067534  0.00748674]]\n",
      "w is: [[0.00402576]\n",
      " [0.07487649]\n",
      " [0.04913964]]\n",
      "Train prediction: [[ 4.1692251 ]\n",
      " [ 2.54995095]\n",
      " [ 0.22165307]\n",
      " [-0.02171109]\n",
      " [ 0.35033731]\n",
      " [ 2.93600369]]\n",
      "Test prediction: [[3.31044838]\n",
      " [1.88773281]\n",
      " [0.85813437]\n",
      " [0.49075408]\n",
      " [0.05083135]\n",
      " [0.12804189]\n",
      " [1.08976601]\n",
      " [1.60689928]\n",
      " [2.22231184]\n",
      " [4.65822523]]\n",
      "Model evaluation\n",
      "train mse: 0.011864342139989837\n",
      "test mse: 0.04866680804482077\n",
      "System type: overdetermined system\n",
      "XT is\n",
      "[[  1.   1.   1.   1.   1.   1.]\n",
      " [-10.  -8.  -3.  -1.   2.   7.]\n",
      " [100.  64.   9.   1.   4.  49.]]\n",
      "XTX is\n",
      "[[ 6.0000e+00 -1.3000e+01  2.2700e+02]\n",
      " [-1.3000e+01  2.2700e+02 -1.1890e+03]\n",
      " [ 2.2700e+02 -1.1890e+03  1.6595e+04]]\n",
      "XTX + lambdaI is\n",
      "[[ 3.7000e+01 -1.3000e+01  2.2700e+02]\n",
      " [-1.3000e+01  2.5800e+02 -1.1890e+03]\n",
      " [ 2.2700e+02 -1.1890e+03  1.6626e+04]]\n",
      "inv(XTX + lambdaI is\n",
      "[[ 2.95506182e-02 -5.52471024e-04 -4.42973559e-04]\n",
      " [-5.52471024e-04  5.79170279e-03  4.21733763e-04]\n",
      " [-4.42973559e-04  4.21733763e-04  9.63548925e-05]]\n",
      "inv(XTX + lambdaI).XT is\n",
      "[[-0.00922203  0.00562008  0.02722127  0.02966012  0.02667378  0.00397762]\n",
      " [-0.01629612 -0.01989513 -0.01413198 -0.00592244  0.01271787  0.0606544 ]\n",
      " [ 0.00497518  0.00234987 -0.00084098 -0.00076835  0.00078591  0.00723055]]\n",
      "w is: [[0.00346747]\n",
      " [0.07035487]\n",
      " [0.04879435]]\n",
      "Train prediction: [[ 4.17935354]\n",
      " [ 2.56346676]\n",
      " [ 0.23155199]\n",
      " [-0.01809305]\n",
      " [ 0.3393546 ]\n",
      " [ 2.8868746 ]]\n",
      "Test prediction: [[3.3226158 ]\n",
      " [1.90190642]\n",
      " [0.87155181]\n",
      " [0.50275755]\n",
      " [0.05793512]\n",
      " [0.12261669]\n",
      " [1.06559651]\n",
      " [1.57510051]\n",
      " [2.18219321]\n",
      " [4.58900347]]\n",
      "Model evaluation\n",
      "train mse: 0.0148572285225569\n",
      "test mse: 0.05928761040597671\n",
      "System type: overdetermined system\n",
      "XT is\n",
      "[[  1.   1.   1.   1.   1.   1.]\n",
      " [-10.  -8.  -3.  -1.   2.   7.]\n",
      " [100.  64.   9.   1.   4.  49.]]\n",
      "XTX is\n",
      "[[ 6.0000e+00 -1.3000e+01  2.2700e+02]\n",
      " [-1.3000e+01  2.2700e+02 -1.1890e+03]\n",
      " [ 2.2700e+02 -1.1890e+03  1.6595e+04]]\n",
      "XTX + lambdaI is\n",
      "[[ 4.7000e+01 -1.3000e+01  2.2700e+02]\n",
      " [-1.3000e+01  2.6800e+02 -1.1890e+03]\n",
      " [ 2.2700e+02 -1.1890e+03  1.6636e+04]]\n",
      "inv(XTX + lambdaI is\n",
      "[[ 2.28072187e-02 -4.01765142e-04 -3.39921700e-04]\n",
      " [-4.01765142e-04  5.47094983e-03  3.96499161e-04]\n",
      " [-3.39921700e-04  3.96499161e-04  9.30872643e-05]]\n",
      "inv(XTX + lambdaI).XT is\n",
      "[[-0.0071673   0.00426635  0.02095322  0.02286906  0.020644    0.0033387 ]\n",
      " [-0.01546135 -0.01879342 -0.01324612 -0.00547622  0.01212613  0.05732334]\n",
      " [ 0.00500381  0.00244567 -0.00069163 -0.00064333  0.00082543  0.00699685]]\n",
      "w is: [[0.00312516]\n",
      " [0.06632625]\n",
      " [0.04848176]]\n",
      "Train prediction: [[ 4.1880383 ]\n",
      " [ 2.57534756]\n",
      " [ 0.24048221]\n",
      " [-0.01471934]\n",
      " [ 0.32970469]\n",
      " [ 2.843015  ]]\n",
      "Test prediction: [[3.33321117]\n",
      " [1.91444747]\n",
      " [0.88353781]\n",
      " [0.51352826]\n",
      " [0.06439968]\n",
      " [0.11793317]\n",
      " [1.04413828]\n",
      " [1.54680034]\n",
      " [2.14642591]\n",
      " [4.52708372]]\n",
      "Model evaluation\n",
      "train mse: 0.01834332683189757\n",
      "test mse: 0.07023189264486063\n",
      "System type: overdetermined system\n",
      "XT is\n",
      "[[  1.   1.   1.   1.   1.   1.]\n",
      " [-10.  -8.  -3.  -1.   2.   7.]\n",
      " [100.  64.   9.   1.   4.  49.]]\n",
      "XTX is\n",
      "[[ 6.0000e+00 -1.3000e+01  2.2700e+02]\n",
      " [-1.3000e+01  2.2700e+02 -1.1890e+03]\n",
      " [ 2.2700e+02 -1.1890e+03  1.6595e+04]]\n",
      "XTX + lambdaI is\n",
      "[[ 5.7000e+01 -1.3000e+01  2.2700e+02]\n",
      " [-1.3000e+01  2.7800e+02 -1.1890e+03]\n",
      " [ 2.2700e+02 -1.1890e+03  1.6646e+04]]\n",
      "inv(XTX + lambdaI is\n",
      "[[ 1.85697885e-02 -3.09152972e-04 -2.75316885e-04]\n",
      " [-3.09152972e-04  5.18457709e-03  3.74542826e-04]\n",
      " [-2.75316885e-04  3.74542826e-04  9.05820229e-05]]\n",
      "inv(XTX + lambdaI).XT is\n",
      "[[-0.00587037  0.00342273  0.0170194   0.01860362  0.01685022  0.00291519]\n",
      " [-0.01470064 -0.01781503 -0.012492   -0.00511919  0.01155817  0.05433549]\n",
      " [ 0.00503746  0.00252559 -0.00058371 -0.00055928  0.0008361   0.006785  ]]\n",
      "w is: [[0.00288335]\n",
      " [0.06271559]\n",
      " [0.04819802]]\n",
      "Train prediction: [[ 4.19552989]\n",
      " [ 2.58583219]\n",
      " [ 0.24851879]\n",
      " [-0.01163422]\n",
      " [ 0.32110664]\n",
      " [ 2.80359572]]\n",
      "Test prediction: [[3.34248301]\n",
      " [1.92557741]\n",
      " [0.894256  ]\n",
      " [0.52318937]\n",
      " [0.07024426]\n",
      " [0.11379697]\n",
      " [1.02491412]\n",
      " [1.52141194]\n",
      " [2.1143058 ]\n",
      " [4.4713637 ]]\n",
      "Model evaluation\n",
      "train mse: 0.022125891515115483\n",
      "test mse: 0.0812350814742144\n",
      "System type: overdetermined system\n",
      "XT is\n",
      "[[  1.   1.   1.   1.   1.   1.]\n",
      " [-10.  -8.  -3.  -1.   2.   7.]\n",
      " [100.  64.   9.   1.   4.  49.]]\n",
      "XTX is\n",
      "[[ 6.0000e+00 -1.3000e+01  2.2700e+02]\n",
      " [-1.3000e+01  2.2700e+02 -1.1890e+03]\n",
      " [ 2.2700e+02 -1.1890e+03  1.6595e+04]]\n",
      "XTX + lambdaI is\n",
      "[[ 6.7000e+01 -1.3000e+01  2.2700e+02]\n",
      " [-1.3000e+01  2.8800e+02 -1.1890e+03]\n",
      " [ 2.2700e+02 -1.1890e+03  1.6656e+04]]\n",
      "inv(XTX + lambdaI is\n",
      "[[ 1.56603033e-02 -2.47064010e-04 -2.31066760e-04]\n",
      " [-2.47064010e-04  4.92703729e-03  3.55087108e-04]\n",
      " [-2.31066760e-04  3.55087108e-04  8.85357064e-05]]\n",
      "inv(XTX + lambdaI).XT is\n",
      "[[-0.00497573  0.00284854  0.01432189  0.0156763   0.01424191  0.00260858]\n",
      " [-0.01400873 -0.01693779 -0.01183239 -0.00481901  0.01102736  0.05164147]\n",
      " [ 0.00507163  0.00259452 -0.00049951 -0.00049762  0.00083325  0.00659279]]\n",
      "w is: [[0.00269813]\n",
      " [0.05946155]\n",
      " [0.04793932]]\n",
      "Train prediction: [[ 4.20201459]\n",
      " [ 2.59512218]\n",
      " [ 0.25576735]\n",
      " [-0.0088241 ]\n",
      " [ 0.31337851]\n",
      " [ 2.76795566]]\n",
      "Test prediction: [[3.35062906]\n",
      " [1.93549393]\n",
      " [0.90387336]\n",
      " [0.53188104]\n",
      " [0.0755323 ]\n",
      " [0.110099  ]\n",
      " [1.00757345]\n",
      " [1.49848888]\n",
      " [2.08528295]\n",
      " [4.42093699]]\n",
      "Model evaluation\n",
      "train mse: 0.02606941265100357\n",
      "test mse: 0.09212668088965797\n",
      "System type: overdetermined system\n",
      "XT is\n",
      "[[  1.   1.   1.   1.   1.   1.]\n",
      " [-10.  -8.  -3.  -1.   2.   7.]\n",
      " [100.  64.   9.   1.   4.  49.]]\n",
      "XTX is\n",
      "[[ 6.0000e+00 -1.3000e+01  2.2700e+02]\n",
      " [-1.3000e+01  2.2700e+02 -1.1890e+03]\n",
      " [ 2.2700e+02 -1.1890e+03  1.6595e+04]]\n",
      "XTX + lambdaI is\n",
      "[[ 7.7000e+01 -1.3000e+01  2.2700e+02]\n",
      " [-1.3000e+01  2.9800e+02 -1.1890e+03]\n",
      " [ 2.2700e+02 -1.1890e+03  1.6666e+04]]\n",
      "inv(XTX + lambdaI is\n",
      "[[ 1.35390813e-02 -2.02910137e-04 -1.98885851e-04]\n",
      " [-2.02910137e-04  4.69405898e-03  3.37651310e-04]\n",
      " [-1.98885851e-04  3.37651310e-04  8.68003417e-05]]\n",
      "inv(XTX + lambdaI).XT is\n",
      "[[-0.0043204   0.00243367  0.01235784  0.01354311  0.01233772  0.0023733 ]\n",
      " [-0.01337837 -0.0161457  -0.01124623 -0.00455932  0.01053581  0.04920042]\n",
      " [ 0.00510464  0.00265513 -0.00043064 -0.00044974  0.00082362  0.00641789]]\n",
      "w is: [[0.00254882]\n",
      " [0.056514  ]\n",
      " [0.0477023 ]]\n",
      "Train prediction: [[ 4.20763902]\n",
      " [ 2.60338415]\n",
      " [ 0.26232755]\n",
      " [-0.00626287]\n",
      " [ 0.30638603]\n",
      " [ 2.7355596 ]]\n",
      "Test prediction: [[3.35780928]\n",
      " [1.94436362]\n",
      " [0.91253638]\n",
      " [0.53972966]\n",
      " [0.08033003]\n",
      " [0.10676512]\n",
      " [0.99184165]\n",
      " [1.47767636]\n",
      " [2.05891568]\n",
      " [4.37506125]]\n",
      "Model evaluation\n",
      "train mse: 0.03008036635127763\n",
      "test mse: 0.10279785605055505\n",
      "System type: overdetermined system\n",
      "XT is\n",
      "[[  1.   1.   1.   1.   1.   1.]\n",
      " [-10.  -8.  -3.  -1.   2.   7.]\n",
      " [100.  64.   9.   1.   4.  49.]]\n",
      "XTX is\n",
      "[[ 6.0000e+00 -1.3000e+01  2.2700e+02]\n",
      " [-1.3000e+01  2.2700e+02 -1.1890e+03]\n",
      " [ 2.2700e+02 -1.1890e+03  1.6595e+04]]\n",
      "XTX + lambdaI is\n",
      "[[ 8.7000e+01 -1.3000e+01  2.2700e+02]\n",
      " [-1.3000e+01  3.0800e+02 -1.1890e+03]\n",
      " [ 2.2700e+02 -1.1890e+03  1.6676e+04]]\n",
      "inv(XTX + lambdaI is\n",
      "[[ 1.19239903e-02 -1.70139680e-04 -1.74444824e-04]\n",
      " [-1.70139680e-04  4.48222841e-03  3.21899213e-04]\n",
      " [-1.74444824e-04  3.21899213e-04  8.52924646e-05]]\n",
      "inv(XTX + lambdaI).XT is\n",
      "[[-0.0038191   0.00212064  0.01086441  0.01191969  0.01088593  0.00218522]\n",
      " [-0.0128025  -0.01542642 -0.01071973 -0.00433047  0.01008191  0.04697852]\n",
      " [ 0.00513581  0.00270908 -0.00037251 -0.00041105  0.00081052  0.00625818]]\n",
      "w is: [[0.00242427]\n",
      " [0.0538317 ]\n",
      " [0.04748414]]\n",
      "Train prediction: [[ 4.21252166e+00]\n",
      " [ 2.61075589e+00]\n",
      " [ 2.68286476e-01]\n",
      " [-3.92328177e-03]\n",
      " [ 3.00024234e-01]\n",
      " [ 2.70596916e+00]]\n",
      "Test prediction: [[3.36415463]\n",
      " [1.95232543]\n",
      " [0.92036938]\n",
      " [0.54684378]\n",
      " [0.08469745]\n",
      " [0.10374011]\n",
      " [0.97749735]\n",
      " [1.45868633]\n",
      " [2.0348436 ]\n",
      " [4.33312514]]\n",
      "Model evaluation\n",
      "train mse: 0.034094284262339764\n",
      "test mse: 0.11318098741202816\n",
      "System type: overdetermined system\n",
      "XT is\n",
      "[[  1.   1.   1.   1.   1.   1.]\n",
      " [-10.  -8.  -3.  -1.   2.   7.]\n",
      " [100.  64.   9.   1.   4.  49.]]\n",
      "XTX is\n",
      "[[ 6.0000e+00 -1.3000e+01  2.2700e+02]\n",
      " [-1.3000e+01  2.2700e+02 -1.1890e+03]\n",
      " [ 2.2700e+02 -1.1890e+03  1.6595e+04]]\n",
      "XTX + lambdaI is\n",
      "[[ 9.7000e+01 -1.3000e+01  2.2700e+02]\n",
      " [-1.3000e+01  3.1800e+02 -1.1890e+03]\n",
      " [ 2.2700e+02 -1.1890e+03  1.6686e+04]]\n",
      "inv(XTX + lambdaI is\n",
      "[[ 1.06531877e-02 -1.45014704e-04 -1.55261662e-04]\n",
      " [-1.45014704e-04  4.28875958e-03  3.07578418e-04]\n",
      " [-1.55261662e-04  3.07578418e-04  8.39599147e-05]]\n",
      "inv(XTX + lambdaI).XT is\n",
      "[[-0.00342283  0.00187656  0.00969088  0.01064294  0.00974211  0.00203026]\n",
      " [-0.01227477 -0.01477007 -0.01024309 -0.0041262   0.00966282  0.04494764]\n",
      " [ 0.00516495  0.00275755 -0.00032236 -0.00037888  0.00079573  0.00611182]]\n",
      "w is: [[0.0023178 ]\n",
      " [0.05138045]\n",
      " [0.04728247]]\n",
      "Train prediction: [[ 4.21675983e+00]\n",
      " [ 2.61735198e+00]\n",
      " [ 2.73718639e-01]\n",
      " [-1.78018619e-03]\n",
      " [ 2.94208552e-01]\n",
      " [ 2.67882172e+00]]\n",
      "Test prediction: [[3.36977344]\n",
      " [1.95949545]\n",
      " [0.92747719]\n",
      " [0.55331545]\n",
      " [0.08868676]\n",
      " [0.10098071]\n",
      " [0.96435903]\n",
      " [1.44128166]\n",
      " [2.01276923]\n",
      " [4.2946215 ]]\n",
      "Model evaluation\n",
      "train mse: 0.03806699562000325\n",
      "test mse: 0.12323626502342647\n"
     ]
    },
    {
     "data": {
      "text/plain": [
       "1"
      ]
     },
     "execution_count": 193,
     "metadata": {},
     "output_type": "execute_result"
    },
    {
     "data": {
      "image/png": "[encoded data removed]",
      "text/plain": [
       "<Figure size 432x288 with 1 Axes>"
      ]
     },
     "metadata": {
      "needs_background": "light"
     },
     "output_type": "display_data"
    }
   ],
   "source": [
    "x_train = np.array([[-10],[-8],[-3],[-1],[2],[7]])\n",
    "y_train = np.array([[4.19],[2.42],[0.22],[0.12],[0.25], [3.09]])\n",
    "\n",
    "x_test = np.array([[-9],[-7],[-5],[-4],[-2],[1],[4],[5],[6],[9]])\n",
    "y_test = np.array([[3],[1.81],[0.80],[0.25],[-0.19],[0.4],[1.24],[1.68],[2.32],[5.05]])\n",
    "\n",
    "degrees = 2\n",
    "norm_multiplier = 100\n",
    "\n",
    "#selecting optimal model\n",
    "train_mse_list, test_mse_list, w_list = [], [],[]\n",
    "for i in range(1,norm_multiplier+1,10):\n",
    "    w, y_train_pred, y_pred, train_mse, test_mse = regression(x_train = x_train,y_train = y_train,degree = degrees, norm_multiplier = i, bias = True, x_test = x_test, y_test = y_test, function = 'poly', learning_rate = 0.03, iterations = 1000)\n",
    "    train_mse_list.append(train_mse)\n",
    "    test_mse_list.append(test_mse)\n",
    "    w_list.append(np.linalg.norm(w))\n",
    "    \n",
    "x = np.linspace(1,norm_multiplier,10)\n",
    "plt.plot(x,train_mse_list)\n",
    "plt.plot(x,test_mse_list)\n",
    "np.argmin(test_mse_list)+1\n",
    "\n"
   ]
  },
  {
   "cell_type": "code",
   "execution_count": 192,
   "metadata": {},
   "outputs": [
    {
     "data": {
      "text/plain": [
       "[0.03049435047027637,\n",
       " 0.03878654103699895,\n",
       " 0.04866680804482077,\n",
       " 0.05928761040597671,\n",
       " 0.07023189264486063,\n",
       " 0.0812350814742144,\n",
       " 0.09212668088965797,\n",
       " 0.10279785605055505,\n",
       " 0.11318098741202816,\n",
       " 0.12323626502342647]"
      ]
     },
     "execution_count": 192,
     "metadata": {},
     "output_type": "execute_result"
    }
   ],
   "source": [
    "test_mse_list"
   ]
  },
  {
   "cell_type": "markdown",
   "metadata": {},
   "source": [
    "# Binary classification (1 or -1)"
   ]
  },
  {
   "cell_type": "code",
   "execution_count": 56,
   "metadata": {},
   "outputs": [],
   "source": [
    "def b_classification(x_train,y_train,degree, norm_multiplier, bias, x_test, y_test, function, learning_rate, iterations):\n",
    "    \n",
    "    #training and predicting\n",
    "    if function == 'poly':\n",
    "        w = poly_reg_coeffmatrix_ridge(x_train,y_train, degree, norm_multiplier, bias)\n",
    "        x_train_poly, x_test_poly =  PolynomialFeatures(degree = degree).fit_transform(x_train), PolynomialFeatures(degree = degree).fit_transform(x_test)\n",
    "        if not bias:\n",
    "            x_test_poly = np.delete(x_test_poly,[0],1)\n",
    "            x_train_poly = np.delete(x_train_poly,[0],1)\n",
    "        y_pred, y_train_pred = np.sign(x_test_poly@w), np.sign(x_train_poly@w)\n",
    "        \n",
    "    elif function == 'sigmoid':\n",
    "        w = grad_desc(x_train,y_train,learning_rate,iterations, sigmoid)\n",
    "        y_pred, y_train_pred = np.sign(np.array(1/(1+np.exp(-x_test@w)))), np.sign(np.array(1/(1+np.exp(-x_train@w))))\n",
    "        \n",
    "    elif function == 'relu':\n",
    "        w = grad_desc(x_train,y_train,learning_rate,iterations, relu)\n",
    "        y_pred, y_train_pred = np.sign(np.array(np.maximum(x_test@w, 0))), np.sign(np.array(np.maximum(x_train@w, 0)))\n",
    "        \n",
    "    elif function == 'exp':\n",
    "        w = grad_desc(x_train,y_train,learning_rate,iterations, exp)\n",
    "        y_pred, y_train_pred = np.sign(np.array(np.exp(-x_test@w))), np.sign(np.array(np.exp(-x_train@w))) \n",
    "    \n",
    "    ##evaluation\n",
    "    #splitting data into positive and negative predictions\n",
    "    pos_idx_test,pos_idx_train = np.where(y_test == 1), np.where(y_train == 1)\n",
    "    neg_idx_test,neg_idx_train = np.where(y_test == -1), np.where(y_train == -1)\n",
    "    y_pred_pos, y_train_pred_pos = y_pred[pos_idx_test], y_train_pred[pos_idx_train]\n",
    "    y_pred_neg,y_train_pred_neg = y_pred[neg_idx_test], y_train_pred[neg_idx_train]\n",
    "\n",
    "    #counts for test set\n",
    "    TP = len([1 for i in range(len(y_pred_pos)) if int(y_pred_pos[i]) == int(y_test[pos_idx_test][i])])\n",
    "    TN = len([1 for j in range(len(y_pred_neg)) if int(y_pred_neg[j]) == int(y_test[neg_idx_test][j])])\n",
    "    FP = len(y_pred_pos) - TP\n",
    "    FN = len(y_pred_neg) - TN\n",
    "\n",
    "    \n",
    "    #counts for train set\n",
    "    TP_tr = len([1 for k in range(len(y_train_pred_pos)) if int(y_train_pred_pos[k]) == int(y_train[pos_idx_train][k])])\n",
    "    TN_tr = len([1 for l in range(len(y_train_pred_neg)) if int(y_train_pred_neg[l]) == int(y_train[neg_idx_train][l])])\n",
    "    FP_tr = len(y_train_pred_pos) - TP_tr\n",
    "    FN_tr = len(y_train_pred_neg) - TN_tr\n",
    "    \n",
    "    #AUC of test set\n",
    "    ypos_array = [[1 if y_pred_pos[m] >= y_pred_neg[n] else 0 for m in range(len(y_pred_pos))] for n in range(len(y_pred_neg))]    \n",
    "    AUC = np.sum(ypos_array)/(len(y_pred_pos)*len(y_pred_neg))\n",
    "    \n",
    "    #AUC of train set\n",
    "    ypos_train_array = [[1 if y_train_pred_pos[o] >= y_train_pred_neg[p] else 0 for o in range(len(y_train_pred_pos))] for p in range(len(y_train_pred_neg))]    \n",
    "    AUC_train = np.sum(ypos_train_array)/(len(y_train_pred_pos)*len(y_train_pred_neg))\n",
    "\n",
    "    print(f'w is: {w}')\n",
    "    \n",
    "    print(f'Train prediction: {y_train_pred}')\n",
    "    print(f'Test prediction: {y_pred}')\n",
    "    try:\n",
    "        print('Model evaluation - test')\n",
    "        print(f'AUC: {AUC}')\n",
    "        print(f'recall: {TP/(TP+FN)}')\n",
    "        print(f'precision: {TP/(TP+FP)}')\n",
    "        print(f'accuracy: {(TP+TN)/(TP+FP+FN+TN)}')\n",
    "        print(f'TPR: {TP/(TP+FN)}')\n",
    "        print(f'FNR: {1-TP/(TP+FN)}')\n",
    "        print(f'TNR: {TN/(FP+TN)}')\n",
    "        print(f'FPR: {1-TN/(FP+TN)}')\n",
    "\n",
    "\n",
    "        print('Model evaluation - train')\n",
    "        print(f'AUC: {AUC_train}')\n",
    "        print(f'recall: {TP_tr/(TP_tr+FN_tr)}')\n",
    "        print(f'precision: {TP_tr/(TP_tr+FP_tr)}')\n",
    "        print(f'accuracy: {(TP_tr+TN_tr)/(TP_tr+FP_tr+FN_tr+TN_tr)}')\n",
    "        print(f'TPR: {TP_tr/(TP_tr+FN_tr)}')\n",
    "        print(f'FNR: {1-TP_tr/(TP_tr+FN_tr)}')\n",
    "        print(f'TNR: {TN_tr/(FP_tr+TN_tr)}')\n",
    "        print(f'FPR: {1-TN_tr/(FP_tr+TN_tr)}')\n",
    "    except:\n",
    "        return\n",
    "\n",
    "    #return w, y_train_pred, y_pred"
   ]
  },
  {
   "cell_type": "markdown",
   "metadata": {},
   "source": [
    "# Multiclass classification"
   ]
  },
  {
   "cell_type": "code",
   "execution_count": 230,
   "metadata": {},
   "outputs": [],
   "source": [
    "def m_classification(x_train,y_train,degree, norm_multiplier, bias, x_test, y_test, function, learning_rate, iterations):\n",
    "    #One hot encoding\n",
    "    if len(y_train.shape) == 1:\n",
    "        y_train = np.reshape(y_train,(-1,1))\n",
    "    if len(y_test.shape) == 1:\n",
    "        y_test = np.reshape(y_test,(-1,1))\n",
    "    y_train_encoded = OneHotEncoder(sparse = False).fit_transform(y_train)\n",
    "    \n",
    "    #training w\n",
    "    if function == 'poly':\n",
    "        w = poly_reg_coeffmatrix_ridge(x_train,y_train, degree, norm_multiplier, bias)\n",
    "        x_train_poly, x_test_poly =  PolynomialFeatures(degree = degree).fit_transform(x_train), PolynomialFeatures(degree = degree).fit_transform(x_test)\n",
    "        if not bias:\n",
    "            x_test_poly = np.delete(x_test_poly,[0],1)\n",
    "            x_train_poly = np.delete(x_train_poly,[0],1)\n",
    "        y_pred, y_train_pred = x_test_poly@w, x_train_poly@w\n",
    "        \n",
    "    elif function == 'sigmoid':\n",
    "        w = grad_desc(x_train,y_train,learning_rate,iterations, sigmoid)\n",
    "        y_pred, y_train_pred = np.array(1/(1+np.exp(-x_test@w))), np.array(1/(1+np.exp(-x_train@w)))\n",
    "        \n",
    "    elif function == 'relu':\n",
    "        w = grad_desc(x_train,y_train,learning_rate,iterations, relu)\n",
    "        y_pred, y_train_pred = np.array(np.maximum(x_test@w, 0)), np.array(np.maximum(x_train@w, 0))\n",
    "        \n",
    "    elif function == 'exp':\n",
    "        w = grad_desc(x_train,y_train,learning_rate,iterations, exp)\n",
    "        y_pred, y_train_pred = np.array(np.exp(-x_test@w)), np.array(np.exp(-x_train@w))\n",
    "\n",
    "    #predictions as classes\n",
    "    out = np.array([np.argmax(y_pred[i]) for i in range(len(y_pred))])\n",
    "    out_train = np.array([np.argmax(y_train_pred[i]) for i in range(len(y_train_pred))])\n",
    "    \n",
    "    #predictions encoded\n",
    "    y_pred = OneHotEncoder(sparse = False).fit_transform(np.reshape(out, (-1,1)))\n",
    "    y_train_pred = OneHotEncoder(sparse = False).fit_transform(np.reshape(out_train, (-1,1)))\n",
    "    \n",
    "    #model evaluation\n",
    "    train_error_rate = 1-accuracy_score(y_train, out_train)\n",
    "    test_error_rate = 1-accuracy_score(y_test, out)\n",
    "    \n",
    "    print(f'w is: {w}')\n",
    "    \n",
    "    print(f'Train prediction: {out_train}')\n",
    "    print(f'Train error rate: {train_error_rate}')\n",
    "    \n",
    "    print(f'Test prediction: {out}')\n",
    "    print(f'Test error rate: {test_error_rate}')\n",
    "    \n",
    "    return y_pred, y_train_pred\n",
    "    "
   ]
  },
  {
   "cell_type": "code",
   "execution_count": 233,
   "metadata": {},
   "outputs": [
    {
     "name": "stdout",
     "output_type": "stream",
     "text": [
      "System type: underdetermined system\n",
      "XT is\n",
      "[[ 1.  1.  1.  1.]\n",
      " [ 1.  4.  1.  0.]\n",
      " [ 2.  0.  1.  1.]\n",
      " [ 3.  6.  0.  2.]\n",
      " [ 1. 16.  1.  0.]\n",
      " [ 2.  0.  1.  0.]\n",
      " [ 3. 24.  0.  0.]\n",
      " [ 4.  0.  1.  1.]\n",
      " [ 6.  0.  0.  2.]\n",
      " [ 9. 36.  0.  4.]]\n",
      "XXT is\n",
      "[[ 162.  435.   11.   61.]\n",
      " [ 435. 2181.   21.  157.]\n",
      " [  11.   21.    6.    3.]\n",
      " [  61.  157.    3.   27.]]\n",
      "XXT + lambdaI is\n",
      "[[ 162.  435.   11.   61.]\n",
      " [ 435. 2181.   21.  157.]\n",
      " [  11.   21.    6.    3.]\n",
      " [  61.  157.    3.   27.]]\n",
      "inv(XXT + lambdaI) is\n",
      "[[ 0.06143891 -0.00376867 -0.04341335 -0.11206858]\n",
      " [-0.00376867  0.00102116  0.00216731  0.00233575]\n",
      " [-0.04341335  0.00216731  0.20745791  0.06242866]\n",
      " [-0.11206858  0.00233575  0.06242866  0.26971052]]\n",
      "XT.inv(XXT + lambdaI) is\n",
      "[[-0.09781169  0.00175554  0.22864053  0.22240636]\n",
      " [ 0.00295086  0.00248326  0.17271378 -0.0402969 ]\n",
      " [-0.03260411 -0.00303429  0.18305987  0.10800203]\n",
      " [-0.06243247 -0.00050757  0.0076211   0.21722982]\n",
      " [-0.04227323  0.01473717  0.19872144 -0.01226786]\n",
      " [ 0.07946447 -0.00537004  0.12063121 -0.16170849]\n",
      " [ 0.09386854  0.01320178 -0.07822474 -0.28014765]\n",
      " [ 0.09027371 -0.01057164  0.09623317 -0.11613513]\n",
      " [ 0.14449631 -0.01794054 -0.13562279 -0.13299043]\n",
      " [-0.0309964   0.01218665 -0.06298254  0.15431199]]\n",
      "w is: [[ 0.67345324]\n",
      " [ 0.09211998]\n",
      " [ 0.39906392]\n",
      " [ 0.44208074]\n",
      " [ 0.17418572]\n",
      " [-0.20278577]\n",
      " [-0.63852004]\n",
      " [-0.13603709]\n",
      " [-0.40160365]\n",
      " [ 0.24564144]]\n",
      "Train prediction: [0 0 0 0]\n",
      "Train error rate: 0.5\n",
      "Test prediction: [0]\n",
      "Test error rate: 1.0\n"
     ]
    },
    {
     "data": {
      "text/plain": [
       "(array([[1.]]),\n",
       " array([[1.],\n",
       "        [1.],\n",
       "        [1.],\n",
       "        [1.]]))"
      ]
     },
     "execution_count": 233,
     "metadata": {},
     "output_type": "execute_result"
    }
   ],
   "source": [
    "x_train = np.array([[1,2,3],[4,0,6],[1,1,0],[0,1,2]])\n",
    "y_train = np.array([[0],[0],[1],[2]])\n",
    "#X_poly = PolynomialFeatures(degree = 3).fit_transform(X)\n",
    "\n",
    "x_test = np.array([[1,0,1]])\n",
    "y_test = np.array([[2]])\n",
    "\n",
    "#b_classification(x_train = x_train,y_train = y_train,degree = 2, norm_multiplier = 0, bias = True, x_test = x_test, y_test = y_test, function = 'poly', learning_rate = 0.03, iterations = 1000)\n",
    "m_classification(x_train = x_train,y_train = y_train,degree = 2, norm_multiplier = 0, bias = True, x_test = x_test, y_test = y_test, function = 'poly', learning_rate = 0.03, iterations = 1000)\n",
    "\n",
    "\n"
   ]
  },
  {
   "cell_type": "markdown",
   "metadata": {},
   "source": [
    "# Evaluation"
   ]
  },
  {
   "cell_type": "code",
   "execution_count": 125,
   "metadata": {},
   "outputs": [
    {
     "name": "stdout",
     "output_type": "stream",
     "text": [
      "MSE is : 0.5\n",
      "MAE is : 0.5\n",
      "Accuracy is : 0.75\n",
      "AUC is : 0.5\n"
     ]
    }
   ],
   "source": [
    "y_pred = [1,1,1,1]\n",
    "y_true = [1,1,-1,1]\n",
    "\n",
    "MSE = mean_absolute_error(y_true,y_pred)\n",
    "print(f'MSE is : {MSE}')\n",
    "MAE = mean_absolute_error(y_true,y_pred)\n",
    "print(f'MAE is : {MAE}')\n",
    "Acc_score = accuracy_score(y_true,y_pred)\n",
    "print(f'Accuracy is : {Acc_score}')\n",
    "AUC = roc_auc_score(y_true,y_pred)\n",
    "print(f'AUC is : {AUC}')"
   ]
  },
  {
   "cell_type": "code",
   "execution_count": 216,
   "metadata": {},
   "outputs": [
    {
     "name": "stdout",
     "output_type": "stream",
     "text": [
      "Precision is : 0.75\n",
      "Accuracy is : 0.7\n",
      "Recall or TPR is : 0.6\n",
      "FNR is : 0.4\n",
      "TNR is : 0.8\n",
      "FPR is : 0.2\n"
     ]
    }
   ],
   "source": [
    "TP = 3\n",
    "FP = 1\n",
    "TN = 4\n",
    "FN = 2\n",
    "\n",
    "Precision = TP/(TP+FP)\n",
    "print(f'Precision is : {Precision}')\n",
    "Accuracy = (TP+TN)/(TP+TN+FP+FN)\n",
    "print(f'Accuracy is : {Accuracy}')\n",
    "Recall_TPR = TP/(TP+FN)\n",
    "print(f'Recall or TPR is : {Recall_TPR}')\n",
    "FNR = FN/(TP+FN)\n",
    "print(f'FNR is : {FNR}')\n",
    "TNR = TN/(FP+TN)\n",
    "print(f'TNR is : {TNR}')\n",
    "FPR = FP/(FP+TN)\n",
    "print(f'FPR is : {FPR}')"
   ]
  },
  {
   "cell_type": "markdown",
   "metadata": {},
   "source": [
    "# Decision trees"
   ]
  },
  {
   "cell_type": "markdown",
   "metadata": {},
   "source": [
    "GINI, entropy and misclassification rate"
   ]
  },
  {
   "cell_type": "code",
   "execution_count": 61,
   "metadata": {},
   "outputs": [],
   "source": [
    "def entropy(count, total):\n",
    "    return -(count/total) * math.log2(count/total)\n",
    "\n",
    "def GINI(count, total):\n",
    "    return (count/total)**2\n"
   ]
  },
  {
   "cell_type": "code",
   "execution_count": 141,
   "metadata": {},
   "outputs": [
    {
     "data": {
      "text/plain": [
       "0.954434002924965"
      ]
     },
     "execution_count": 141,
     "metadata": {},
     "output_type": "execute_result"
    }
   ],
   "source": [
    "entropy(5,8)+entropy(3,8)\n",
    "\n",
    "#1-GINI(5,8) + GINI(5,8)"
   ]
  },
  {
   "cell_type": "markdown",
   "metadata": {},
   "source": [
    "Regression MSE"
   ]
  },
  {
   "cell_type": "code",
   "execution_count": 217,
   "metadata": {},
   "outputs": [
    {
     "name": "stdout",
     "output_type": "stream",
     "text": [
      "     x     y\n",
      "0  0.5   2.7\n",
      "1  1.0   4.9\n",
      "2  1.2   2.4\n",
      "3  2.8   6.8\n",
      "4  3.4   7.4\n",
      "5  4.5   9.4\n",
      "6  4.6   9.9\n",
      "7  5.6  12.6\n",
      "8  6.3  14.2\n",
      "9  7.3  16.8\n",
      "mse at depth 1: 7.282833333333332\n",
      "mse at root: 20.842899999999997\n"
     ]
    }
   ],
   "source": [
    "df = pd.read_csv('data.txt')\n",
    "root_x = df['x']\n",
    "root_y = df['y']\n",
    "leaf_ax, leaf_ay = df[df['x'] > 3]['x'].values, df[df['x'] > 3]['y'].values\n",
    "leaf_bx, leaf_by = df[df['x'] <= 3]['x'].values, df[df['x'] <= 3]['y'].values\n",
    "\n",
    "print(df)\n",
    "\n",
    "def MSE(y):\n",
    "    y_ave = np.mean(y)\n",
    "    #print(f'y_ave is {y_ave}')\n",
    "    return np.sum([(i - y_ave)**2 for i in y])/len(y)\n",
    "\n",
    "root_mse = MSE(root_y)\n",
    "leaf_a_mse = MSE(leaf_ay)\n",
    "leaf_b_mse = MSE(leaf_by)\n",
    "\n",
    "print(f'mse at depth 1: {(len(leaf_ay)/(len(leaf_ay)+len(leaf_by)))*leaf_a_mse + (len(leaf_by)/(len(leaf_ay)+len(leaf_by)))*leaf_b_mse}')\n",
    "print(f'mse at root: {root_mse}')"
   ]
  },
  {
   "cell_type": "code",
   "execution_count": null,
   "metadata": {},
   "outputs": [],
   "source": [
    "valu"
   ]
  },
  {
   "cell_type": "markdown",
   "metadata": {},
   "source": [
    "Regression tree"
   ]
  },
  {
   "cell_type": "code",
   "execution_count": 64,
   "metadata": {},
   "outputs": [
    {
     "name": "stdout",
     "output_type": "stream",
     "text": [
      "training prediction: [5. 4. 3. 2. 1.]\n",
      "test prediction: [1.]\n",
      "train mse is: 0.0\n",
      "test mse is: 0.0\n"
     ]
    },
    {
     "data": {
      "text/plain": [
       "[Text(148.8, 190.26, 'X[0] <= 4.5\\nmse = 2.0\\nsamples = 5\\nvalue = 3.0'),\n",
       " Text(74.4, 135.9, 'X[0] <= 3.5\\nmse = 0.25\\nsamples = 2\\nvalue = 4.5'),\n",
       " Text(37.2, 81.53999999999999, 'mse = 0.0\\nsamples = 1\\nvalue = 5.0'),\n",
       " Text(111.60000000000001, 81.53999999999999, 'mse = 0.0\\nsamples = 1\\nvalue = 4.0'),\n",
       " Text(223.20000000000002, 135.9, 'X[0] <= 5.5\\nmse = 0.667\\nsamples = 3\\nvalue = 2.0'),\n",
       " Text(186.0, 81.53999999999999, 'mse = 0.0\\nsamples = 1\\nvalue = 3.0'),\n",
       " Text(260.40000000000003, 81.53999999999999, 'X[0] <= 6.5\\nmse = 0.25\\nsamples = 2\\nvalue = 1.5'),\n",
       " Text(223.20000000000002, 27.180000000000007, 'mse = 0.0\\nsamples = 1\\nvalue = 2.0'),\n",
       " Text(297.6, 27.180000000000007, 'mse = 0.0\\nsamples = 1\\nvalue = 1.0')]"
      ]
     },
     "execution_count": 64,
     "metadata": {},
     "output_type": "execute_result"
    },
    {
     "data": {
      "image/png": "[encoded data removed]",
      "text/plain": [
       "<Figure size 432x288 with 1 Axes>"
      ]
     },
     "metadata": {
      "needs_background": "light"
     },
     "output_type": "display_data"
    }
   ],
   "source": [
    "x_train = np.array([[1],[4],[5],[6],[7]])\n",
    "y_train = np.array([[5],[4],[3],[2],[1]])\n",
    "\n",
    "x_test = np.array([[8]])\n",
    "y_test = np.array([[1]])\n",
    "\n",
    "#training\n",
    "Regressor = DecisionTreeRegressor(criterion = 'mse', max_depth = 3, random_state = 0).fit(x_train,y_train)\n",
    "\n",
    "#prediction\n",
    "y_train_pred, y_test_pred = Regressor.predict(x_train), Regressor.predict(x_test)\n",
    "print(f'training prediction: {y_train_pred}')\n",
    "print(f'test prediction: {y_test_pred}')\n",
    "\n",
    "#evaluation\n",
    "print(f'train mse is: {mean_squared_error(y_train, y_train_pred)}')\n",
    "print(f'test mse is: {mean_squared_error(y_test, y_test_pred)}')\n",
    "\n",
    "tree.plot_tree(Regressor)"
   ]
  },
  {
   "cell_type": "markdown",
   "metadata": {},
   "source": [
    "Classification tree"
   ]
  },
  {
   "cell_type": "code",
   "execution_count": 65,
   "metadata": {},
   "outputs": [
    {
     "name": "stdout",
     "output_type": "stream",
     "text": [
      "training prediction: [5 4 3 2 1]\n",
      "test prediction: [1]\n",
      "train accuracy is: 100.0%\n",
      "test accuracy is: 100.0%\n"
     ]
    },
    {
     "data": {
      "text/plain": [
       "[Text(148.8, 190.26, 'X[0] <= 4.5\\nentropy = 2.322\\nsamples = 5\\nvalue = [1, 1, 1, 1, 1]'),\n",
       " Text(74.4, 135.9, 'X[0] <= 3.5\\nentropy = 1.0\\nsamples = 2\\nvalue = [0, 0, 0, 1, 1]'),\n",
       " Text(37.2, 81.53999999999999, 'entropy = 0.0\\nsamples = 1\\nvalue = [0, 0, 0, 0, 1]'),\n",
       " Text(111.60000000000001, 81.53999999999999, 'entropy = 0.0\\nsamples = 1\\nvalue = [0, 0, 0, 1, 0]'),\n",
       " Text(223.20000000000002, 135.9, 'X[0] <= 5.5\\nentropy = 1.585\\nsamples = 3\\nvalue = [1, 1, 1, 0, 0]'),\n",
       " Text(186.0, 81.53999999999999, 'entropy = 0.0\\nsamples = 1\\nvalue = [0, 0, 1, 0, 0]'),\n",
       " Text(260.40000000000003, 81.53999999999999, 'X[0] <= 6.5\\nentropy = 1.0\\nsamples = 2\\nvalue = [1, 1, 0, 0, 0]'),\n",
       " Text(223.20000000000002, 27.180000000000007, 'entropy = 0.0\\nsamples = 1\\nvalue = [0, 1, 0, 0, 0]'),\n",
       " Text(297.6, 27.180000000000007, 'entropy = 0.0\\nsamples = 1\\nvalue = [1, 0, 0, 0, 0]')]"
      ]
     },
     "execution_count": 65,
     "metadata": {},
     "output_type": "execute_result"
    },
    {
     "data": {
      "image/png": "[encoded data removed]",
      "text/plain": [
       "<Figure size 432x288 with 1 Axes>"
      ]
     },
     "metadata": {
      "needs_background": "light"
     },
     "output_type": "display_data"
    }
   ],
   "source": [
    "x_train = np.array([[3],[4],[5],[6],[7]])\n",
    "y_train = np.array([[5],[4],[3],[2],[1]])\n",
    "\n",
    "x_test = np.array([[8]])\n",
    "y_test = np.array([[1]])\n",
    "\n",
    "#training\n",
    "classifier = DecisionTreeClassifier(criterion = 'entropy', max_depth = 4, random_state = 0).fit(x_train,y_train)\n",
    "\n",
    "#prediction\n",
    "y_train_pred, y_test_pred = classifier.predict(x_train), classifier.predict(x_test)\n",
    "print(f'training prediction: {y_train_pred}')\n",
    "print(f'test prediction: {y_test_pred}')\n",
    "\n",
    "#evaluation\n",
    "y_pred = classifier.predict(x_test)\n",
    "\n",
    "print(f'train accuracy is: {accuracy_score(y_train, y_train_pred)*100}%')\n",
    "print(f'test accuracy is: {accuracy_score(y_test, y_pred)*100}%')\n",
    "\n",
    "tree.plot_tree(classifier)"
   ]
  },
  {
   "cell_type": "markdown",
   "metadata": {},
   "source": [
    "# k-means clustering"
   ]
  },
  {
   "cell_type": "code",
   "execution_count": 205,
   "metadata": {},
   "outputs": [],
   "source": [
    "def k_means(features, k, initialisation_method):\n",
    "    #initialisation and calcultating initial means\n",
    "    if initialisation_method == 'random':\n",
    "        #assign random cluster to each observation\n",
    "        labels = [rd.randint(0,k-1) for i in range(len(features))]\n",
    "        means = [66],[82]#find_means(features, labels,k)\n",
    "        \n",
    "    if initialisation_method == 'forgy':\n",
    "        #randomly choosing k data points to be labelled as means\n",
    "        sample = rd.sample([i for i in range(len(features))], k)\n",
    "        means = [features[idx] for idx in sample]\n",
    "        labels = find_labels(features, means) \n",
    "    \n",
    "    #loop\n",
    "    changing, count = True, 0\n",
    "    while changing and count < 2:\n",
    "        labels = find_labels(features, means)\n",
    "        means = find_means(features, labels,k)\n",
    "        count += 1\n",
    "        #print(f'i am trying... iteration:{count}')\n",
    "    return means, labels, features\n",
    "        \n",
    "def find_labels(features, means): #returns new labels, given newly calculated means\n",
    "    labels = [None for label in range(len(features))]\n",
    "    \n",
    "    for datum in range(len(features)): #for each datum, calculate distances to each mean, find minimum and then put to label\n",
    "        k_distances = np.array([eucl_dist(features[datum], means[k]) for k in range(len(means))])\n",
    "        labels[datum] = np.argmin(k_distances)\n",
    "    return labels\n",
    "    \n",
    "def find_means(features, labels,k): #returns new means, given newly calculated labels\n",
    "    #split data by label\n",
    "    df = pd.DataFrame (zip(features, labels))\n",
    "    means = []\n",
    "    for cluster in range(k):\n",
    "        cluster_features = df[df.iloc[:,1] == cluster][0].values.tolist()\n",
    "        ck = np.sum([np.array(v) for v in cluster_features], axis = 0)/len(cluster_features)\n",
    "        means.append(ck)\n",
    "        #if np.any(np.isnan(ck)):\n",
    "            #print('Nan - no kth center')\n",
    "    return means\n",
    "\n",
    "def eucl_dist(a,b):\n",
    "    return np.linalg.norm(a-b)\n",
    "\n"
   ]
  },
  {
   "cell_type": "code",
   "execution_count": 206,
   "metadata": {},
   "outputs": [
    {
     "name": "stdout",
     "output_type": "stream",
     "text": [
      "means are: [array([63.6]), array([86.5])]\n",
      "mse list is: [4.0, 2.0]\n"
     ]
    }
   ],
   "source": [
    "k = 2\n",
    "features = np.array([[50],[60],[66],[70],[72],[76],[82],[90],[98]])\n",
    "Y = np.array([[1,2],[3,4]])\n",
    "\n",
    "mean_list, label_list = [],[]\n",
    "#finding means\n",
    "for i in range(10):\n",
    "    means, labels, features = k_means(features, k, 'random')\n",
    "    mean_list.append(means)\n",
    "    label_list.append(labels)\n",
    "\n",
    "\n",
    "\n",
    "print(f'means are: {means}')\n",
    "#print(f'mse list is: {mse_list}')\n",
    "\n",
    "#evaluation of k if labelled data\n",
    "#print(f'accuracy score is: {accuracy_score(Y, labels)}')\n",
    "#print(f'mse is: {mean_squared_error(Y, labels)}')"
   ]
  },
  {
   "cell_type": "code",
   "execution_count": 241,
   "metadata": {},
   "outputs": [
    {
     "data": {
      "text/plain": [
       "[[0, 0, 0, 0, 0, 1, 1, 1, 1],\n",
       " [0, 0, 0, 0, 0, 1, 1, 1, 1],\n",
       " [0, 0, 0, 0, 0, 1, 1, 1, 1],\n",
       " [0, 0, 0, 0, 0, 1, 1, 1, 1],\n",
       " [0, 0, 0, 0, 0, 1, 1, 1, 1],\n",
       " [0, 0, 0, 0, 0, 1, 1, 1, 1],\n",
       " [0, 0, 0, 0, 0, 1, 1, 1, 1],\n",
       " [0, 0, 0, 0, 0, 1, 1, 1, 1],\n",
       " [0, 0, 0, 0, 0, 1, 1, 1, 1],\n",
       " [0, 0, 0, 0, 0, 1, 1, 1, 1]]"
      ]
     },
     "execution_count": 241,
     "metadata": {},
     "output_type": "execute_result"
    }
   ],
   "source": [
    "label_list"
   ]
  },
  {
   "cell_type": "code",
   "execution_count": 244,
   "metadata": {},
   "outputs": [
    {
     "data": {
      "text/plain": [
       "24.810000000000002"
      ]
     },
     "execution_count": 244,
     "metadata": {},
     "output_type": "execute_result"
    }
   ],
   "source": [
    "values = [9,11,23,6,8,12,10,4,13,7]\n",
    "val = np.array([9,11,23,6,8,12,10,4,13,7])\n",
    "bias = 0\n",
    "\n",
    "for i in values:\n",
    "    bias += ((i - np.mean(val))**2)/len(values)\n",
    "    \n",
    "#bias\n",
    "\n",
    "#np.mean(val)\n",
    "#np.var(val)\n",
    "bias"
   ]
  },
  {
   "cell_type": "code",
   "execution_count": 249,
   "metadata": {},
   "outputs": [
    {
     "data": {
      "text/plain": [
       "5.210000000000001"
      ]
     },
     "execution_count": 249,
     "metadata": {},
     "output_type": "execute_result"
    }
   ],
   "source": [
    "values = [6,8,9,5,10,5,4,8,9,3]\n",
    "val = np.array([6,8,9,5,10,5,4,8,9,3])\n",
    "var, error = 0,0\n",
    "\n",
    "for i in values:\n",
    "    var += ((i - np.mean(val))**2)/len(values)\n",
    "    \n",
    "for i in values:\n",
    "    error += ((i - 7)**2)/len(values)\n",
    "\n",
    "var\n",
    "#np.mean(val)\n",
    "#np.var(val)\n",
    "#error"
   ]
  },
  {
   "cell_type": "code",
   "execution_count": 195,
   "metadata": {},
   "outputs": [
    {
     "data": {
      "text/plain": [
       "[array([63.6]), array([86.5])]"
      ]
     },
     "execution_count": 195,
     "metadata": {},
     "output_type": "execute_result"
    }
   ],
   "source": [
    "#plotting\n",
    "df = pd.DataFrame (zip(features, labels))\n",
    "\n",
    "fig = plt.figure()\n",
    "ax = fig.add_subplot()\n",
    "col = ['b','r','g', 'c','m']\n",
    "for i in range(k):\n",
    "    try:\n",
    "        cluster = df[df.iloc[:,1] == i][0].values.tolist()\n",
    "        x, y = zip(*cluster)\n",
    "        ax.scatter(x,y,c = col[i])\n",
    "    except:\n",
    "        continue\n",
    "\n",
    "x = [means[j][0] for j in range(len(means))]\n",
    "y = [means[h][1] for h in range(len(means))]\n",
    "plt.scatter(x,y, marker = 'X', s= 500, color = 'black')\n",
    "\n",
    "plt.show()\n",
    "\n",
    "#evaluation of k\n",
    "mse_list = []\n",
    "for i in range(len(means)):\n",
    "    mse_list.append(np.sum((features[np.where(np.array(labels) == i)] - means[i])**2))"
   ]
  },
  {
   "cell_type": "markdown",
   "metadata": {},
   "source": [
    "# Neural network classifier"
   ]
  },
  {
   "cell_type": "code",
   "execution_count": 68,
   "metadata": {},
   "outputs": [],
   "source": [
    "from sklearn.neural_network import MLPClassifier\n",
    "\n",
    "def NNClassifier(x_train,y_train,x_test,y_test,sizes):\n",
    "    #training\n",
    "    clf = MLPClassifier(solver = 'lbfgs', alpha = 1e-3, hidden_layer_sizes=sizes)\n",
    "    clf.fit(x_train, y_train)\n",
    "    \n",
    "    #prediction\n",
    "    y_pred = clf.predict(x_test)\n",
    "    y_train_pred = clf.predict(x_train)\n",
    "    \n",
    "    #evaluation\n",
    "    test_accuracy = accuracy_score(y_test,y_pred)\n",
    "    train_accuracy = accuracy_score(y_train,y_train_pred)\n",
    "    \n",
    "    print(f'test accuracy is: f{test_accuracy}')\n",
    "    print(f'train accuracy is: f{train_accuracy}')\n",
    "\n",
    "    return y_pred, y_train_pred"
   ]
  },
  {
   "cell_type": "code",
   "execution_count": 69,
   "metadata": {},
   "outputs": [
    {
     "name": "stderr",
     "output_type": "stream",
     "text": [
      "C:\\Users\\tanna\\anaconda3\\lib\\site-packages\\sklearn\\utils\\validation.py:73: DataConversionWarning: A column-vector y was passed when a 1d array was expected. Please change the shape of y to (n_samples, ), for example using ravel().\n",
      "  return f(**kwargs)\n"
     ]
    },
    {
     "name": "stdout",
     "output_type": "stream",
     "text": [
      "test accuracy is: f1.0\n",
      "train accuracy is: f0.8\n"
     ]
    },
    {
     "name": "stderr",
     "output_type": "stream",
     "text": [
      "C:\\Users\\tanna\\anaconda3\\lib\\site-packages\\sklearn\\neural_network\\_multilayer_perceptron.py:471: ConvergenceWarning: lbfgs failed to converge (status=1):\n",
      "STOP: TOTAL NO. of ITERATIONS REACHED LIMIT.\n",
      "\n",
      "Increase the number of iterations (max_iter) or scale the data as shown in:\n",
      "    https://scikit-learn.org/stable/modules/preprocessing.html\n",
      "  self.n_iter_ = _check_optimize_result(\"lbfgs\", opt_res, self.max_iter)\n"
     ]
    },
    {
     "data": {
      "text/plain": [
       "(array([1]), array([4, 4, 3, 2, 1]))"
      ]
     },
     "execution_count": 69,
     "metadata": {},
     "output_type": "execute_result"
    }
   ],
   "source": [
    "x_train = np.array([[3],[4],[5],[6],[7]])\n",
    "y_train = np.array([[5],[4],[3],[2],[1]])\n",
    "\n",
    "x_test = np.array([[8]])\n",
    "y_test = np.array([[1]])\n",
    "\n",
    "sizes = (3,4,3)\n",
    "\n",
    "NNClassifier(x_train,y_train,x_test,y_test,sizes)"
   ]
  },
  {
   "cell_type": "markdown",
   "metadata": {},
   "source": [
    "Forward propagation"
   ]
  },
  {
   "cell_type": "code",
   "execution_count": null,
   "metadata": {},
   "outputs": [],
   "source": [
    "#exponential function\n",
    "def exp_fn(x,y,w):\n",
    "    return np.exp(-x@w)\n",
    "\n",
    "#sigmoid function\n",
    "def sigmoid(x,y,w):\n",
    "    return np.array(1/(1+np.exp(-x@w)))\n",
    "\n",
    "#ReLu function\n",
    "def relu(x,y,w):\n",
    "    return np.array(np.maximum(x@w, 0))\n"
   ]
  },
  {
   "cell_type": "code",
   "execution_count": null,
   "metadata": {},
   "outputs": [],
   "source": [
    "X = np.array([[1,1],[1,1]])\n",
    "Y = np.array([[1],[1]])\n",
    "w = np.array([[1],[1]])\n",
    "\n",
    "z = X@w\n",
    "activation = exp_fn(X,Y,w)\n",
    "\n",
    "print('z is:')\n",
    "print(z)\n",
    "print('activation is:')\n",
    "print(activation)"
   ]
  },
  {
   "cell_type": "markdown",
   "metadata": {},
   "source": [
    "# Reading data"
   ]
  },
  {
   "cell_type": "code",
   "execution_count": null,
   "metadata": {},
   "outputs": [],
   "source": [
    "#loading data\n",
    "data = load_iris()\n",
    "df = pd.DataFrame(data=data['data'], columns=data['feature_names'])\n",
    "dataX, dataY = train_test_split(data['data'],test_size = 0.20, train_size = 0.80, random_state = 0), train_test_split(data['target'],test_size = 0.20, train_size = 0.80, random_state = 0)\n",
    "X_train, X_test, y_train, y_test = dataX[0], dataX[1], dataY[0], dataY[1]"
   ]
  },
  {
   "cell_type": "markdown",
   "metadata": {},
   "source": [
    "# Scaling"
   ]
  },
  {
   "cell_type": "code",
   "execution_count": null,
   "metadata": {},
   "outputs": [],
   "source": [
    "from sklearn.preprocessing import StandardScaler\n",
    "from sklearn.preprocessing import MinMaxScaler\n",
    "\n",
    "mat = np.array([[1,2],[3.5,6],[3,6]])\n",
    "\n",
    "#Z-score\n",
    "zscaled = StandardScaler()\n",
    "zscaled.fit(mat)\n",
    "print(f\"The Scaling mean is: \\n{zscaled.mean_}\\n The z-scaled data is:\\n {zscaled.transform(mat)}\\n \")\n",
    "\n",
    "#Min-Max Scaling\n",
    "minmaxscaled = MinMaxScaler()\n",
    "minmaxscaled.fit(mat)\n",
    "print(f\"The min-max scaled data is:\\n {minmaxscaled.transform(mat)}\\n \")\n"
   ]
  },
  {
   "cell_type": "markdown",
   "metadata": {},
   "source": [
    "# Cross validation"
   ]
  },
  {
   "cell_type": "code",
   "execution_count": null,
   "metadata": {},
   "outputs": [],
   "source": [
    "def kFolds(n_splits, shuffled, data):\n",
    "    kf = KFold(n_splits = n_splits, shuffle = shuffled)\n",
    "    X, Y = data['data'], data['target']\n",
    "    trainX, testX, trainY, testY = [], [], [], []\n",
    "    for train_index, test_index in kf.split(X):\n",
    "        trainX.append(X[train_index])\n",
    "        testX.append(X[test_index])\n",
    "        trainY.append(Y[train_index])\n",
    "        testY.append(Y[test_index])\n",
    "    \n",
    "    return trainX, testX, trainY, testY\n",
    "\n",
    "\n",
    "def kFolds_test(n_splits, shuffled, data, TestSize, RandomState):\n",
    "    dataX = train_test_split(data['data'],test_size = TestSize, train_size = (1-TestSize), random_state = RandomState)\n",
    "    dataY = train_test_split(data['target'],test_size = TestSize, train_size = (1-TestSize), random_state = RandomState)\n",
    "    X, testX, Y, testY = dataX[0], dataX[1], dataY[0], dataY[1]\n",
    "    del dataX, dataY\n",
    "    \n",
    "    kf = KFold(n_splits = n_splits, shuffle = shuffled)\n",
    "    trainX, valX, trainY, valY = [], [], [], []\n",
    "    for train_index, test_index in kf.split(X):\n",
    "        trainX.append(X[train_index])\n",
    "        valX.append(X[test_index])\n",
    "        trainY.append(Y[train_index])\n",
    "        valY.append(Y[test_index])\n",
    "    return trainX, valX, testX, trainY, valY, testY"
   ]
  },
  {
   "cell_type": "code",
   "execution_count": null,
   "metadata": {},
   "outputs": [],
   "source": []
  }
 ],
 "metadata": {
  "kernelspec": {
   "display_name": "Python 3",
   "language": "python",
   "name": "python3"
  },
  "language_info": {
   "codemirror_mode": {
    "name": "ipython",
    "version": 3
   },
   "file_extension": ".py",
   "mimetype": "text/x-python",
   "name": "python",
   "nbconvert_exporter": "python",
   "pygments_lexer": "ipython3",
   "version": "3.9.2"
  },
  "toc": {
   "base_numbering": 1,
   "nav_menu": {},
   "number_sections": true,
   "sideBar": true,
   "skip_h1_title": false,
   "title_cell": "Table of Contents",
   "title_sidebar": "Contents",
   "toc_cell": false,
   "toc_position": {},
   "toc_section_display": true,
   "toc_window_display": false
  },
  "varInspector": {
   "cols": {
    "lenName": 16,
    "lenType": 16,
    "lenVar": 40
   },
   "kernels_config": {
    "python": {
     "delete_cmd_postfix": "",
     "delete_cmd_prefix": "del ",
     "library": "var_list.py",
     "varRefreshCmd": "print(var_dic_list())"
    },
    "r": {
     "delete_cmd_postfix": ") ",
     "delete_cmd_prefix": "rm(",
     "library": "var_list.r",
     "varRefreshCmd": "cat(var_dic_list()) "
    }
   },
   "types_to_exclude": [
    "module",
    "function",
    "builtin_function_or_method",
    "instance",
    "_Feature"
   ],
   "window_display": false
  }
 },
 "nbformat": 4,
 "nbformat_minor": 4
}
