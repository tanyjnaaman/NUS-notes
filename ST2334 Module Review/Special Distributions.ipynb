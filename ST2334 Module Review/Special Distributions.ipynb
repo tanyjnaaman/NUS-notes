{
 "cells": [
  {
   "cell_type": "code",
   "execution_count": null,
   "id": "sustainable-cylinder",
   "metadata": {},
   "outputs": [],
   "source": [
    "install.packages(\"BSDA\")\n",
    "library(\"BSDA\")"
   ]
  },
  {
   "cell_type": "markdown",
   "id": "wired-encounter",
   "metadata": {},
   "source": [
    "# Chebyshev inequality"
   ]
  },
  {
   "cell_type": "code",
   "execution_count": 6,
   "id": "unavailable-republic",
   "metadata": {},
   "outputs": [
    {
     "data": {
      "text/plain": [
       "[1] The k is 3.000000"
      ]
     },
     "metadata": {},
     "output_type": "display_data"
    },
    {
     "data": {
      "text/plain": [
       "[1] The Upper Limit is 22.000000"
      ]
     },
     "metadata": {},
     "output_type": "display_data"
    },
    {
     "data": {
      "text/plain": [
       "[1] The Lower Limit is -2.000000"
      ]
     },
     "metadata": {},
     "output_type": "display_data"
    }
   ],
   "source": [
    "#given probability (within)\n",
    "sd = 4\n",
    "p = 8/9 \n",
    "mean = 10\n",
    "\n",
    "k2 = 1/(1-p)\n",
    "k = sqrt(k2)\n",
    "upper = mean + k*sd\n",
    "lower = mean - k*sd\n",
    "\n",
    "noquote(sprintf(\"The k is %f\",k))\n",
    "noquote(sprintf(\"The Upper Limit is %f\",upper))\n",
    "noquote(sprintf(\"The Lower Limit is %f\",lower))"
   ]
  },
  {
   "cell_type": "code",
   "execution_count": 79,
   "id": "understood-george",
   "metadata": {},
   "outputs": [
    {
     "data": {
      "text/plain": [
       "[1] The k is 4.000000"
      ]
     },
     "metadata": {},
     "output_type": "display_data"
    },
    {
     "data": {
      "text/plain": [
       "[1] 1/k2 is 0.062500"
      ]
     },
     "metadata": {},
     "output_type": "display_data"
    },
    {
     "data": {
      "text/plain": [
       "[1] 1 - 1/k2 is 0.937500"
      ]
     },
     "metadata": {},
     "output_type": "display_data"
    }
   ],
   "source": [
    "#given bounds (within)\n",
    "sd = 1\n",
    "mean = 4\n",
    "upper = 8\n",
    "\n",
    "k = (upper - mean)/sd\n",
    "oneOverk2 = 1/(k**2)\n",
    "oneMinusOneOverk2 = 1 - 1/(k**2)\n",
    "\n",
    "noquote(sprintf(\"The k is %f\",k))\n",
    "noquote(sprintf(\"1/k2 is %f\",oneOverk2))\n",
    "noquote(sprintf(\"1 - 1/k2 is %f\",oneMinusOneOverk2))"
   ]
  },
  {
   "cell_type": "markdown",
   "id": "exterior-default",
   "metadata": {},
   "source": [
    "# Bernoulli & binomial distribution"
   ]
  },
  {
   "cell_type": "markdown",
   "id": "coordinated-opinion",
   "metadata": {},
   "source": [
    "Binomial (Bernoulli when n = 1)"
   ]
  },
  {
   "cell_type": "code",
   "execution_count": null,
   "id": "aggressive-peeing",
   "metadata": {},
   "outputs": [],
   "source": [
    "#individual outcome probability\n",
    "dbinom(x, size = n, prob = p)\n",
    "\n",
    "#cumulative pbinom (pvalue), less than or equal to <= / greater than >\n",
    "pbinom(x, size = n, prob = p, lower.tail = lowertail)\n",
    "\n",
    "#cumulative range, p of lower <= x <= upper\n",
    "pbinom(upper, size = n, prob = p, lower.tail = TRUE) - pbinom(lower-1, size = n, prob = p, lower.tail = TRUE)\n",
    "\n",
    "#x value given cumulative probability, less than or equal to <= / greater than >\n",
    "qbinom(0.25, size = n, prob = p, lower.tail = lowertail)"
   ]
  },
  {
   "cell_type": "code",
   "execution_count": 76,
   "id": "august-editing",
   "metadata": {},
   "outputs": [
    {
     "data": {
      "text/html": [
       "0.244025230407715"
      ],
      "text/latex": [
       "0.244025230407715"
      ],
      "text/markdown": [
       "0.244025230407715"
      ],
      "text/plain": [
       "[1] 0.2440252"
      ]
     },
     "metadata": {},
     "output_type": "display_data"
    }
   ],
   "source": [
    "n = 10\n",
    "p = 0.25\n",
    "lowertail = TRUE\n",
    "x = 1\n",
    "\n",
    "upper = 5\n",
    "lower = 3\n",
    "\n",
    "eX = n*p\n",
    "varX = n*p*(1-p)\n",
    "sdX = sqrt(varX)\n",
    "\n",
    "pbinom(x, size = n, prob = p, lower.tail = lowertail)\n"
   ]
  },
  {
   "cell_type": "markdown",
   "id": "sacred-duplicate",
   "metadata": {},
   "source": [
    "Normal approximation"
   ]
  },
  {
   "cell_type": "code",
   "execution_count": null,
   "id": "going-modification",
   "metadata": {},
   "outputs": [],
   "source": [
    "#p lower <= X <= upper - if single value, put same\n",
    "pnorm(upper, eX, sdX, lower.tail = TRUE) - pnorm(lower, eX, sdX, lower.tail = TRUE)\n",
    "\n",
    "#cumulative , less than or equal to <= / greater than >\n",
    "pnorm(x, eX, sdX, lower.tail = lowertail)\n",
    "\n",
    "#cumulative range\n",
    "pnorm(upper, eX, sdX, lower.tail = TRUE) - pnorm(lower, eX, sdX, lower.tail = TRUE)\n",
    "\n",
    "#z* value given p\n",
    "qnorm(0.05, eX, sdX, lower.tail = lowertail)"
   ]
  },
  {
   "cell_type": "code",
   "execution_count": null,
   "id": "direct-startup",
   "metadata": {},
   "outputs": [],
   "source": [
    "x = 9.5\n",
    "lower = 35 - 0.5\n",
    "upper = 47 + 0.5\n",
    "\n",
    "lowertail = FALSE\n",
    "\n",
    "canApprox = (n*p > 5) && (n*(1-p) > 5)\n",
    "eX = n*p\n",
    "varX = n*p*(1-p)\n",
    "sdX = sqrt(varX)\n",
    "\n"
   ]
  },
  {
   "cell_type": "markdown",
   "id": "suspended-seeking",
   "metadata": {},
   "source": [
    "Poisson approximation"
   ]
  },
  {
   "cell_type": "code",
   "execution_count": null,
   "id": "athletic-editor",
   "metadata": {},
   "outputs": [],
   "source": [
    "#exact probability\n",
    "dpois(x, lam = lam, log = FALSE)\n",
    "\n",
    "#cumulative pbinom (pvalue), less than or equal to <= / greater than >\n",
    "ppois(x, lam = lam, lower.tail = lowertail, log.p = FALSE)\n",
    "\n",
    "#cumulative range\n",
    "ppois(upper, lam = lam, lower.tail = TRUE, log.p = FALSE) - ppois(lower, lam = lam, lower.tail = TRUE, log.p = FALSE)\n",
    "\n",
    "#inverse given p\n",
    "qpois(p, lam, lower.tail = TRUE, log.p = FALSE)"
   ]
  },
  {
   "cell_type": "code",
   "execution_count": null,
   "id": "phantom-politics",
   "metadata": {},
   "outputs": [],
   "source": [
    "lam = n*p\n",
    "\n",
    "x = 205\n",
    "upper = 210\n",
    "lower = 184\n"
   ]
  },
  {
   "cell_type": "markdown",
   "id": "wound-examination",
   "metadata": {},
   "source": [
    "# Negative Binomial & geometric distribution"
   ]
  },
  {
   "cell_type": "code",
   "execution_count": null,
   "id": "grand-success",
   "metadata": {},
   "outputs": [],
   "source": [
    "#individual outcome probability\n",
    "dnbinom(trials-num_success, size = num_success, prob = p)\n",
    "\n",
    "#cumulative pbinom (pvalue), less than or equal to <= / greater than >\n",
    "pnbinom(trials-num_success, size = num_success, prob = p, lower.tail = lowertail)\n",
    "\n",
    "#cumulative range, p of lower <= x <= upper\n",
    "pnbinom(upper-num_success, size = num_success, prob = p, lower.tail = TRUE) - pnbinom(lower-1-num_success, size = num_success, prob = p, lower.tail = TRUE)\n"
   ]
  },
  {
   "cell_type": "code",
   "execution_count": 86,
   "id": "adult-paragraph",
   "metadata": {},
   "outputs": [
    {
     "data": {
      "text/html": [
       "1"
      ],
      "text/latex": [
       "1"
      ],
      "text/markdown": [
       "1"
      ],
      "text/plain": [
       "[1] 1"
      ]
     },
     "metadata": {},
     "output_type": "display_data"
    }
   ],
   "source": [
    "num_success = 10\n",
    "p = 0.1\n",
    "lowertail = TRUE\n",
    "trials = 999\n",
    "\n",
    "eX = num_success/p\n",
    "varX = ((1-p)*num_success)/(p^2)\n",
    "sdX = sqrt(varX)\n",
    "\n",
    "upper = 5\n",
    "lower = 10\n",
    "\n",
    "pnbinom(trials-num_success, size = num_success, prob = p, lower.tail = lowertail)\n"
   ]
  },
  {
   "cell_type": "markdown",
   "id": "together-tours",
   "metadata": {},
   "source": [
    "# Poisson distribution"
   ]
  },
  {
   "cell_type": "code",
   "execution_count": null,
   "id": "sixth-milton",
   "metadata": {},
   "outputs": [],
   "source": [
    "#exact probability\n",
    "dpois(x, lam = lam, log = FALSE)\n",
    "\n",
    "#cumulative pbinom (pvalue), less than or equal to <= / greater than >\n",
    "ppois(x, lam = lam, lower.tail = lowertail, log.p = FALSE)\n",
    "\n",
    "#cumulative range\n",
    "ppois(upper, lam = lam, lower.tail = TRUE, log.p = FALSE) - ppois(lower-1, lam = lam, lower.tail = TRUE, log.p = FALSE)\n",
    "\n",
    "#inverse given p\n",
    "qpois(p, lam, lower.tail = TRUE, log.p = FALSE)\n"
   ]
  },
  {
   "cell_type": "code",
   "execution_count": 17,
   "id": "suited-manor",
   "metadata": {},
   "outputs": [
    {
     "data": {
      "text/html": [
       "0.84717542926913"
      ],
      "text/latex": [
       "0.84717542926913"
      ],
      "text/markdown": [
       "0.84717542926913"
      ],
      "text/plain": [
       "[1] 0.8471754"
      ]
     },
     "metadata": {},
     "output_type": "display_data"
    }
   ],
   "source": [
    "lam = 15\n",
    "lowertail = FALSE\n",
    "\n",
    "x = 20\n",
    "upper = 20\n",
    "lower = 10\n",
    "\n",
    "eX = lam\n",
    "varX = lam\n",
    "sdX = sqrt(varX)\n",
    "\n",
    "ppois(upper, lam = lam, lower.tail = TRUE, log.p = FALSE) - ppois(lower-1, lam = lam, lower.tail = TRUE, log.p = FALSE)\n",
    "\n"
   ]
  },
  {
   "cell_type": "markdown",
   "id": "macro-confusion",
   "metadata": {},
   "source": [
    "# Exponential distribution"
   ]
  },
  {
   "cell_type": "code",
   "execution_count": null,
   "id": "egyptian-signature",
   "metadata": {},
   "outputs": [],
   "source": [
    "#individual outcome probability\n",
    "dexp(x, rate = alpha, log = FALSE)\n",
    "\n",
    "#cumulative pexp (pvalue), less than or equal to <= / greater than >\n",
    "pexp(x, rate = alpha, lower.tail = lowertail, log.p = FALSE)\n",
    "\n",
    "#cumulative range, p of lower <= x <= upper\n",
    "pexp(upper, rate = alpha, lower.tail = TRUE, log.p = FALSE) - pexp(lower, rate = alpha, lower.tail = TRUE, log.p = FALSE)\n",
    "\n",
    "#x value given cumulative probability, less than or equal to <= / greater than >\n",
    "qexp(p, rate = alpha, lower.tail = lowertail, log.p = FALSE)\n"
   ]
  },
  {
   "cell_type": "code",
   "execution_count": 90,
   "id": "functioning-albuquerque",
   "metadata": {},
   "outputs": [
    {
     "data": {
      "text/html": [
       "0.263597138115727"
      ],
      "text/latex": [
       "0.263597138115727"
      ],
      "text/markdown": [
       "0.263597138115727"
      ],
      "text/plain": [
       "[1] 0.2635971"
      ]
     },
     "metadata": {},
     "output_type": "display_data"
    }
   ],
   "source": [
    "eX = 3 #1/alpha\n",
    "alpha = 1/eX\n",
    "varX = 1/(alpha^2)\n",
    "\n",
    "lowertail = FALSE\n",
    "x = 4\n",
    "\n",
    "upper = 50000\n",
    "lower = 0\n",
    "\n",
    "pexp(x, rate = alpha, lower.tail = lowertail, log.p = FALSE)\n"
   ]
  },
  {
   "cell_type": "markdown",
   "id": "cutting-blake",
   "metadata": {},
   "source": [
    "# Normal distribution"
   ]
  },
  {
   "cell_type": "code",
   "execution_count": null,
   "id": "infectious-montreal",
   "metadata": {},
   "outputs": [],
   "source": [
    "#p lower <= X <= upper - if single value, put same\n",
    "pnorm(upper, mu, stdev, lower.tail = TRUE) - pnorm(lower, mu, stdev, lower.tail = TRUE)\n",
    "\n",
    "#cumulative , less than or equal to <= / greater than >\n",
    "pnorm(x, mu, stdev, lower.tail = lowertail)\n",
    "\n",
    "#cumulative range, p of lower <= x <= upper\n",
    "pnorm(upper, mu, stdev, lower.tail = TRUE) - pnorm(lower, mu, stdev, lower.tail = TRUE)\n",
    "\n",
    "#z* value given p\n",
    "qnorm(0.25, mu, stdev, lower.tail = lowertail)\n",
    "\n",
    "#z* value given p (standard)\n",
    "qnorm(0.0555555555556, 0, 1, lower.tail = lowertail)"
   ]
  },
  {
   "cell_type": "code",
   "execution_count": 94,
   "id": "united-dubai",
   "metadata": {},
   "outputs": [
    {
     "data": {
      "text/html": [
       "-1.64485362695147"
      ],
      "text/latex": [
       "-1.64485362695147"
      ],
      "text/markdown": [
       "-1.64485362695147"
      ],
      "text/plain": [
       "[1] -1.644854"
      ]
     },
     "metadata": {},
     "output_type": "display_data"
    }
   ],
   "source": [
    "mu = 10\n",
    "var = 100\n",
    "n = 1\n",
    "stdev = sqrt(var)\n",
    "stdev = stdev/sqrt(n)\n",
    "\n",
    "x = 105\n",
    "lowertail = TRUE\n",
    "upper = 40\n",
    "lower = -20\n",
    "\n",
    "qnorm(0.05, 0, 1, lower.tail = lowertail)"
   ]
  },
  {
   "cell_type": "markdown",
   "id": "developmental-speed",
   "metadata": {},
   "source": [
    "# T distribution"
   ]
  },
  {
   "cell_type": "code",
   "execution_count": null,
   "id": "severe-valley",
   "metadata": {},
   "outputs": [],
   "source": [
    "#p lower <= X <= upper - if single value, put same\n",
    "pt(upper, dof, lower.tail = TRUE) - pt(lower, dof, lower.tail = TRUE)\n",
    "\n",
    "#cumulative , less than or equal to <= / greater than >\n",
    "pt(t, dof, lower.tail = lowertail)\n",
    "\n",
    "#t* value given p\n",
    "qt(probability, dof, lower.tail = lowertail)"
   ]
  },
  {
   "cell_type": "code",
   "execution_count": 95,
   "id": "choice-words",
   "metadata": {},
   "outputs": [
    {
     "data": {
      "text/html": [
       "-1.83311293265624"
      ],
      "text/latex": [
       "-1.83311293265624"
      ],
      "text/markdown": [
       "-1.83311293265624"
      ],
      "text/plain": [
       "[1] -1.833113"
      ]
     },
     "metadata": {},
     "output_type": "display_data"
    }
   ],
   "source": [
    "n = 9\n",
    "s = 4.1\n",
    "xbar = 24\n",
    "mu = 20\n",
    "\n",
    "upper = 5\n",
    "lower = 3\n",
    "\n",
    "lowertail = TRUE\n",
    "\n",
    "t = (xbar - mu)/(s/sqrt(n))\n",
    "dof = n-1\n",
    "\n",
    "qt(0.05, 9, lower.tail = lowertail)"
   ]
  },
  {
   "cell_type": "markdown",
   "id": "prospective-berry",
   "metadata": {},
   "source": [
    "# Chi Square"
   ]
  },
  {
   "cell_type": "code",
   "execution_count": null,
   "id": "rapid-making",
   "metadata": {},
   "outputs": [],
   "source": [
    "#p lower <= X <= upper - if single value, put same\n",
    "pchisq(upperchisq, dof, lower.tail = TRUE) - pchisq(lowerchisq, dof, lower.tail = TRUE)\n",
    "\n",
    "#cumulative , less than or equal to <= / greater than >\n",
    "pchisq(chisq, dof, lower.tail = lowertail)\n",
    "\n",
    "#cumulative range, p of lower <= x <= upper\n",
    "pchisq(upperchisq, dof, lower.tail = TRUE) - pchisq(lowerchisq, dof, lower.tail = FALSE)\n",
    "\n",
    "#chisq* value given p\n",
    "qchisq(0.25, dof)"
   ]
  },
  {
   "cell_type": "code",
   "execution_count": null,
   "id": "continuing-learning",
   "metadata": {},
   "outputs": [],
   "source": [
    "n = 25\n",
    "var = 6\n",
    "lowertail = FALSE\n",
    "\n",
    "s2 = 9.1\n",
    "upper = 10.745\n",
    "lower = 3.462\n",
    "\n",
    "dof = n-1\n",
    "chisq = dof*s2/var\n",
    "upperchisq = dof*upper/var\n",
    "lowerchisq = dof*lower/var\n",
    "\n",
    "pchisq(upperchisq, dof, lower.tail = TRUE) - pchisq(lowerchisq, dof, lower.tail = TRUE)"
   ]
  },
  {
   "cell_type": "markdown",
   "id": "through-disabled",
   "metadata": {},
   "source": [
    "# F distribution"
   ]
  },
  {
   "cell_type": "code",
   "execution_count": null,
   "id": "ahead-driver",
   "metadata": {},
   "outputs": [],
   "source": [
    "#p lower <= X <= upper - if single value, put same\n",
    "pf(upper, dof1, dof2, lower.tail = TRUE) - pf(lower, dof1, dof2, lower.tail = TRUE)\n",
    "\n",
    "#cumulative , less than or equal to <= / greater than >\n",
    "pf(f, dof1, dof2, lower.tail = lowertail)\n",
    "\n",
    "#cumulative range, p of lower <= x <= upper\n",
    "pf(upperf, dof1, dof2, lower.tail = TRUE) - pf(lowerf, dof1, dof2, lower.tail = TRUE)\n",
    "\n",
    "#F* value given p\n",
    "qf(0.25, dof1, dof2, lower.tail = lowertail)"
   ]
  },
  {
   "cell_type": "code",
   "execution_count": 81,
   "id": "checked-feeding",
   "metadata": {},
   "outputs": [
    {
     "data": {
      "text/html": [
       "0.990029508204545"
      ],
      "text/latex": [
       "0.990029508204545"
      ],
      "text/markdown": [
       "0.990029508204545"
      ],
      "text/plain": [
       "[1] 0.9900295"
      ]
     },
     "metadata": {},
     "output_type": "display_data"
    }
   ],
   "source": [
    "n1 = 8\n",
    "var1 = 1\n",
    "s1 = 10\n",
    "\n",
    "n2 = 12\n",
    "var2 = 1\n",
    "s2 = 11\n",
    "\n",
    "alpha = 0.05\n",
    "\n",
    "dof1 = n1-1\n",
    "dof2 = n2-1\n",
    "\n",
    "f = 4.89 #(s1^2/var1)/(s2^2/var2)\n",
    "lowertail = TRUE\n",
    "upperf = 1\n",
    "lowerf = 1\n",
    "\n",
    "pf(f, dof1, dof2, lower.tail = lowertail)"
   ]
  },
  {
   "cell_type": "markdown",
   "id": "compressed-intent",
   "metadata": {},
   "source": [
    "# Data"
   ]
  },
  {
   "cell_type": "code",
   "execution_count": null,
   "id": "productive-anger",
   "metadata": {},
   "outputs": [],
   "source": [
    "#bivariate data\n",
    "data1 <- c(102,86,98,109,92) \n",
    "data2 <- c(81,165,97,134,92,87,114)\n",
    "data = c()\n",
    "\n",
    "s1 = sd(data1)\n",
    "n1 = length(data1)\n",
    "dof1 = n1-1\n",
    "s2 = sd(data2)\n",
    "n2 = length(data2)\n",
    "dof2 = n2 - 1\n",
    "\n",
    "for (i in 1:n1) {\n",
    "    data <- c(data, data1[i]-data2[i])\n",
    "} \n"
   ]
  },
  {
   "cell_type": "code",
   "execution_count": 83,
   "id": "israeli-christmas",
   "metadata": {},
   "outputs": [
    {
     "data": {
      "text/plain": [
       "[1] The sample size is 5.000000"
      ]
     },
     "metadata": {},
     "output_type": "display_data"
    },
    {
     "data": {
      "text/plain": [
       "[1] The sample mean is 46.420000"
      ]
     },
     "metadata": {},
     "output_type": "display_data"
    },
    {
     "data": {
      "text/plain": [
       "[1] The population variance is 41.682000"
      ]
     },
     "metadata": {},
     "output_type": "display_data"
    },
    {
     "data": {
      "text/plain": [
       "[1] The sample estimate of variance is 41.682000"
      ]
     },
     "metadata": {},
     "output_type": "display_data"
    }
   ],
   "source": [
    "#univariate data\n",
    "data <- c(37.4, 48.8, 46.9, 55, 44)\n",
    "sd = sd(data)\n",
    "n = length(data)\n",
    "dof = n-1\n",
    "xbar = mean(data)\n",
    "s2 = 0\n",
    "\n",
    "for (i in 1:n) {\n",
    "    s2 = s2 + (data[i]-xbar)^2\n",
    "}\n",
    "\n",
    "s2 = (1/(n-1))*s2\n",
    "\n",
    "noquote(sprintf(\"The sample size is %f\",n))\n",
    "noquote(sprintf(\"The sample mean is %f\",xbar))\n",
    "noquote(sprintf(\"The population variance is %f\",sd^2))\n",
    "noquote(sprintf(\"The sample estimate of variance is %f\",s2))\n",
    "\n"
   ]
  },
  {
   "cell_type": "markdown",
   "id": "blank-express",
   "metadata": {},
   "source": [
    "# Discrete distributions"
   ]
  },
  {
   "cell_type": "markdown",
   "id": "white-attendance",
   "metadata": {},
   "source": [
    "General"
   ]
  },
  {
   "cell_type": "code",
   "execution_count": 93,
   "id": "engaging-collar",
   "metadata": {},
   "outputs": [
    {
     "data": {
      "text/plain": [
       "[1] valid input:  TRUE"
      ]
     },
     "metadata": {},
     "output_type": "display_data"
    },
    {
     "data": {
      "text/plain": [
       "[1] The expectation is 1.700000"
      ]
     },
     "metadata": {},
     "output_type": "display_data"
    },
    {
     "data": {
      "text/plain": [
       "[1] Second moment is 6.100000"
      ]
     },
     "metadata": {},
     "output_type": "display_data"
    },
    {
     "data": {
      "text/plain": [
       "[1] The variance is 3.210000"
      ]
     },
     "metadata": {},
     "output_type": "display_data"
    },
    {
     "data": {
      "text/plain": [
       "[1] The standard deviation is 1.791647"
      ]
     },
     "metadata": {},
     "output_type": "display_data"
    }
   ],
   "source": [
    "#given distribution\n",
    "x = c(0, 1, 2, 5)\n",
    "p = c(0.3, 0.3, 0.2, 0.2)\n",
    "eX = 0\n",
    "eX2 = 0\n",
    "\n",
    "for (k in 1:length(x)){\n",
    "    eX = (x[k])*(p[k]) + eX\n",
    "    eX2 = (x[k]^2)*(p[k]) + eX2\n",
    "}\n",
    "\n",
    "var = eX2 - eX**2\n",
    "stdev = sqrt(var)\n",
    "\n",
    "noquote(paste(\"valid input: \", length(x) == length(p) && sum(p) == 1))\n",
    "noquote(sprintf(\"The expectation is %f\",eX))\n",
    "noquote(sprintf(\"Second moment is %f\",eX2))\n",
    "noquote(sprintf(\"The variance is %f\",var))\n",
    "noquote(sprintf(\"The standard deviation is %f\",stdev))\n"
   ]
  },
  {
   "cell_type": "markdown",
   "id": "abstract-patrick",
   "metadata": {},
   "source": [
    "Profit/loss"
   ]
  },
  {
   "cell_type": "code",
   "execution_count": 3,
   "id": "cognitive-government",
   "metadata": {},
   "outputs": [
    {
     "name": "stdout",
     "output_type": "stream",
     "text": [
      "[1] \"----- PROFIT -----\"\n",
      "[1] valid input:  TRUE\n",
      "[1] The expectated profit is 0.700000\n",
      "[1] Second moment is 1.050000\n",
      "[1] The variance is 0.560000\n",
      "[1] The standard deviation is 0.748331\n"
     ]
    }
   ],
   "source": [
    "k = 15\n",
    "x = c(0, 1, 2, 3,4,5)\n",
    "p = c(0, 1/k, 2/k, 3/k, 4/k, 5/k)\n",
    "\n",
    "total = 5\n",
    "revPerUnit = 1.50\n",
    "costPerUnit = 1.20\n",
    "cost = total*costPerUnit\n",
    "gainBackPerUnit = 0.9\n",
    "\n",
    "vec = c()\n",
    "for (i in 1: length(x)) {\n",
    "    val = x[i] * revPerUnit + (total-x[i])*(gainBackPerUnit) - cost\n",
    "    vec = c(vec, val)\n",
    "}\n",
    "\n",
    "eX = 0\n",
    "eX2 = 0\n",
    "for (k in 1:length(vec)){\n",
    "    eX = (vec[k])*(p[k]) + eX\n",
    "    eX2 = (vec[k]^2)*(p[k]) + eX2\n",
    "}\n",
    "\n",
    "var = eX2 - eX**2\n",
    "stdev = sqrt(var)\n",
    "\n",
    "#profit\n",
    "print(\"----- PROFIT -----\")\n",
    "print(noquote(paste(\"valid input: \", length(x) == length(p) && sum(p) == 1)))\n",
    "print(noquote(sprintf(\"The expectated profit is %f\",eX)))\n",
    "print(noquote(sprintf(\"Second moment is %f\",eX2)))\n",
    "print(noquote(sprintf(\"The variance is %f\",var)))\n",
    "print(noquote(sprintf(\"The standard deviation is %f\",stdev)))\n"
   ]
  },
  {
   "cell_type": "markdown",
   "id": "adapted-mount",
   "metadata": {},
   "source": [
    "Getting PDF from CDF"
   ]
  },
  {
   "cell_type": "code",
   "execution_count": 91,
   "id": "returning-extent",
   "metadata": {},
   "outputs": [
    {
     "name": "stdout",
     "output_type": "stream",
     "text": [
      "[1] valid output:  TRUE\n",
      "[1] pdf is: \n",
      "[1] 0.0 0.3 0.3 0.2 0.2\n"
     ]
    }
   ],
   "source": [
    "cdf = c(0,0, 0.3, 0.6, 0.8, 1) #keep first 0 there\n",
    "n = length(cdf)\n",
    "\n",
    "x = 0\n",
    "out = c()\n",
    "for (i in n:1) {\n",
    "    prev = cdf[i]\n",
    "    temp = cdf[i-1]\n",
    "    x = prev - temp\n",
    "    out = c(x, out)\n",
    "}\n",
    "\n",
    "print(noquote(paste(\"valid output: \", sum(out) == 1)))\n",
    "print(noquote(\"pdf is: \"))\n",
    "print(out)\n",
    "\n"
   ]
  },
  {
   "cell_type": "markdown",
   "id": "useful-jaguar",
   "metadata": {},
   "source": [
    "Getting CDF from PDF"
   ]
  },
  {
   "cell_type": "code",
   "execution_count": 58,
   "id": "substantial-rhythm",
   "metadata": {},
   "outputs": [
    {
     "name": "stdout",
     "output_type": "stream",
     "text": [
      "[1] valid input:  TRUE\n",
      "[1] cdf is: \n",
      "[1] 0.00 0.30 0.40 0.45 0.60 1.00\n"
     ]
    }
   ],
   "source": [
    "pdf = c(0.00, 0.30, 0.10, 0.05, 0.15, 0.40) #keep first 0 there\n",
    "n = length(pdf)\n",
    "\n",
    "x = 0\n",
    "out = c()\n",
    "for (i in 1:n) {\n",
    "    temp = pdf[i]\n",
    "    x = x + temp\n",
    "    out = c(out,x)\n",
    "}\n",
    "\n",
    "print(noquote(paste(\"valid input: \", sum(pdf) == 1)))\n",
    "print(noquote(\"cdf is: \"))\n",
    "print(out)\n"
   ]
  },
  {
   "cell_type": "markdown",
   "id": "alternative-participant",
   "metadata": {},
   "source": [
    "Correlation & covariance"
   ]
  },
  {
   "cell_type": "code",
   "execution_count": 57,
   "id": "common-extreme",
   "metadata": {},
   "outputs": [
    {
     "name": "stderr",
     "output_type": "stream",
     "text": [
      "Warning message in sqrt(varY):\n",
      "\"NaNs produced\""
     ]
    },
    {
     "name": "stdout",
     "output_type": "stream",
     "text": [
      "[1] \"----- X -----\"\n",
      "[1] variance:  1\n",
      "[1] standard deviation:  1\n",
      "\n",
      "[1] \"----- Y -----\"\n",
      "[1] variance:  -2\n",
      "[1] standard deviation:  NaN\n",
      "\n",
      "[1] \"----- both -----\"\n",
      "[1] COVariance:  -11\n",
      "[1] CORRelation:  NaN\n",
      "[1] valid output:  FALSE\n"
     ]
    }
   ],
   "source": [
    "eX = 3\n",
    "eX2 = 10\n",
    "varX = eX2 - eX**2\n",
    "sdX = sqrt(varX)\n",
    "\n",
    "eY = 2\n",
    "eY2 = 2\n",
    "varY = eY2 - eY**2\n",
    "sdY = sqrt(varY)\n",
    "\n",
    "eXY = -5\n",
    "\n",
    "cov = eXY - eX*eY\n",
    "corr = cov/(sdX * sdY)\n",
    "\n",
    "print(\"----- X -----\")\n",
    "print(noquote(paste(\"variance: \", varX)))\n",
    "print(noquote(paste(\"standard deviation: \", sdX)))\n",
    "cat('\\n')\n",
    "\n",
    "print(\"----- Y -----\")\n",
    "print(noquote(paste(\"variance: \", varY)))\n",
    "print(noquote(paste(\"standard deviation: \", sdY)))\n",
    "cat('\\n')\n",
    "\n",
    "print(\"----- both -----\")\n",
    "print(noquote(paste(\"COVariance: \", cov)))\n",
    "print(noquote(paste(\"CORRelation: \", corr)))\n",
    "print(noquote(paste(\"valid output: \", varX >= 0 && varY >= 0 && corr >= -1 && corr <= 1)))\n"
   ]
  },
  {
   "cell_type": "markdown",
   "id": "voluntary-couple",
   "metadata": {},
   "source": [
    "Linear combination (aX + bY)"
   ]
  },
  {
   "cell_type": "code",
   "execution_count": 61,
   "id": "correct-carrier",
   "metadata": {},
   "outputs": [
    {
     "name": "stdout",
     "output_type": "stream",
     "text": [
      "[1] valid input:  TRUE\n",
      "[1] E(aX + bY):  -9\n",
      "[1] var(aX + bY):  459\n"
     ]
    }
   ],
   "source": [
    "a = 3\n",
    "b = -9\n",
    "\n",
    "#X\n",
    "eX = 3\n",
    "eX2 = 10\n",
    "varX = 9 #eX2 - eX**2\n",
    "sdX = sqrt(varX)\n",
    "\n",
    "#Y\n",
    "eY = 2\n",
    "eY2 = 2\n",
    "varY = 4 #eY2 - eY**2\n",
    "sdY = sqrt(varY)\n",
    "\n",
    "#cov\n",
    "eXY = -5\n",
    "corr = -1/6\n",
    "cov = corr*sdX*sdY #eXY - eX*eY\n",
    "\n",
    "eaXplusbY = a*eX + b*eY\n",
    "varaXplusbY = a*a*varX + b*b*varY + 2*a*b*cov\n",
    "\n",
    "print(noquote(paste(\"valid input: \", varX >= 0 && varY >= 0 && corr >= -1 && corr <= 1)))\n",
    "print(noquote(paste(\"E(aX + bY): \", eaXplusbY)))\n",
    "print(noquote(paste(\"var(aX + bY): \", varaXplusbY)))\n",
    "\n"
   ]
  },
  {
   "cell_type": "markdown",
   "id": "bizarre-wiring",
   "metadata": {},
   "source": [
    "# Discrete Random Variables"
   ]
  },
  {
   "cell_type": "code",
   "execution_count": null,
   "id": "corrected-entrance",
   "metadata": {},
   "outputs": [],
   "source": []
  }
 ],
 "metadata": {
  "kernelspec": {
   "display_name": "R",
   "language": "R",
   "name": "ir"
  },
  "language_info": {
   "codemirror_mode": "r",
   "file_extension": ".r",
   "mimetype": "text/x-r-source",
   "name": "R",
   "pygments_lexer": "r",
   "version": "3.6.1"
  },
  "toc": {
   "base_numbering": 1,
   "nav_menu": {},
   "number_sections": true,
   "sideBar": true,
   "skip_h1_title": false,
   "title_cell": "Table of Contents",
   "title_sidebar": "Contents",
   "toc_cell": false,
   "toc_position": {
    "height": "calc(100% - 180px)",
    "left": "10px",
    "top": "150px",
    "width": "256px"
   },
   "toc_section_display": true,
   "toc_window_display": true
  },
  "varInspector": {
   "cols": {
    "lenName": 16,
    "lenType": 16,
    "lenVar": 40
   },
   "kernels_config": {
    "python": {
     "delete_cmd_postfix": "",
     "delete_cmd_prefix": "del ",
     "library": "var_list.py",
     "varRefreshCmd": "print(var_dic_list())"
    },
    "r": {
     "delete_cmd_postfix": ") ",
     "delete_cmd_prefix": "rm(",
     "library": "var_list.r",
     "varRefreshCmd": "cat(var_dic_list()) "
    }
   },
   "types_to_exclude": [
    "module",
    "function",
    "builtin_function_or_method",
    "instance",
    "_Feature"
   ],
   "window_display": false
  }
 },
 "nbformat": 4,
 "nbformat_minor": 5
}
