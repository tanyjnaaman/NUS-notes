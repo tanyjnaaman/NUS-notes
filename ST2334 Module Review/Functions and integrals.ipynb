{
 "cells": [
  {
   "cell_type": "code",
   "execution_count": 16,
   "id": "elect-little",
   "metadata": {
    "scrolled": true
   },
   "outputs": [],
   "source": [
    "library(rSymPy)"
   ]
  },
  {
   "cell_type": "code",
   "execution_count": 17,
   "id": "mathematical-drive",
   "metadata": {},
   "outputs": [],
   "source": [
    "Exp <- function(x) Sym(\"exp(\", x, \")\") \n",
    "Pow <- function(x,y) Sym(\"Pow(\",x,\",\",y,\")\")"
   ]
  },
  {
   "cell_type": "markdown",
   "id": "eight-container",
   "metadata": {},
   "source": [
    "# Univariate distributions"
   ]
  },
  {
   "cell_type": "code",
   "execution_count": 85,
   "id": "promotional-hearts",
   "metadata": {},
   "outputs": [
    {
     "name": "stdout",
     "output_type": "stream",
     "text": [
      "[1] \"----- CHARACTERISTICS OF X -----\"\n",
      "[1] Integral of fx:  2*x + 2/x\n",
      "[1] Integral of fx with provided limits:  1.00000000000000\n",
      "[1] eX is:  1.61370563888011\n",
      "[1] eX2 is:  2.66666666666667\n",
      "[1] varX is:  0.0626207777132\n"
     ]
    }
   ],
   "source": [
    "x <- Var('x')\n",
    "a <- Var('a')\n",
    "b <- Var('b')\n",
    "c <- Var('c')\n",
    "\n",
    "#enter values here\n",
    "fx = 2*(1-(1/(x*x)))\n",
    "\n",
    "x_upper = 2\n",
    "x_lower = 1\n",
    "\n",
    "calculateAllx(fx,x_upper, x_lower)"
   ]
  },
  {
   "cell_type": "markdown",
   "id": "bigger-operations",
   "metadata": {},
   "source": [
    "# Bivariate distributions"
   ]
  },
  {
   "cell_type": "code",
   "execution_count": 89,
   "id": "varied-pipeline",
   "metadata": {},
   "outputs": [
    {
     "name": "stderr",
     "output_type": "stream",
     "text": [
      "Warning message in calculateAll(fxy, y_upper, y_lower, x_upper, x_lower, xval, yval):\n",
      "\"NAs introduced by coercion\"Warning message in calculateAll(fxy, y_upper, y_lower, x_upper, x_lower, xval, yval):\n",
      "\"NAs introduced by coercion\""
     ]
    },
    {
     "ename": "ERROR",
     "evalue": "Error in .jcall(\"RJavaTools\", \"Ljava/lang/Object;\", \"invokeMethod\", cl, : Traceback (most recent call last):\r\n  File \"<string>\", line 1, in <module>\r\n  File \"C:\\Users\\tanna\\anaconda3\\envs\\R\\Lib\\R\\library\\rSymPy\\Lib\\sympy\\utilities\\decorator.py\", line 56, in threaded_decorator\r\n    return func(expr, *args, **kwargs)\r\n  File \"C:\\Users\\tanna\\anaconda3\\envs\\R\\Lib\\R\\library\\rSymPy\\Lib\\sympy\\integrals\\integrals.py\", line 482, in integrate\r\n    return integral.doit()\r\n  File \"C:\\Users\\tanna\\anaconda3\\envs\\R\\Lib\\R\\library\\rSymPy\\Lib\\sympy\\integrals\\integrals.py\", line 134, in doit\r\n    antideriv = self._eval_integral(function, x)\r\n  File \"C:\\Users\\tanna\\anaconda3\\envs\\R\\Lib\\R\\library\\rSymPy\\Lib\\sympy\\integrals\\integrals.py\", line 315, in _eval_integral\r\n    h = heurisch(g, x, hints=[])\r\n  File \"C:\\Users\\tanna\\anaconda3\\envs\\R\\Lib\\R\\library\\rSymPy\\Lib\\sympy\\integrals\\risch.py\", line 170, in heurisch\r\n    terms = components(f, x)\r\n  File \"C:\\Users\\tanna\\anaconda3\\envs\\R\\Lib\\R\\library\\rSymPy\\Lib\\sympy\\integrals\\risch.py\", line 54, in components\r\n    result |= components(g, x)\r\n  File \"C:\\Users\\tanna\\anaconda3\\envs\\R\\Lib\\R\\library\\rSymPy\\Lib\\sympy\\integrals\\risch.py\", line 54, in components\r\n    result |= components(g, x)\r\n  File \"C:\\Users\\tanna\\anaconda3\\envs\\R\\Lib\\R\\library\\rSymPy\\Lib\\sympy\\integrals\\risch.py\", line 36, in components\r\n    if f.has(x):\r\nAttributeError: 'tuple' object has no attribute 'has'\r\n\n",
     "output_type": "error",
     "traceback": [
      "Error in .jcall(\"RJavaTools\", \"Ljava/lang/Object;\", \"invokeMethod\", cl, : Traceback (most recent call last):\r\n  File \"<string>\", line 1, in <module>\r\n  File \"C:\\Users\\tanna\\anaconda3\\envs\\R\\Lib\\R\\library\\rSymPy\\Lib\\sympy\\utilities\\decorator.py\", line 56, in threaded_decorator\r\n    return func(expr, *args, **kwargs)\r\n  File \"C:\\Users\\tanna\\anaconda3\\envs\\R\\Lib\\R\\library\\rSymPy\\Lib\\sympy\\integrals\\integrals.py\", line 482, in integrate\r\n    return integral.doit()\r\n  File \"C:\\Users\\tanna\\anaconda3\\envs\\R\\Lib\\R\\library\\rSymPy\\Lib\\sympy\\integrals\\integrals.py\", line 134, in doit\r\n    antideriv = self._eval_integral(function, x)\r\n  File \"C:\\Users\\tanna\\anaconda3\\envs\\R\\Lib\\R\\library\\rSymPy\\Lib\\sympy\\integrals\\integrals.py\", line 315, in _eval_integral\r\n    h = heurisch(g, x, hints=[])\r\n  File \"C:\\Users\\tanna\\anaconda3\\envs\\R\\Lib\\R\\library\\rSymPy\\Lib\\sympy\\integrals\\risch.py\", line 170, in heurisch\r\n    terms = components(f, x)\r\n  File \"C:\\Users\\tanna\\anaconda3\\envs\\R\\Lib\\R\\library\\rSymPy\\Lib\\sympy\\integrals\\risch.py\", line 54, in components\r\n    result |= components(g, x)\r\n  File \"C:\\Users\\tanna\\anaconda3\\envs\\R\\Lib\\R\\library\\rSymPy\\Lib\\sympy\\integrals\\risch.py\", line 54, in components\r\n    result |= components(g, x)\r\n  File \"C:\\Users\\tanna\\anaconda3\\envs\\R\\Lib\\R\\library\\rSymPy\\Lib\\sympy\\integrals\\risch.py\", line 36, in components\r\n    if f.has(x):\r\nAttributeError: 'tuple' object has no attribute 'has'\r\n\nTraceback:\n",
      "1. calculateAll(fxy, y_upper, y_lower, x_upper, x_lower, xval, yval)",
      "2. sympy(eY_str)   # at line 21 of file <text>",
      "3. .Jython$exec(paste(\"__Rsympy=\", ...))",
      "4. .jrcall(x, name, ...)",
      "5. .jcall(\"RJavaTools\", \"Ljava/lang/Object;\", \"invokeMethod\", cl, \n .     .jcast(if (inherits(o, \"jobjRef\") || inherits(o, \"jarrayRef\")) o else cl, \n .         \"java/lang/Object\"), .jnew(\"java/lang/String\", method), \n .     j_p, j_pc, use.true.class = TRUE, evalString = simplify, \n .     evalArray = FALSE)",
      "6. .jcheck(silent = FALSE)"
     ]
    }
   ],
   "source": [
    "y <- Var('y')\n",
    "x <- Var('x')\n",
    "a <- Var('a')\n",
    "b <- Var('b')\n",
    "c <- Var('c')\n",
    "\n",
    "#enter values here\n",
    "fxy = Exp(-x*x - y)\n",
    "\n",
    "x_upper = 1\n",
    "x_lower = 0\n",
    "y_upper = 1\n",
    "y_lower = 0\n",
    "\n",
    "xval = 0.2\n",
    "yval = 0.5\n",
    "\n",
    "a = 1\n",
    "b = 1\n",
    "\n",
    "calculateAll(fxy, y_upper, y_lower, x_upper, x_lower, xval, yval)"
   ]
  },
  {
   "cell_type": "code",
   "execution_count": 47,
   "id": "indirect-accuracy",
   "metadata": {},
   "outputs": [
    {
     "name": "stdout",
     "output_type": "stream",
     "text": [
      "[1] ----- P(X from 0.25  to  0.75 ) -----\n",
      "[1] fx is:  0.5 + 1.5*x**2\n",
      "[1] probability is:  0.453125000000000\n",
      "\n",
      "[1] ----- P(Y from 0  to  0.25 ) -----\n",
      "[1] fy is:  0.5 + 1.5*y**2\n",
      "[1] probability is:  0.453125000000000\n",
      "\n",
      "[1] ----- P(X from 0.25  to  0.75 , Y from 0  to  0.25 ) -----\n",
      "[1] fxy dy is:  0.0078125 + 0.375*x**2\n",
      "[1] probability is:  0.0546875000000000\n"
     ]
    }
   ],
   "source": [
    "#limits of integration\n",
    "x_up = 3/4\n",
    "x_low = 1/4\n",
    "y_up = 1/4\n",
    "y_low = 0\n",
    "\n",
    "\n",
    "calculateProbabilities(fxy, y_upper, y_lower, x_upper, x_lower, y_up, y_low, x_up, x_low)\n"
   ]
  },
  {
   "cell_type": "code",
   "execution_count": 46,
   "id": "surgical-definition",
   "metadata": {},
   "outputs": [
    {
     "name": "stdout",
     "output_type": "stream",
     "text": [
      "[1] ----- Expectation and variance -----\n",
      "[1] expecation is:  1.25000000000000\n",
      "[1] variance is:  0.12083333333333\n",
      "\n"
     ]
    }
   ],
   "source": [
    "#gxy\n",
    "gxy = x + y\n",
    "\n",
    "calculateGxy(gxy, fxy, y_upper, y_lower, x_upper, x_lower)"
   ]
  },
  {
   "cell_type": "markdown",
   "id": "breeding-depression",
   "metadata": {},
   "source": [
    "# General integration"
   ]
  },
  {
   "cell_type": "code",
   "execution_count": 75,
   "id": "suffering-statement",
   "metadata": {},
   "outputs": [
    {
     "data": {
      "text/html": [
       "'0.0153061224489796'"
      ],
      "text/latex": [
       "'0.0153061224489796'"
      ],
      "text/markdown": [
       "'0.0153061224489796'"
      ],
      "text/plain": [
       "[1] \"0.0153061224489796\""
      ]
     },
     "metadata": {},
     "output_type": "display_data"
    },
    {
     "data": {
      "text/html": [
       "'0.0459183673469388'"
      ],
      "text/latex": [
       "'0.0459183673469388'"
      ],
      "text/markdown": [
       "'0.0459183673469388'"
      ],
      "text/plain": [
       "[1] \"0.0459183673469388\""
      ]
     },
     "metadata": {},
     "output_type": "display_data"
    },
    {
     "data": {
      "text/html": [
       "'0.749999999999996'"
      ],
      "text/latex": [
       "'0.749999999999996'"
      ],
      "text/markdown": [
       "'0.749999999999996'"
      ],
      "text/plain": [
       "[1] \"0.749999999999996\""
      ]
     },
     "metadata": {},
     "output_type": "display_data"
    }
   ],
   "source": [
    "y <- Var('y')\n",
    "x <- Var('x')\n",
    "c <- Var('c')\n",
    "\n",
    "#enter values here\n",
    "fxy = (3/392)\n",
    "fx = (1/3)*(x-3.5)*(x-3.5)\n",
    "\n",
    "x_upper = 5\n",
    "x_lower = 2\n",
    "y_upper = 2\n",
    "y_lower = 0\n",
    "\n",
    "#integrate fxy dy then dx\n",
    "resultxy_raw = sympy(paste(\"integrate(\",fxy,\", (y,\",y_lower,\",\",y_upper,\"))\"))\n",
    "resultxy = sympy(paste(\"integrate(\",fxy,\", (y,\",y_lower,\",\",y_upper,\"),(x,\",x_lower,\",\",x_upper,\"))\"))\n",
    "\n",
    "#integrate fx dx\n",
    "resultx = sympy(paste(\"integrate(\", fx,\", (x,\",x_lower,\",\",x_upper,\"))\"))\n",
    "\n",
    "resultxy_raw\n",
    "resultxy\n",
    "resultx"
   ]
  },
  {
   "cell_type": "markdown",
   "id": "polyphonic-traffic",
   "metadata": {
    "heading_collapsed": true
   },
   "source": [
    "# Under the hood"
   ]
  },
  {
   "cell_type": "code",
   "execution_count": null,
   "id": "cleared-warrior",
   "metadata": {
    "hidden": true
   },
   "outputs": [],
   "source": [
    "y <- Var('y')\n",
    "x <- Var('x')\n",
    "\n",
    "#enter values here\n",
    "fxy = (1/8)*(x+y)\n",
    "\n",
    "x_upper = 3\n",
    "x_lower = 0\n",
    "y_upper = 2\n",
    "y_lower = 0\n"
   ]
  },
  {
   "cell_type": "code",
   "execution_count": null,
   "id": "informal-forward",
   "metadata": {
    "hidden": true,
    "scrolled": true
   },
   "outputs": [],
   "source": [
    "#X marginal distribution\n",
    "fx_str = paste(\"integrate(\",fxy,\", (y,\",y_lower,\",\",y_upper,\"))\")\n",
    "fx = sympy(fx_str)\n",
    "eX_str = paste(\"integrate(x*\",fx,\", (x,\",x_lower,\",\",x_upper,\"))\")\n",
    "eX = sympy(eX_str)\n",
    "eX2_str = paste(\"integrate((x**2)*\",fx,\", (x,\",x_lower,\",\",x_upper,\"))\")\n",
    "eX2 = sympy(eX2_str)\n",
    "varX_str = paste(eX2,\"-(\",eX,\")**2\")\n",
    "varX = as.numeric(eX2) - as.numeric(eX)**2\n",
    "sdX = sqrt(varX)\n"
   ]
  },
  {
   "cell_type": "code",
   "execution_count": null,
   "id": "educational-lightweight",
   "metadata": {
    "hidden": true,
    "scrolled": true
   },
   "outputs": [],
   "source": [
    "#Y marginal distribution\n",
    "fy_str = paste(\"integrate(\",fxy,\", (x,\",x_lower,\",\",x_upper,\"))\")\n",
    "fy = sympy(fy_str)\n",
    "eY_str = paste(\"integrate(y*\",fy,\", (y,\",y_lower,\",\",y_upper,\"))\")\n",
    "eY = sympy(eY_str)\n",
    "eY2_str = paste(\"integrate((y**2)*\",fy,\", (y,\",y_lower,\",\",y_upper,\"))\")\n",
    "eY2 = sympy(eY2_str)\n",
    "varY = as.numeric(eY2) - (as.numeric(eY))**2\n",
    "sdY = sqrt(varY)\n",
    "\n"
   ]
  },
  {
   "cell_type": "code",
   "execution_count": null,
   "id": "charged-affair",
   "metadata": {
    "hidden": true
   },
   "outputs": [],
   "source": [
    "#XY distribution\n",
    "eXY_str = paste(\"integrate(x*y*\",fxy,\", (y,\",y_lower,\",\",y_upper,\"),(x,\",x_lower,\",\",x_upper,\"))\")\n",
    "eXY = sympy(eXY_str)\n",
    "covXY = as.numeric(eXY) - as.numeric(eX)*as.numeric(eY)\n"
   ]
  },
  {
   "cell_type": "code",
   "execution_count": null,
   "id": "forbidden-melbourne",
   "metadata": {
    "hidden": true
   },
   "outputs": [],
   "source": [
    "# aX + bY\n",
    "a = 1\n",
    "b = 1\n",
    "aXplusbY = a*x + b*y\n",
    "eaXplusbY_str = paste(\"integrate(\",aXplusbY,\"*\",fxy,\",(\",\"x,\",x_lower,\",\",x_upper,\"),(y,\",y_lower,\",\",y_upper,\"))\",sep=\"\")\n",
    "eaXplusbY = sympy(eaXplusbY_str)\n",
    "varaXplusbY = (a**2)*varX + (b**2)*varY + 2*a*b*covXY"
   ]
  },
  {
   "cell_type": "code",
   "execution_count": null,
   "id": "normal-bidding",
   "metadata": {
    "hidden": true
   },
   "outputs": [],
   "source": [
    "#probability\n",
    "x_upper = 1\n",
    "x_lower = 0\n",
    "y_upper = 2\n",
    "y_lower = 1.5\n",
    "\n",
    "result = sympy(paste(\"integrate(\",fxy,\", (y,\",y_lower,\",\",y_upper,\"),(x,\",x_lower,\",\",x_upper,\"))\"))\n",
    "resultY = sympy(paste(\"integrate(y*\",fy,\", (y,\",y_lower,\",\",y_upper,\"))\"))\n",
    "resultX = sympy(paste(\"integrate(\",fxy,\", (y,\",y_lower,\",\",y_upper,\"))\"))\n"
   ]
  },
  {
   "cell_type": "code",
   "execution_count": null,
   "id": "intensive-bicycle",
   "metadata": {
    "hidden": true
   },
   "outputs": [],
   "source": [
    "#gxy\n",
    "gxy = (x-eX)*(y-eY) \n",
    "\n",
    "egxy_str = paste(\"integrate(\"gxy,\"*\",fxy,\", (y,\",y_lower,\",\",y_upper,\"),(x,\",x_lower,\",\",x_upper,\"))\")\n",
    "egxy = sympy(egxy_str)"
   ]
  },
  {
   "cell_type": "code",
   "execution_count": null,
   "id": "native-given",
   "metadata": {
    "hidden": true
   },
   "outputs": [],
   "source": [
    "#X conditional distribution\n",
    "fxgy0_str = paste(fxy,\"/\",fy)\n",
    "fxgy0 = sympy(sympy(fxgy0_str))\n",
    "yval = 0.8\n",
    "fxgy_str = paste(fxgy0,\".subs({y:\",yval,\"})\")\n",
    "fxgy = sympy(fxgy_str)\n",
    "eXgY_str = paste(\"integrate(x*\",fxgy,\", (x,\",x_lower,\",\",x_upper,\"))\")\n",
    "eXgY = sympy(eXgY_str)\n",
    "varXgY_str = paste(\"integrate((x**2) *\",fxgy,\", (x,\",x_lower,\",\",x_upper,\"))\")\n",
    "varXgY = sympy(varXgY_str)\n",
    "\n"
   ]
  },
  {
   "cell_type": "code",
   "execution_count": null,
   "id": "cellular-formation",
   "metadata": {
    "hidden": true
   },
   "outputs": [],
   "source": [
    "#Y conditional distribution\n",
    "fygx0_str = paste(fxy,\"/\",fx)\n",
    "fygx0 = sympy(fygx0_str)\n",
    "xval = 0.8\n",
    "fygx_str = paste(fygx0,\".subs({x:\",xval,\"})\")\n",
    "fygx = sympy(fygx_str)\n",
    "eYgX_str = paste(\"integrate(y*\",fygx,\", (y,\",y_lower,\",\",y_upper,\"))\")\n",
    "eYgX = sympy(eYgX_str)\n",
    "varYgX_str = paste(\"integrate((y**2)*\",fygx,\", (y,\",y_lower,\",\",y_upper,\"))\")\n",
    "varYgX = sympy(varYgX_str)"
   ]
  },
  {
   "cell_type": "code",
   "execution_count": null,
   "id": "painful-bulletin",
   "metadata": {
    "hidden": true
   },
   "outputs": [],
   "source": [
    "calculate <- function(fxy, y_upper, y_lower, x_upper, x_lower) {\n",
    "\n",
    "    #X marginal distribution\n",
    "    fx_str = paste(\"integrate(\",fxy,\", (y,\",y_lower,\",\",y_upper,\"))\")\n",
    "    fx = sympy(fx_str)\n",
    "    eX_str = paste(\"integrate(x*\",fx,\", (x,\",x_lower,\",\",x_upper,\"))\")\n",
    "    eX = sympy(eX_str)\n",
    "    eX2_str = paste(\"integrate((x**2)*\",fx,\", (x,\",x_lower,\",\",x_upper,\"))\")\n",
    "    eX2 = sympy(eX2_str)\n",
    "    varX_str = paste(eX2,\"-(\",eX,\")**2\")\n",
    "    varX = as.numeric(eX2) - as.numeric(eX)**2\n",
    "\n",
    "    #Y marginal distribution\n",
    "    fy_str = paste(\"integrate(\",fxy,\", (x,\",x_lower,\",\",x_upper,\"))\")\n",
    "    fy = sympy(fy_str)\n",
    "    eY_str = paste(\"integrate(y*\",fy,\", (y,\",y_lower,\",\",y_upper,\"))\")\n",
    "    eY = sympy(eY_str)\n",
    "    eY2_str = paste(\"integrate((y**2)*\",fy,\", (y,\",y_lower,\",\",y_upper,\"))\")\n",
    "    eY2 = sympy(eY2_str)\n",
    "    varY = as.numeric(eY2) - (as.numeric(eY))**2\n",
    "    \n",
    "    #XY distribution\n",
    "    eXY_str = paste(\"integrate(x*y*\",fxy,\", (y,\",y_lower,\",\",y_upper,\"),(x,\",x_lower,\",\",x_upper,\"))\")\n",
    "    eXY = sympy(eXY_str)\n",
    "    covXY = as.numeric(eXY) - as.numeric(eX)*as.numeric(eY)\n",
    "    \n",
    "\n",
    "\n",
    "}\n"
   ]
  },
  {
   "cell_type": "code",
   "execution_count": null,
   "id": "underlying-double",
   "metadata": {
    "hidden": true
   },
   "outputs": [],
   "source": [
    "calculateUni <- function(fx, x_upper, x_lower) {\n",
    "\n",
    "    eXunsubbed_str = paste(\"integrate(x*\",fx,\")\")\n",
    "    eXunsubbed = sympy(eXunsubbed_str )\n",
    "    eX_str = paste(\"integrate(x*\",fx,\", (x,\",x_lower,\",\",x_upper,\"))\")\n",
    "    eX = sympy(eX_str)\n",
    "    eX2_str = paste(\"integrate((x**2)*\",fx,\", (x,\",x_lower,\",\",x_upper,\"))\")\n",
    "    eX2 = sympy(eX2_str)\n",
    "    varX_str = paste(eX2,\"-(\",eX,\")**2\")\n",
    "    varX = as.numeric(eX2) - as.numeric(eX)**2\n",
    "\n",
    "    print(noquote(paste(\"eX is: \", eXunsubbed)))\n",
    "    print(noquote(paste(\"eX is: \", eX)))\n",
    "    print(noquote(paste(\"eX2 is: \", eX2)))\n",
    "    print(noquote(paste(\"varX is: \", varX)))\n",
    "    \n",
    "    cat(\"\\n\")\n",
    "\n",
    "\n",
    "}"
   ]
  },
  {
   "cell_type": "code",
   "execution_count": null,
   "id": "attached-conviction",
   "metadata": {
    "hidden": true
   },
   "outputs": [],
   "source": [
    "calculateAXPlusBY <- function(a, b) {\n",
    "    #X marginal distribution\n",
    "    fx_str = paste(\"integrate(\",fxy,\", (y,\",y_lower,\",\",y_upper,\"))\")\n",
    "    fx = sympy(fx_str)\n",
    "    eX_str = paste(\"integrate(x*\",fx,\", (x,\",x_lower,\",\",x_upper,\"))\")\n",
    "    eX = sympy(eX_str)\n",
    "    eX2_str = paste(\"integrate((x**2)*\",fx,\", (x,\",x_lower,\",\",x_upper,\"))\")\n",
    "    eX2 = sympy(eX2_str)\n",
    "    varX_str = paste(eX2,\"-(\",eX,\")**2\")\n",
    "    varX = as.numeric(eX2) - as.numeric(eX)**2\n",
    "\n",
    "    #Y marginal distribution\n",
    "    fy_str = paste(\"integrate(\",fxy,\", (x,\",x_lower,\",\",x_upper,\"))\")\n",
    "    fy = sympy(fy_str)\n",
    "    eY_str = paste(\"integrate(y*\",fy,\", (y,\",y_lower,\",\",y_upper,\"))\")\n",
    "    eY = sympy(eY_str)\n",
    "    eY2_str = paste(\"integrate((y**2)*\",fy,\", (y,\",y_lower,\",\",y_upper,\"))\")\n",
    "    eY2 = sympy(eY2_str)\n",
    "    varY = as.numeric(eY2) - (as.numeric(eY))**2\n",
    "    \n",
    "    #XY distribution\n",
    "    eXY_str = paste(\"integrate(x*y*\",fxy,\", (y,\",y_lower,\",\",y_upper,\"),(x,\",x_lower,\",\",x_upper,\"))\")\n",
    "    eXY = sympy(eXY_str)\n",
    "    covXY = as.numeric(eXY) - as.numeric(eX)*as.numeric(eY)\n",
    "    \n",
    "\n",
    "    print(\"----- aX + bY -----\")\n",
    "    print(noquote(paste(\"eaXplusbY is: \", eaXplusbY)))\n",
    "    print(noquote(paste(\"varaXplusbY is: \", varaXplusbY)))\n",
    "    \n",
    "    cat(\"\\n\")\n",
    "\n",
    "}\n",
    "\n"
   ]
  },
  {
   "cell_type": "markdown",
   "id": "scenic-entry",
   "metadata": {},
   "source": [
    "# CalculateAll"
   ]
  },
  {
   "cell_type": "code",
   "execution_count": 4,
   "id": "nominated-mexico",
   "metadata": {},
   "outputs": [],
   "source": [
    "calculateAllx<- function(fx,x_upper, x_lower){\n",
    "    \n",
    "    #Integral\n",
    "    fxIndef_str = paste(\"integrate(\",fx,\", x)\")\n",
    "    fxIndef = sympy(fxIndef_str)\n",
    "    fx_str = paste(\"integrate(\",fx,\", (x,\",x_lower,\",\",x_upper,\")).evalf()\",sep = \"\")\n",
    "    fx_int = sympy(fx_str)\n",
    "    eX_str = paste(\"integrate(x*\",fx,\", (x,\",x_lower,\",\",x_upper,\")).evalf()\",sep=\"\")\n",
    "    eX = sympy(eX_str)\n",
    "    eX2_str = paste(\"integrate((x**2)*\",fx,\", (x,\",x_lower,\",\",x_upper,\")).evalf()\",sep=\"\")\n",
    "    eX2 = sympy(eX2_str)\n",
    "    varX_str = paste(eX2,\"-(\",eX,\")**2\",sep=\"\")\n",
    "    varX = sympy(varX_str)\n",
    "\n",
    "    #printing\n",
    "    \n",
    "    print(\"----- CHARACTERISTICS OF X -----\")\n",
    "    print(noquote(paste(\"Integral of fx: \", fxIndef)))\n",
    "    print(noquote(paste(\"Integral of fx with provided limits: \", fx_int)))\n",
    "    print(noquote(paste(\"eX is: \", eX)))\n",
    "    print(noquote(paste(\"eX2 is: \", eX2)))\n",
    "    print(noquote(paste(\"varX is: \", varX)))\n",
    "}"
   ]
  },
  {
   "cell_type": "code",
   "execution_count": 63,
   "id": "rising-conclusion",
   "metadata": {},
   "outputs": [],
   "source": [
    "calculateAll<- function(fxy, y_upper, y_lower, x_upper, x_lower, xval, yval){\n",
    "    \n",
    "    #X marginal distribution\n",
    "    \n",
    "    fxIndef_str = paste(\"integrate(\",fxy,\", y)\")\n",
    "    fxIndef = sympy(fxIndef_str)\n",
    "    fx_str = paste(\"integrate(\",fxy,\", (y,\",y_lower,\",\",y_upper,\"))\")\n",
    "    fx = sympy(fx_str)\n",
    "    eX_str = paste(\"integrate(x*(\",fx,\"), (x,\",x_lower,\",\",x_upper,\"))\")\n",
    "    eX = sympy(eX_str)\n",
    "    eX2_str = paste(\"integrate((x**2)*(\",fx,\"), (x,\",x_lower,\",\",x_upper,\"))\")\n",
    "    eX2 = sympy(eX2_str)\n",
    "    varX = as.numeric(eX2) - as.numeric(eX)**2\n",
    "\n",
    "    #Y marginal distribution\n",
    "    fyIndef_str = paste(\"integrate(\",fxy,\", x)\")\n",
    "    fyIndef = sympy(fyIndef_str)\n",
    "    fy_str = paste(\"integrate(\",fxy,\", (x,\",x_lower,\",\",x_upper,\"))\")\n",
    "    fy = sympy(fy_str)\n",
    "    eY_str = paste(\"integrate(y*(\",fy,\"), (y,\",y_lower,\",\",y_upper,\"))\")\n",
    "    eY = sympy(eY_str)\n",
    "    eY2_str = paste(\"integrate((y**2)*(\",fy,\"), (y,\",y_lower,\",\",y_upper,\"))\")\n",
    "    eY2 = sympy(eY2_str)\n",
    "    varY = as.numeric(eY2) - (as.numeric(eY))**2\n",
    "    \n",
    "    #XY distribution\n",
    "    fIndef_str = paste(\"integrate((\",fxy,\"), y, x)\")\n",
    "    fIndef = sympy(fIndef_str)\n",
    "    f_str = paste(\"integrate((\",fxy,\"), (y,\",y_lower,\",\",y_upper,\"),(x,\",x_lower,\",\",x_upper,\"))\")\n",
    "    f = sympy(f_str)\n",
    "    eXY_str = paste(\"integrate(x*y*(\",fxy,\"), (y,\",y_lower,\",\",y_upper,\"),(x,\",x_lower,\",\",x_upper,\"))\")\n",
    "    eXY = sympy(eXY_str)\n",
    "    covXY = as.numeric(eXY) - as.numeric(eX)*as.numeric(eY)\n",
    "    \n",
    "    #X conditional distribution\n",
    "    fxgy0_str = paste(\"((\",fxy,\")/\",\"(\",fy,\"))\")\n",
    "    #fxgy0_str = eval(parse(text=fxgy0_str)) #this line\n",
    "    fxgy0 = sympy(fxgy0_str)\n",
    "    fxgy_str = paste(\"(\",fxgy0,\").subs({y:\",yval,\"})\")\n",
    "    fxgy = sympy(fxgy_str)\n",
    "    eXgY_str = paste(\"integrate(x*(\",fxgy,\"), (x,\",x_lower,\",\",x_upper,\"))\")\n",
    "    eXgY = sympy(eXgY_str)\n",
    "    varXgY_str = paste(\"integrate((x**2) *(\",fxgy,\"), (x,\",x_lower,\",\",x_upper,\"))\")\n",
    "    varXgY = sympy(varXgY_str)\n",
    "\n",
    "    #Y conditional distribution\n",
    "    fygx0_str = paste(\"((\",fxy,\")/\",\"(\",fx,\"))\")\n",
    "    #fygx0_str = eval(parse(text=fygx0_str)) #this line\n",
    "    fygx0 = sympy(fygx0_str)\n",
    "    fygx_str = paste(\"(\",fygx0,\").subs({x:\",xval,\"})\")\n",
    "    fygx = sympy(fygx_str)\n",
    "    eYgX_str = paste(\"integrate(y*(\",fygx,\"), (y,\",y_lower,\",\",y_upper,\"))\")\n",
    "    eYgX = sympy(eYgX_str)\n",
    "    varYgX_str = paste(\"integrate((y**2)*(\",fygx,\"), (y,\",y_lower,\",\",y_upper,\"))\")\n",
    "    varYgX = sympy(varYgX_str)\n",
    "    \n",
    "    # aX + bY\n",
    "    aXplusbY = a*x + b*y\n",
    "    eaXplusbY_str = paste(\"integrate((\",aXplusbY,\")*(\",fxy,\"),(\",\"x,\",x_lower,\",\",x_upper,\"),(y,\",y_lower,\",\",y_upper,\"))\",sep=\"\")\n",
    "    eaXplusbY = sympy(eaXplusbY_str)\n",
    "    varaXplusbY = (a**2)*varX + (b**2)*varY + 2*a*b*covXY\n",
    "    \n",
    "    #printing\n",
    "    \n",
    "    print(noquote(paste(\"are they independent? (ie. NOT correlated): \", sympy(paste(fx,\"*\",fy, \"==\", fxy)))))\n",
    "    print(noquote(paste(\"eXY is: \", eXY)))\n",
    "    print(noquote(paste(\"covariance is: \", covXY)))\n",
    "    print(noquote(paste(\"double integral dydx without limits subbed is: \", fIndef)))\n",
    "    print(noquote(paste(\"double integral dydx with limits subbed is: \", f)))\n",
    "    cat(\"\\n\")\n",
    "    \n",
    "    print(\"----- CHARACTERISTICS OF X -----\")\n",
    "    print(noquote(paste(\"fx without limits subbed is: \", fxIndef)))\n",
    "    print(noquote(paste(\"fx with limits subbed is: \", fx)))\n",
    "    print(noquote(paste(\"eX is: \", eX)))\n",
    "    print(noquote(paste(\"eX2 is: \", eX2)))\n",
    "    print(noquote(paste(\"varX is: \", varX)))\n",
    "    \n",
    "    cat(\"\\n\")\n",
    "\n",
    "    noquote(paste(\"fy is: \", fy))\n",
    "    print(\"----- CHARACTERISTICS OF Y -----\")\n",
    "    print(noquote(paste(\"fy without limits subbed is: \", fyIndef)))\n",
    "    print(noquote(paste(\"fy with limits subbed is: \", fy)))\n",
    "    print(noquote(paste(\"eY is: \", eY)))\n",
    "    print(noquote(paste(\"eY2 is: \", eY2)))\n",
    "    print(noquote(paste(\"varY is: \", varY)))\n",
    "    \n",
    "    cat(\"\\n\")\n",
    "\n",
    "    print(noquote(paste(\"----- X GIVEN Y, where y = \", yval, \"-----\")))\n",
    "    print(noquote(paste(\"fxgy without limits subbed is: \", fxgy0)))\n",
    "    print(noquote(paste(\"fxgy with limits subbed: \", fxgy)))\n",
    "    print(noquote(paste(\"eXgY is: \", eXgY)))\n",
    "    print(noquote(paste(\"varXgY is: \", varXgY)))\n",
    "    \n",
    "    cat(\"\\n\")\n",
    "\n",
    "    print(noquote(paste(\"----- Y GIVEN X, where x = \", xval, \"-----\")))\n",
    "    print(noquote(paste(\"fygx without limits subbed is: \", fygx0)))\n",
    "    print(noquote(paste(\"fygx with limits subbed, x = \", xval, \" is: \", fygx)))\n",
    "    print(noquote(paste(\"eYgX is: \", eYgX)))\n",
    "    print(noquote(paste(\"varYgX is: \", varYgX)))\n",
    "    \n",
    "    cat(\"\\n\")\n",
    "    \n",
    "    print(\"----- aX + bY -----\")\n",
    "    print(noquote(paste(\"eaXplusbY is: \", eaXplusbY)))\n",
    "    print(noquote(paste(\"varaXplusbY is: \", varaXplusbY)))\n",
    "    \n",
    "    cat(\"\\n\")\n",
    "\n",
    "}\n"
   ]
  },
  {
   "cell_type": "code",
   "execution_count": 6,
   "id": "disabled-appraisal",
   "metadata": {},
   "outputs": [],
   "source": [
    "calculateProbabilities <- function(fxy, y_upper, y_lower, x_upper, x_lower, y_up, y_low, x_up, x_low) {\n",
    "    #X marginal distribution\n",
    "    fx_str = paste(\"integrate(\",fxy,\", (y,\",y_lower,\",\",y_upper,\"))\")\n",
    "    fx = sympy(fx_str)\n",
    "\n",
    "    #Y marginal distribution\n",
    "    fy_str = paste(\"integrate(\",fxy,\", (x,\",x_lower,\",\",x_upper,\"))\")\n",
    "    fy = sympy(fy_str)\n",
    "    \n",
    "    #integration of fxy\n",
    "    result_raw = sympy(paste(\"integrate(\",fxy,\", (y,\",y_low,\",\",y_up,\"))\"))\n",
    "    result = sympy(paste(\"integrate(\",fxy,\", (y,\",y_low,\",\",y_up,\"),(x,\",x_low,\",\",x_up,\"))\"))\n",
    "    \n",
    "    #integration of fx\n",
    "    resultX = sympy(paste(\"integrate(\", fx,\", (x,\",x_low,\",\",x_up,\"))\"))\n",
    "    \n",
    "    #integration of fy\n",
    "    resultY = sympy(paste(\"integrate(\", fx,\", (x,\",x_low,\",\",x_up,\"))\"))\n",
    "\n",
    "    print(noquote(paste(\"----- P(X from\", x_low, \" to \", x_up,\") -----\")))\n",
    "    print(noquote(paste(\"fx is: \", fx)))\n",
    "    print(noquote(paste(\"probability is: \", resultX)))\n",
    "    \n",
    "    cat(\"\\n\")\n",
    "    \n",
    "    print(noquote(paste(\"----- P(Y from\", y_low, \" to \", y_up,\") -----\")))\n",
    "    print(noquote(paste(\"fy is: \", fy)))\n",
    "    print(noquote(paste(\"probability is: \", resultY)))\n",
    "    \n",
    "    cat(\"\\n\")\n",
    "    \n",
    "    print(noquote(paste(\"----- P(X from\", x_low, \" to \", x_up,\", Y from\", y_low, \" to \", y_up,\") -----\")))\n",
    "    print(noquote(paste(\"fxy dy is: \", result_raw)))\n",
    "    print(noquote(paste(\"probability is: \", result)))\n",
    "}"
   ]
  },
  {
   "cell_type": "code",
   "execution_count": 7,
   "id": "divided-quest",
   "metadata": {},
   "outputs": [],
   "source": [
    "calculateGxy <- function(gxy, fxy, y_upper, y_lower, x_upper, x_lower) {\n",
    "    egxy_str = paste(\"integrate((\",gxy,\")*(\",fxy,\"), (y,\",y_lower,\",\",y_upper,\"),(x,\",x_lower,\",\",x_upper,\"))\")\n",
    "    egxy = sympy(egxy_str)\n",
    "    egxy2_str = paste(\"integrate((\",gxy,\")*(\", gxy,\")*(\",fxy,\"), (y,\",y_lower,\",\",y_upper,\"),(x,\",x_lower,\",\",x_upper,\"))\")\n",
    "    egxy2 = sympy(egxy2_str)\n",
    "    vgxy = as.numeric(egxy2) - as.numeric(egxy)**2\n",
    "\n",
    "    print(noquote(paste(\"----- Expectation and variance -----\")))\n",
    "    print(noquote(paste(\"expecation is: \", egxy)))\n",
    "    print(noquote(paste(\"variance is: \",vgxy)))\n",
    "    \n",
    "    cat(\"\\n\")\n",
    "}"
   ]
  },
  {
   "cell_type": "code",
   "execution_count": null,
   "id": "known-desert",
   "metadata": {},
   "outputs": [],
   "source": []
  }
 ],
 "metadata": {
  "kernelspec": {
   "display_name": "R",
   "language": "R",
   "name": "ir"
  },
  "language_info": {
   "codemirror_mode": "r",
   "file_extension": ".r",
   "mimetype": "text/x-r-source",
   "name": "R",
   "pygments_lexer": "r",
   "version": "3.6.1"
  },
  "toc": {
   "base_numbering": 1,
   "nav_menu": {},
   "number_sections": true,
   "sideBar": true,
   "skip_h1_title": false,
   "title_cell": "Table of Contents",
   "title_sidebar": "Contents",
   "toc_cell": false,
   "toc_position": {
    "height": "calc(100% - 180px)",
    "left": "10px",
    "top": "150px",
    "width": "255.594px"
   },
   "toc_section_display": true,
   "toc_window_display": true
  },
  "varInspector": {
   "cols": {
    "lenName": 16,
    "lenType": 16,
    "lenVar": 40
   },
   "kernels_config": {
    "python": {
     "delete_cmd_postfix": "",
     "delete_cmd_prefix": "del ",
     "library": "var_list.py",
     "varRefreshCmd": "print(var_dic_list())"
    },
    "r": {
     "delete_cmd_postfix": ") ",
     "delete_cmd_prefix": "rm(",
     "library": "var_list.r",
     "varRefreshCmd": "cat(var_dic_list()) "
    }
   },
   "types_to_exclude": [
    "module",
    "function",
    "builtin_function_or_method",
    "instance",
    "_Feature"
   ],
   "window_display": false
  }
 },
 "nbformat": 4,
 "nbformat_minor": 5
}
