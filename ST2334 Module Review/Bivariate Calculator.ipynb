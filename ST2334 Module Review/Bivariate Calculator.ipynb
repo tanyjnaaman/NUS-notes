{
 "cells": [
  {
   "cell_type": "code",
   "execution_count": 2,
   "metadata": {},
   "outputs": [],
   "source": [
    "from sympy import *\n",
    "init_printing(use_unicode=False, wrap_line=False, no_global=True)"
   ]
  },
  {
   "cell_type": "code",
   "execution_count": 11,
   "metadata": {},
   "outputs": [],
   "source": [
    "y = Symbol('y')\n",
    "x = Symbol('x')\n",
    "\n",
    "#enter values here\n",
    "fxy = (1/8)*(x+y)\n",
    "\n",
    "x_upper = 2\n",
    "x_lower = 0\n",
    "y_upper = 2\n",
    "y_lower = 0\n",
    "\n",
    "#X marginal distribution\n",
    "fx = integrate(fxy, (y,y_lower, y_upper))\n",
    "eX = integrate(x*fx, (x,x_lower, x_upper))\n",
    "eX2 = integrate((x**2)*fx, (x,x_lower, x_upper))\n",
    "varX = eX2 - (eX)**2\n",
    "sdX = sqrt(varX)\n",
    "\n",
    "#Y marginal distribution\n",
    "fy = integrate(fxy, (x,x_lower, x_upper))\n",
    "eY = integrate(y*fy, (y,y_lower, y_upper))\n",
    "eY2 = integrate((y**2)*fy, (y,y_lower, y_upper))\n",
    "varY = eY2 - (eY)**2\n",
    "sdY = sqrt(varY)\n",
    "\n",
    "#XY distribution\n",
    "eXY = integrate(x*y*fxy, (y,y_lower, y_upper), (x,x_lower, x_upper))\n",
    "covXY = eXY - eX*eY\n",
    "\n",
    "#X conditional distribution\n",
    "fxgy0 = fxy/fy\n",
    "yval = 0.8\n",
    "fxgy = fxgy0.subs({y: yval})\n",
    "eXgY = integrate(x*fxgy, (x,x_lower, x_upper))\n",
    "\n",
    "#Y conditional distribution\n",
    "fygx0 = fxy/fx\n",
    "xval = 0.8\n",
    "fygx = fygx0.subs({x: xval})\n",
    "eYgX = integrate(y*fygx, (y,y_lower, y_upper))\n",
    "\n",
    "\n",
    "# aX + bY\n",
    "a = 1\n",
    "b = 1\n",
    "aXplusbY = a*x + b*y\n",
    "eaXplusbY = integrate((aXplusbY)*fxy, (x,x_lower, x_upper), (y,y_lower, y_upper))\n",
    "varaXplusbY = (a**2)*varX + (b**2)*varY + 2*a*b*covXY\n",
    "\n"
   ]
  },
  {
   "cell_type": "code",
   "execution_count": 12,
   "metadata": {},
   "outputs": [
    {
     "data": {
      "image/png": "[encoded data removed]",
      "text/latex": [
       "$\\displaystyle 0.375$"
      ],
      "text/plain": [
       "0.375000000000000"
      ]
     },
     "execution_count": 12,
     "metadata": {},
     "output_type": "execute_result"
    }
   ],
   "source": [
    "#probability\n",
    "x_upper = 1\n",
    "x_lower = 0\n",
    "y_upper = 2\n",
    "y_lower = 1.5\n",
    "\n",
    "result = integrate(fxy, (y,y_lower, y_upper), (x, x_lower, x_upper))\n",
    "resultY = integrate(fy, (y, y_lower, y_upper))\n",
    "resultX = integrate(fx, (x, x_lower, x_upper))\n",
    "result/resultX"
   ]
  },
  {
   "cell_type": "code",
   "execution_count": 30,
   "metadata": {},
   "outputs": [],
   "source": [
    "#gxy\n",
    "gxy = (x-eX)*(y-eY) \n",
    "x_upper = 1\n",
    "x_lower = 0\n",
    "y_upper = 1\n",
    "y_lower = 0\n",
    "egxy = integrate(gxy*fxy,  (y,y_lower, y_upper), (x,x_lower, x_upper))\n",
    "\n"
   ]
  },
  {
   "cell_type": "code",
   "execution_count": 5,
   "metadata": {},
   "outputs": [],
   "source": [
    "def calculate(fxy, y_upper, y_lower, x_upper, x_lower):\n",
    "    print(f\"are they independent? {fx*fy == fxy}\")\n",
    "    \n",
    "    print(\"\\n\")\n",
    "    print(f\"fx is: {fx}\")\n",
    "    print(\"CHARACTERISTICS OF X:\")\n",
    "    print(f\"eX is: {eX}\")\n",
    "    print(f\"eX2 is: {eX2}\")\n",
    "    print(f\"varX is: {varX}\")\n",
    "    print(f\"sdX is: {sdX}\")\n",
    "    \n",
    "    print(\"\\n\")\n",
    "\n",
    "    print(f\"fy is: {fy}\")\n",
    "    print(\"CHARACTERISTICS OF Y:\")\n",
    "    print(f\"eY is: {eY}\")\n",
    "    print(f\"eY2 is: {eY2}\")\n",
    "    print(f\"varY is: {varY}\")\n",
    "    print(f\"sdY is: {sdY}\")\n",
    "    \n",
    "    print(\"\\n\")\n",
    "    \n",
    "    print(f\"covariance is: {covXY}\")\n"
   ]
  },
  {
   "cell_type": "code",
   "execution_count": 23,
   "metadata": {},
   "outputs": [],
   "source": [
    "def calculatePlus(a, b):\n",
    "    print(f\"eaXplusbY is: {eaXplusbY}\")\n",
    "    print(f\"varaXplusbY is: {varaXplusbY}\")"
   ]
  },
  {
   "cell_type": "code",
   "execution_count": 24,
   "metadata": {},
   "outputs": [],
   "source": [
    "def calculateConditional(xval, yval):\n",
    "    print(f\"Y GIVEN X, where x = {xval}:\")\n",
    "    print(f\"fygx is: {fygx0}\")\n",
    "    print(f\"fygx is: {fygx}\")\n",
    "    print(f\"eYgX is: {eYgX}\")\n",
    "    \n",
    "    print(\"\\n\")\n",
    "    print(f\"X GIVEN Y, where y = {yval}:\")\n",
    "    print(f\"fxgy is: {fxgy0}\")\n",
    "    print(f\"fxgy is: {fxgy}\")\n",
    "    print(f\"eXgY is: {eXgY}\")"
   ]
  },
  {
   "cell_type": "code",
   "execution_count": 10,
   "metadata": {},
   "outputs": [
    {
     "name": "stdout",
     "output_type": "stream",
     "text": [
      "are they independent? False\n",
      "\n",
      "\n",
      "fx is: exp(-x)\n",
      "CHARACTERISTICS OF X:\n",
      "eX is: 1 - 1001*exp(-1000)\n",
      "eX2 is: 2 - 1002002*exp(-1000)\n",
      "varX is: -(1 - 1001*exp(-1000))**2 - 1002002*exp(-1000) + 2\n",
      "sdX is: sqrt(-(1 - 1001*exp(-1000))**2 - 1002002*exp(-1000) + 2)\n",
      "\n",
      "\n",
      "fy is: -2*y*exp(-1000) + 2*y\n",
      "CHARACTERISTICS OF Y:\n",
      "eY is: (-2 + 2*exp(1000))*exp(-1000)/3\n",
      "eY2 is: (-1 + exp(1000))*exp(-1000)/2\n",
      "varY is: (-1 + exp(1000))*exp(-1000)/2 - (-2 + 2*exp(1000))**2*exp(-2000)/9\n",
      "sdY is: sqrt((-1 + exp(1000))*exp(-1000)/2 - (-2 + 2*exp(1000))**2*exp(-2000)/9)\n",
      "\n",
      "\n",
      "covariance is: -2002*exp(-1000)/3 + 2/3 - (-2 + 2*exp(1000))*(1 - 1001*exp(-1000))*exp(-1000)/3\n"
     ]
    }
   ],
   "source": [
    "calculate(fxy, y_upper, y_lower, x_upper, x_lower)\n"
   ]
  },
  {
   "cell_type": "code",
   "execution_count": 34,
   "metadata": {},
   "outputs": [
    {
     "name": "stdout",
     "output_type": "stream",
     "text": [
      "eaXplusbY is: 1.25000000000000\n",
      "varaXplusbY is: 0.120833333333333\n"
     ]
    }
   ],
   "source": [
    "calculatePlus(a,b)"
   ]
  },
  {
   "cell_type": "code",
   "execution_count": 52,
   "metadata": {},
   "outputs": [
    {
     "name": "stdout",
     "output_type": "stream",
     "text": [
      "Y GIVEN X, where x = 0.2:\n",
      "fygx is: (1.2*x + 1.2*y**2)/(1.2*x + 0.4)\n",
      "fygx is: 1.875*y**2 + 0.375\n",
      "eYgX is: 0.656250000000000\n",
      "\n",
      "\n",
      "X GIVEN Y, where y = 0.5:\n",
      "fxgy is: (1.2*x + 1.2*y**2)/(1.2*y**2 + 0.6)\n",
      "fxgy is: 1.33333333333333*x + 0.333333333333333\n",
      "eXgY is: 0.611111111111111\n"
     ]
    }
   ],
   "source": [
    "calculateConditional(xval, yval)\n",
    "\n"
   ]
  },
  {
   "cell_type": "code",
   "execution_count": 55,
   "metadata": {},
   "outputs": [
    {
     "data": {
      "image/png": "[encoded data removed]",
      "text/latex": [
       "$\\displaystyle 0$"
      ],
      "text/plain": [
       "0"
      ]
     },
     "execution_count": 55,
     "metadata": {},
     "output_type": "execute_result"
    }
   ],
   "source": [
    "x_upper = 0.8\n",
    "x_lower = 0.8\n",
    "y_upper = 0.5\n",
    "y_lower = 0\n",
    "\n",
    "result = integrate(fygx0, (x, x_lower, x_upper),(y,y_lower, y_upper))\n",
    "result"
   ]
  },
  {
   "cell_type": "code",
   "execution_count": null,
   "metadata": {},
   "outputs": [],
   "source": []
  }
 ],
 "metadata": {
  "kernelspec": {
   "display_name": "Python 3",
   "language": "python",
   "name": "python3"
  },
  "language_info": {
   "codemirror_mode": {
    "name": "ipython",
    "version": 3
   },
   "file_extension": ".py",
   "mimetype": "text/x-python",
   "name": "python",
   "nbconvert_exporter": "python",
   "pygments_lexer": "ipython3",
   "version": "3.9.2"
  },
  "toc": {
   "base_numbering": 1,
   "nav_menu": {},
   "number_sections": true,
   "sideBar": true,
   "skip_h1_title": false,
   "title_cell": "Table of Contents",
   "title_sidebar": "Contents",
   "toc_cell": false,
   "toc_position": {},
   "toc_section_display": true,
   "toc_window_display": false
  },
  "varInspector": {
   "cols": {
    "lenName": 16,
    "lenType": 16,
    "lenVar": 40
   },
   "kernels_config": {
    "python": {
     "delete_cmd_postfix": "",
     "delete_cmd_prefix": "del ",
     "library": "var_list.py",
     "varRefreshCmd": "print(var_dic_list())"
    },
    "r": {
     "delete_cmd_postfix": ") ",
     "delete_cmd_prefix": "rm(",
     "library": "var_list.r",
     "varRefreshCmd": "cat(var_dic_list()) "
    }
   },
   "types_to_exclude": [
    "module",
    "function",
    "builtin_function_or_method",
    "instance",
    "_Feature"
   ],
   "window_display": false
  }
 },
 "nbformat": 4,
 "nbformat_minor": 4
}
