{
 "cells": [
  {
   "cell_type": "markdown",
   "id": "earned-colony",
   "metadata": {},
   "source": [
    "# Data"
   ]
  },
  {
   "cell_type": "code",
   "execution_count": null,
   "id": "occupied-determination",
   "metadata": {},
   "outputs": [],
   "source": [
    "#bivariate data\n",
    "data1 <- c(4.2, 4.7, 6.6, 7, 6.7, 4.5, 5.7, 6, 7.4, 4.9, 6.1, 5.2) \n",
    "data2 <- c(4.1, 4.9, 6.2, 6.9, 6.8, 4.4, 5.7, 5.8, 6.9, 4.7, 6, 4.9)\n",
    "data = c()\n",
    "\n",
    "s1 = sd(data1)\n",
    "n1 = length(data1)\n",
    "dof1 = n1-1\n",
    "s2 = sd(data2)\n",
    "n2 = length(data2)\n",
    "dof2 = n2 - 1\n",
    "\n",
    "for (i in 1:n1) {\n",
    "    data <- c(data, data1[i]-data2[i])\n",
    "} "
   ]
  },
  {
   "cell_type": "code",
   "execution_count": null,
   "id": "sophisticated-silver",
   "metadata": {},
   "outputs": [],
   "source": [
    "#univariate data\n",
    "data <- c(10.2, 9.7, 10.1, 10.3, 10.1, 9.8, 9.9, 10.4, 10.3, 9.8)\n",
    "sd = sd(data)\n",
    "n = length(data)\n",
    "dof = n-1\n"
   ]
  },
  {
   "cell_type": "markdown",
   "id": "dressed-garden",
   "metadata": {},
   "source": [
    "# Sample means (Z, T)"
   ]
  },
  {
   "cell_type": "markdown",
   "id": "advisory-drawing",
   "metadata": {},
   "source": [
    "Known variance. Normal."
   ]
  },
  {
   "cell_type": "code",
   "execution_count": null,
   "id": "sharing-avatar",
   "metadata": {},
   "outputs": [],
   "source": [
    "#p lower <= X <= upper - if single value, put same\n",
    "pnorm(upper, mu, stdev, lower.tail = TRUE) - pnorm(lower, mu, stdev, lower.tail = TRUE)\n",
    "\n",
    "#cumulative , less than or equal to <= / greater than >\n",
    "pnorm(x, mu, stdev, lower.tail = lowertail)\n",
    "\n",
    "#cumulative range, p of lower <= x <= upper\n",
    "pnorm(upper, mu, stdev, lower.tail = TRUE) - pnorm(lower, mu, stdev, lower.tail = TRUE)\n",
    "\n",
    "#z* value given p\n",
    "qnorm(0.25, mu, stdev, lower.tail = lowertail)"
   ]
  },
  {
   "cell_type": "code",
   "execution_count": 16,
   "id": "auburn-loading",
   "metadata": {},
   "outputs": [
    {
     "data": {
      "text/html": [
       "3646.40061740788"
      ],
      "text/latex": [
       "3646.40061740788"
      ],
      "text/markdown": [
       "3646.40061740788"
      ],
      "text/plain": [
       "[1] 3646.401"
      ]
     },
     "metadata": {},
     "output_type": "display_data"
    },
    {
     "data": {
      "text/html": [
       "3713.59938259212"
      ],
      "text/latex": [
       "3713.59938259212"
      ],
      "text/markdown": [
       "3713.59938259212"
      ],
      "text/plain": [
       "[1] 3713.599"
      ]
     },
     "metadata": {},
     "output_type": "display_data"
    },
    {
     "data": {
      "text/html": [
       "0.0400591568638171"
      ],
      "text/latex": [
       "0.0400591568638171"
      ],
      "text/markdown": [
       "0.0400591568638171"
      ],
      "text/plain": [
       "[1] 0.04005916"
      ]
     },
     "metadata": {},
     "output_type": "display_data"
    }
   ],
   "source": [
    "mu = 3650\n",
    "xbar = 3680\n",
    "var = 120^2\n",
    "stdev = sqrt(var)\n",
    "n = 49\n",
    "\n",
    "#CI\n",
    "alpha = 0.05\n",
    "m = qnorm(1-alpha/2) * stdev / sqrt(n)\n",
    "left = xbar - m\n",
    "right = xbar + m\n",
    "\n",
    "#test\n",
    "z_stat = (xbar-mu)/(stdev/sqrt(n))\n",
    "lowerCrit = qnorm(alpha/2, mu, stdev/sqrt(n), lower.tail = TRUE)\n",
    "upperCrit = qnorm(alpha/2, mu, stdev/sqrt(n), lower.tail = FALSE)\n",
    "\n",
    "lowertail = TRUE\n",
    "pvalue = pnorm(xbar,mean = mu, sd = stdev/sqrt(n), lower.tail = lowertail)\n",
    "\n",
    "left\n",
    "right\n",
    "1-pvalue"
   ]
  },
  {
   "cell_type": "code",
   "execution_count": null,
   "id": "analyzed-generator",
   "metadata": {},
   "outputs": [],
   "source": [
    "#power and beta\n",
    "true_mu = 790\n",
    "power = pnorm(upperCrit, true_mu, stdev/sqrt(n), lower.tail = FALSE) + pnorm(lowerCrit, true_mu, stdev/sqrt(n), lower.tail = TRUE)\n",
    "beta = 1 - power\n",
    "\n",
    "lowerCrit\n",
    "upperCrit\n",
    "power"
   ]
  },
  {
   "cell_type": "code",
   "execution_count": null,
   "id": "apparent-uncertainty",
   "metadata": {},
   "outputs": [],
   "source": [
    "#error\n",
    "error = 0.1\n",
    "n = (qnorm(1-alpha/2) * stdev / error) ^ 2\n",
    "n"
   ]
  },
  {
   "cell_type": "markdown",
   "id": "minus-federal",
   "metadata": {},
   "source": [
    "Unknown variance. T."
   ]
  },
  {
   "cell_type": "code",
   "execution_count": null,
   "id": "likely-brighton",
   "metadata": {},
   "outputs": [],
   "source": [
    "#univariate data\n",
    "data <- c(37.4, 48.8, 46.9, 55, 44)\n",
    "sd = sd(data)\n",
    "n = length(data)\n",
    "dof = n-1\n",
    "s = sqrt(n/(n-1)*(sd**2))\n"
   ]
  },
  {
   "cell_type": "code",
   "execution_count": null,
   "id": "southern-publication",
   "metadata": {},
   "outputs": [],
   "source": [
    "#cumulative , less than or equal to <= / greater than >\n",
    "pt(x, dof, lower.tail = lowertail)\n",
    "\n",
    "#cumulative range, p of lower <= x <= upper\n",
    "pt(upper, dof, lower.tail = TRUE) - pt(t, dof, lower.tail = TRUE)\n",
    "\n",
    "#t* value given p\n",
    "qt(0.25, dof, lower.tail = lowertail)"
   ]
  },
  {
   "cell_type": "code",
   "execution_count": null,
   "id": "accredited-montgomery",
   "metadata": {},
   "outputs": [],
   "source": [
    "mu = 20\n",
    "xbar = 4.85 #mean(data)\n",
    "n = 20 #length(data)\n",
    "s2 = 0.75**2\n",
    "s = sqrt(s2) #sqrt(n/(n-1)*(sd**2)) #sqrt(s2)\n",
    "\n",
    "lowertail = FALSE\n",
    "dof = n-1"
   ]
  },
  {
   "cell_type": "code",
   "execution_count": null,
   "id": "pacific-sheet",
   "metadata": {},
   "outputs": [],
   "source": [
    "#CI\n",
    "alpha = 0.05\n",
    "m = qt(1-alpha/2, dof) * s / sqrt(n)\n",
    "left = xbar - m\n",
    "right = xbar + m\n",
    "\n",
    "#test\n",
    "t_stat = (xbar-mu)/(s/sqrt(n))\n",
    "lower.tail = FALSE\n",
    "pvalue = pt(t_stat, n-1, lower.tail = lowertail)\n",
    "\n",
    "lowerCrit = qt(alpha/2, dof, lower.tail = TRUE)*(s/sqrt(n))+mu\n",
    "upperCrit = qt(alpha/2, dof, lower.tail = FALSE)*(s/sqrt(n))+mu\n",
    "\n",
    "xbar\n",
    "left\n",
    "right"
   ]
  },
  {
   "cell_type": "code",
   "execution_count": null,
   "id": "serial-vietnam",
   "metadata": {},
   "outputs": [],
   "source": [
    "#power and beta\n",
    "true_mu = 19.9\n",
    "power = pt((upperCrit-true_mu)/(s/sqrt(n)), dof,lower.tail = FALSE) + pt((lowerCrit-true_mu)/(s/sqrt(n)), dof, lower.tail = TRUE)\n",
    "beta = 1 - power\n"
   ]
  },
  {
   "cell_type": "markdown",
   "id": "respected-magazine",
   "metadata": {},
   "source": [
    "# Difference in sample means (Z, T)"
   ]
  },
  {
   "cell_type": "markdown",
   "id": "separated-guarantee",
   "metadata": {},
   "source": [
    "Variances known/unknown and not equal. (assume Normal)"
   ]
  },
  {
   "cell_type": "code",
   "execution_count": 27,
   "id": "electronic-guard",
   "metadata": {},
   "outputs": [],
   "source": [
    "xbar1 = 93\n",
    "s1 = sqrt(148.7)\n",
    "n1 = 10\n",
    "mu1 = 0\n",
    "\n",
    "xbar2 = 110.7 \n",
    "s2 = sqrt(72.7)\n",
    "n2 = 10\n",
    "mu2 = 0\n",
    "\n",
    "\n",
    "diffMu = mu1 - mu2\n",
    "diffBar = xbar1 - xbar2\n"
   ]
  },
  {
   "cell_type": "code",
   "execution_count": 40,
   "id": "exposed-landing",
   "metadata": {},
   "outputs": [
    {
     "data": {
      "text/html": [
       "-7.73955632279218"
      ],
      "text/latex": [
       "-7.73955632279218"
      ],
      "text/markdown": [
       "-7.73955632279218"
      ],
      "text/plain": [
       "[1] -7.739556"
      ]
     },
     "metadata": {},
     "output_type": "display_data"
    }
   ],
   "source": [
    "alpha = 0.05\n",
    "\n",
    "#CI\n",
    "var = (s1^2)/n1 + (s2^2)/n2\n",
    "m = qnorm(1-alpha/2) * sqrt(var) \n",
    "left = diffBar - m\n",
    "right = diffBar + m\n",
    "\n",
    "#test\n",
    "z_stat = (diffBar-diffMu)/sqrt(var)\n",
    "lowertail = FALSE\n",
    "pvalue = pnorm(diffBar, diffMu, sqrt(var), lower.tail = lowertail)\n",
    "\n",
    "lowerCrit = qnorm(alpha, diffMu, sqrt(var), lower.tail = TRUE)\n",
    "upperCrit = qnorm(alpha, diffMu, sqrt(var), lower.tail = FALSE)\n",
    "\n",
    "lowerCrit"
   ]
  },
  {
   "cell_type": "code",
   "execution_count": 38,
   "id": "heated-athens",
   "metadata": {},
   "outputs": [
    {
     "data": {
      "text/html": [
       "0.684529243363761"
      ],
      "text/latex": [
       "0.684529243363761"
      ],
      "text/markdown": [
       "0.684529243363761"
      ],
      "text/plain": [
       "[1] 0.6845292"
      ]
     },
     "metadata": {},
     "output_type": "display_data"
    }
   ],
   "source": [
    "#power and beta\n",
    "true_diffMu = -10\n",
    "power = pnorm(lowerCrit, true_diffMu, sqrt(var), lower.tail = TRUE)\n",
    "beta = 1 - power\n",
    "\n",
    "power"
   ]
  },
  {
   "cell_type": "markdown",
   "id": "hourly-costs",
   "metadata": {},
   "source": [
    "###### Variances known and equal. (assume) Normal."
   ]
  },
  {
   "cell_type": "code",
   "execution_count": null,
   "id": "controlling-think",
   "metadata": {},
   "outputs": [],
   "source": [
    "xbar1 = 84\n",
    "n1 = 1200\n",
    "mu1 = 0\n",
    "\n",
    "xbar2 = 77 \n",
    "n2 = 1800\n",
    "mu2 = 0\n",
    "\n",
    "stdev = 120\n",
    "\n",
    "diffMu = mu1 - mu2\n",
    "diffBar = xbar1 - xbar2"
   ]
  },
  {
   "cell_type": "code",
   "execution_count": null,
   "id": "crazy-lighting",
   "metadata": {},
   "outputs": [],
   "source": [
    "alpha = 0.05\n",
    "\n",
    "#CI\n",
    "var = stdev^2 * (1/n1 + 1/n2)\n",
    "m = qnorm(1-alpha/2) * sqrt(var) \n",
    "left = diffBar - m\n",
    "right = diffBar + m\n",
    "\n",
    "#test\n",
    "z_stat = (diffBar-diffMu)/sqrt(var)\n",
    "lowertail = FALSE\n",
    "pvalue = pnorm(diffBar, diffMu, sqrt(var), lower.tail = lowertail)\n",
    "lowerCrit = qnorm(alpha/2, diffMu, sqrt(var), lower.tail = TRUE)\n",
    "upperCrit = qnorm(alpha/2, diffMu, sqrt(var), lower.tail = FALSE)"
   ]
  },
  {
   "cell_type": "code",
   "execution_count": null,
   "id": "average-ocean",
   "metadata": {},
   "outputs": [],
   "source": [
    "#power and beta\n",
    "true_diffMu = 0.1\n",
    "power = pnorm(upperCrit, true_diffMu, sqrt(var), lower.tail = FALSE) + pnorm(lowerCrit, true_diffMu, sqrt(var), lower.tail = TRUE)\n",
    "beta = 1 - power\n"
   ]
  },
  {
   "cell_type": "markdown",
   "id": "electrical-concern",
   "metadata": {},
   "source": [
    "Variances unkown but equal. T."
   ]
  },
  {
   "cell_type": "code",
   "execution_count": 22,
   "id": "solid-respect",
   "metadata": {},
   "outputs": [
    {
     "data": {
      "text/html": [
       "TRUE"
      ],
      "text/latex": [
       "TRUE"
      ],
      "text/markdown": [
       "TRUE"
      ],
      "text/plain": [
       "[1] TRUE"
      ]
     },
     "metadata": {},
     "output_type": "display_data"
    }
   ],
   "source": [
    "#bivariate data\n",
    "data1 <- c(2650, 3020, 2761, 2459, 2993, 3116, 2796, 2618, 2760, 2915, 2634, 2917, 2728, 2833) \n",
    "data2 <- c(2560, 2680, 2665, 3220, 2895, 3210, 3140, 3055, 2945, 3047, 2935, 3145, 3188, 3315)\n",
    "data = c()\n",
    "\n",
    "s1 = sd(data1)\n",
    "n1 = length(data1)\n",
    "dof1 = n1-1\n",
    "s2 = sd(data2)\n",
    "n2 = length(data2)\n",
    "dof2 = n2 - 1\n",
    "\n",
    "for (i in 1:n1) {\n",
    "    data <- c(data, data1[i]-data2[i])\n",
    "} \n",
    "n1==n2"
   ]
  },
  {
   "cell_type": "code",
   "execution_count": 26,
   "id": "dependent-fusion",
   "metadata": {},
   "outputs": [
    {
     "data": {
      "text/html": [
       "78.471594916831"
      ],
      "text/latex": [
       "78.471594916831"
      ],
      "text/markdown": [
       "78.471594916831"
      ],
      "text/plain": [
       "[1] 78.47159"
      ]
     },
     "metadata": {},
     "output_type": "display_data"
    }
   ],
   "source": [
    "xbar1 = mean(data1)\n",
    "s1 = sd(data1)\n",
    "n1 = length(data1)\n",
    "mu1 = 0\n",
    "\n",
    "xbar2 = mean(data2)\n",
    "s2 = sd(data2)\n",
    "n2 = length(data2)\n",
    "mu2 = 0\n",
    "\n",
    "dof1 = n1 - 1\n",
    "dof2 = n2 - 1\n",
    "dofT = dof1 + dof2\n",
    "sp2 = ((dof1*(s1**2) + (dof2*(s2**2)))/(dofT))\n",
    "\n",
    "diffBar = xbar1 - xbar2\n",
    "diffMu = mu1 - mu2\n",
    "\n",
    "sqrt(sp2*((1/n1)+(1/n2)))"
   ]
  },
  {
   "cell_type": "code",
   "execution_count": 12,
   "id": "distinguished-treaty",
   "metadata": {},
   "outputs": [
    {
     "data": {
      "text/html": [
       "18.0501612489579"
      ],
      "text/latex": [
       "18.0501612489579"
      ],
      "text/markdown": [
       "18.0501612489579"
      ],
      "text/plain": [
       "[1] 18.05016"
      ]
     },
     "metadata": {},
     "output_type": "display_data"
    },
    {
     "data": {
      "text/html": [
       "-418.050161248958"
      ],
      "text/latex": [
       "-418.050161248958"
      ],
      "text/markdown": [
       "-418.050161248958"
      ],
      "text/plain": [
       "[1] -418.0502"
      ]
     },
     "metadata": {},
     "output_type": "display_data"
    },
    {
     "data": {
      "text/html": [
       "-2.5486929405726"
      ],
      "text/latex": [
       "-2.5486929405726"
      ],
      "text/markdown": [
       "-2.5486929405726"
      ],
      "text/plain": [
       "[1] -2.548693"
      ]
     },
     "metadata": {},
     "output_type": "display_data"
    },
    {
     "data": {
      "text/html": [
       "0.00853066341259345"
      ],
      "text/latex": [
       "0.00853066341259345"
      ],
      "text/markdown": [
       "0.00853066341259345"
      ],
      "text/plain": [
       "[1] 0.008530663"
      ]
     },
     "metadata": {},
     "output_type": "display_data"
    }
   ],
   "source": [
    "alpha = 0.01\n",
    "\n",
    "#CI\n",
    "var = (sp2)*((1/n1) + (1/n2))\n",
    "m = qt(alpha/2, dofT, lower.tail = TRUE) * sqrt(var)\n",
    "left = diffBar - m\n",
    "right = diffBar + m\n",
    "\n",
    "#test\n",
    "t_stat = (diffBar-diffMu)/sqrt(var)\n",
    "pvalue = pt(t_stat, dofT, lower.tail = FALSE)\n",
    "lowerCrit = qt(alpha, dofT, lower.tail = TRUE)*sqrt(var)+diffMu\n",
    "upperCrit = qt(alpha/2, dofT, lower.tail = FALSE)*sqrt(var)+diffMu\n",
    "\n",
    "\n",
    "left\n",
    "right\n",
    "t_stat\n",
    "1-pvalue"
   ]
  },
  {
   "cell_type": "code",
   "execution_count": null,
   "id": "south-influence",
   "metadata": {},
   "outputs": [],
   "source": [
    "#power and beta\n",
    "true_diffMu = -10\n",
    "power = pt((lowerCrit-true_diffMu)/sqrt(var), dof, lower.tail = TRUE)\n",
    "beta = 1 - power\n"
   ]
  },
  {
   "cell_type": "markdown",
   "id": "stopped-bunny",
   "metadata": {},
   "source": [
    "Paired data. T."
   ]
  },
  {
   "cell_type": "code",
   "execution_count": null,
   "id": "preliminary-double",
   "metadata": {},
   "outputs": [],
   "source": [
    "#bivariate data\n",
    "data1 <- c(4.2, 4.7, 6.6, 7.0, 6.7, 4.5, 5.7, 6.0, 7.4, 4.9, 6.1, 5.2) \n",
    "data2 <- c(4.1, 4.9, 6.2, 6.9, 6.8, 4.4, 5.7, 5.8, 6.9, 4.7, 6.0, 4.9)\n",
    "data = c()\n",
    "n1 = length(data1)\n",
    "n2 = length(data2)\n",
    "if (n1 != n2) {\n",
    "    print(\"length not the same\")\n",
    "}\n",
    "for (i in 1:n1) {\n",
    "    data <- c(data, data1[i]-data2[i])\n",
    "} \n"
   ]
  },
  {
   "cell_type": "code",
   "execution_count": 44,
   "id": "north-county",
   "metadata": {},
   "outputs": [
    {
     "data": {
      "text/html": [
       "8.6695360522415e-06"
      ],
      "text/latex": [
       "8.6695360522415e-06"
      ],
      "text/markdown": [
       "8.6695360522415e-06"
      ],
      "text/plain": [
       "[1] 8.669536e-06"
      ]
     },
     "metadata": {},
     "output_type": "display_data"
    }
   ],
   "source": [
    "diffMu = 0\n",
    "diffBar = 17.3#mean(data)\n",
    "s = sqrt(44) #sd(data) #bias correction?\n",
    "n = 10 #length(data)\n",
    "dof = n - 1\n",
    "\n",
    "#CI\n",
    "alpha = 0.05\n",
    "m = qt(1-alpha/2, dof) * s / sqrt(n)\n",
    "left = diffBar - m\n",
    "right = diffBar + m\n",
    "\n",
    "#test\n",
    "t_stat = (diffBar-diffMu)/(s/sqrt(n))\n",
    "pvalue = pt(t_stat, dof, lower.tail = FALSE)\n",
    "lowerCrit = qt(alpha, dof, lower.tail = TRUE)*sqrt(var)+diffMu\n",
    "upperCrit = qt(alpha/2, dof, lower.tail = FALSE)*sqrt(var)+diffMu\n",
    "\n",
    "pvalue"
   ]
  },
  {
   "cell_type": "code",
   "execution_count": 46,
   "id": "light-plain",
   "metadata": {},
   "outputs": [
    {
     "data": {
      "text/html": [
       "0.735674715740107"
      ],
      "text/latex": [
       "0.735674715740107"
      ],
      "text/markdown": [
       "0.735674715740107"
      ],
      "text/plain": [
       "[1] 0.7356747"
      ]
     },
     "metadata": {},
     "output_type": "display_data"
    }
   ],
   "source": [
    "#power and beta\n",
    "true_diffMu = -10\n",
    "power =  pt((lowerCrit-true_diffMu)/(s/sqrt(n)), dof, lower.tail = TRUE)\n",
    "beta = 1 - power\n",
    "power\n"
   ]
  },
  {
   "cell_type": "markdown",
   "id": "harmful-proxy",
   "metadata": {},
   "source": [
    "# Variance (Chi square)"
   ]
  },
  {
   "cell_type": "code",
   "execution_count": 2,
   "id": "patent-lender",
   "metadata": {},
   "outputs": [],
   "source": [
    "data <- c(10.2, 9.7, 10.1, 10.3, 10.1, 9.8, 9.9, 10.4, 10.3, 9.8)"
   ]
  },
  {
   "cell_type": "markdown",
   "id": "conceptual-turtle",
   "metadata": {},
   "source": [
    "Known mean"
   ]
  },
  {
   "cell_type": "code",
   "execution_count": null,
   "id": "neither-second",
   "metadata": {},
   "outputs": [],
   "source": [
    "#confidence interval\n",
    "mu = 5\n",
    "\n",
    "#m is the sum of xi - xbar, squared\n",
    "m = 0\n",
    "for (i in 1:n) {\n",
    "    m = m + (data1[i]-mu)^2\n",
    "} \n",
    "\n",
    "s2 = (1/(n-1))*(m)\n",
    "left = m/qchisq(alpha/2, dof, lower.tail = FALSE)\n",
    "right = m/qchisq(1-alpha/2, dof, lower.tail = FALSE)\n",
    "\n"
   ]
  },
  {
   "cell_type": "markdown",
   "id": "prescribed-hacker",
   "metadata": {},
   "source": [
    "Unknown mean"
   ]
  },
  {
   "cell_type": "code",
   "execution_count": 19,
   "id": "fallen-pocket",
   "metadata": {},
   "outputs": [
    {
     "data": {
      "text/html": [
       "0.881505564902764"
      ],
      "text/latex": [
       "0.881505564902764"
      ],
      "text/markdown": [
       "0.881505564902764"
      ],
      "text/plain": [
       "[1] 0.8815056"
      ]
     },
     "metadata": {},
     "output_type": "display_data"
    },
    {
     "data": {
      "text/html": [
       "7.09115106050684"
      ],
      "text/latex": [
       "7.09115106050684"
      ],
      "text/markdown": [
       "7.09115106050684"
      ],
      "text/plain": [
       "[1] 7.091151"
      ]
     },
     "metadata": {},
     "output_type": "display_data"
    }
   ],
   "source": [
    "s = 1.39 #sd(data) \n",
    "var = 0.03\n",
    "n = 9 #length(data) #23\n",
    "dof = n-1\n",
    "\n",
    "#confidence interval\n",
    "alpha = 0.05\n",
    "m = dof * s^2\n",
    "left = m/qchisq(alpha/2, dof, lower.tail = FALSE)\n",
    "right = m/qchisq(1-alpha/2, dof, lower.tail = FALSE)\n",
    "\n",
    "#test\n",
    "chisq_stat = (n-1)*(s^2)/var\n",
    "lowertail = TRUE\n",
    "\n",
    "pvalue = pchisq(chisq_stat, dof, lower.tail = lowertail)\n",
    "upperCrit = qchisq(alpha/2, dof)\n",
    "lowerCrit = qchisq(1-alpha/2, dof)\n",
    "\n",
    "left\n",
    "right\n"
   ]
  },
  {
   "cell_type": "markdown",
   "id": "juvenile-keeping",
   "metadata": {},
   "source": [
    "# Ratio of variances (F)"
   ]
  },
  {
   "cell_type": "code",
   "execution_count": null,
   "id": "greenhouse-retrieval",
   "metadata": {},
   "outputs": [],
   "source": [
    "#bivariate data\n",
    "data1 <- c(102,86,98,109,92) \n",
    "data2 <- c(81,165,97,134,92,87,114)"
   ]
  },
  {
   "cell_type": "code",
   "execution_count": null,
   "id": "devoted-happiness",
   "metadata": {},
   "outputs": [],
   "source": [
    "n1 = length(data1)\n",
    "s1 = sd(data1)\n",
    "\n",
    "n2 = length(data2)\n",
    "s2 = sd(data2)\n",
    "\n",
    "ratioOfVarSq = 1\n",
    "lowertail = FALSE\n",
    "\n",
    "alpha = 0.05\n",
    "\n",
    "var1 = s1^2\n",
    "var2 = s2^2\n",
    "dof1 = n1-1\n",
    "dof2 = n2-1\n",
    "\n",
    "ratio = (s1^2)/(s2^2)\n"
   ]
  },
  {
   "cell_type": "code",
   "execution_count": null,
   "id": "dynamic-surgery",
   "metadata": {},
   "outputs": [],
   "source": [
    "alpha = 0.05\n",
    "\n",
    "#CI (non square root)\n",
    "left = ratio/qf(alpha/2, dof1, dof2, lower.tail = FALSE)\n",
    "right = ratio*qf(alpha/2, dof2, dof1, lower.tail = FALSE)\n",
    "\n",
    "#testing var2/var1\n",
    "f = (var1/var2)*(1/ratioOfVarSq)\n",
    "pvalue = pf(f, dof1, dof2, lower.tail = lowertail)\n",
    "\n",
    "(1-pvalue)*2"
   ]
  },
  {
   "cell_type": "markdown",
   "id": "arbitrary-tutorial",
   "metadata": {},
   "source": [
    "# Sample size for estimation"
   ]
  },
  {
   "cell_type": "code",
   "execution_count": null,
   "id": "infectious-needle",
   "metadata": {},
   "outputs": [],
   "source": [
    "#size needed\n",
    "stdev = 0.0015\n",
    "alpha = 0.05\n",
    "width = 0.4\n",
    "error = 0.0005 #width/2\n",
    "n = (qnorm(1-alpha/2) * stdev / error) ^ 2\n",
    "\n",
    "n"
   ]
  },
  {
   "cell_type": "code",
   "execution_count": null,
   "id": "vocal-nelson",
   "metadata": {},
   "outputs": [],
   "source": []
  }
 ],
 "metadata": {
  "kernelspec": {
   "display_name": "R",
   "language": "R",
   "name": "ir"
  },
  "language_info": {
   "codemirror_mode": "r",
   "file_extension": ".r",
   "mimetype": "text/x-r-source",
   "name": "R",
   "pygments_lexer": "r",
   "version": "3.6.1"
  },
  "toc": {
   "base_numbering": 1,
   "nav_menu": {},
   "number_sections": true,
   "sideBar": true,
   "skip_h1_title": false,
   "title_cell": "Table of Contents",
   "title_sidebar": "Contents",
   "toc_cell": false,
   "toc_position": {
    "height": "calc(100% - 180px)",
    "left": "10px",
    "top": "150px",
    "width": "256px"
   },
   "toc_section_display": true,
   "toc_window_display": true
  },
  "varInspector": {
   "cols": {
    "lenName": 16,
    "lenType": 16,
    "lenVar": 40
   },
   "kernels_config": {
    "python": {
     "delete_cmd_postfix": "",
     "delete_cmd_prefix": "del ",
     "library": "var_list.py",
     "varRefreshCmd": "print(var_dic_list())"
    },
    "r": {
     "delete_cmd_postfix": ") ",
     "delete_cmd_prefix": "rm(",
     "library": "var_list.r",
     "varRefreshCmd": "cat(var_dic_list()) "
    }
   },
   "types_to_exclude": [
    "module",
    "function",
    "builtin_function_or_method",
    "instance",
    "_Feature"
   ],
   "window_display": false
  }
 },
 "nbformat": 4,
 "nbformat_minor": 5
}
